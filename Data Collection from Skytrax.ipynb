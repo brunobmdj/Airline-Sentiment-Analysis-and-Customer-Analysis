{
 "cells": [
  {
   "cell_type": "markdown",
   "id": "993aec46",
   "metadata": {},
   "source": [
    "# Data Collection\n",
    "\n",
    "* Here we focus on scraping the data from the web using BeautifulSoup and saving it as a csv file"
   ]
  },
  {
   "cell_type": "code",
   "execution_count": 1,
   "id": "4ef10d20",
   "metadata": {},
   "outputs": [],
   "source": [
    "from bs4 import BeautifulSoup\n",
    "import requests"
   ]
  },
  {
   "cell_type": "markdown",
   "id": "7300b707",
   "metadata": {},
   "source": [
    "Each of the below lists will be used to store relevant categorical information"
   ]
  },
  {
   "cell_type": "code",
   "execution_count": 3,
   "id": "bbb0ea22",
   "metadata": {},
   "outputs": [],
   "source": [
    "reviews = []\n",
    "star_rating = []\n",
    "date = []\n",
    "country = []"
   ]
  },
  {
   "cell_type": "code",
   "execution_count": 8,
   "id": "b62e5dd3",
   "metadata": {},
   "outputs": [
    {
     "name": "stdout",
     "output_type": "stream",
     "text": [
      "Error on page 31\n",
      "Error on page 32\n",
      "Error on page 32\n",
      "Error on page 34\n",
      "Error on page 35\n"
     ]
    }
   ],
   "source": [
    "for i in range(1,37):\n",
    "    data = requests.get(f\"https://www.airlinequality.com/airline-reviews/british-airways/page/{i}/?sortby=post_date%3ADesc&pagesize=100\")\n",
    "    soup = BeautifulSoup(data.content, \"html.parser\")\n",
    "    \n",
    "    #reviews\n",
    "    for item in soup.find_all(\"div\", class_=\"text_content\"):\n",
    "        try:\n",
    "            reviews.append(item.text)\n",
    "        except:\n",
    "            print(f\"Error on page {i}\")\n",
    "            reviews.append(\"None\")\n",
    "            \n",
    "    #stars\n",
    "    for item in soup.find_all(\"div\", class_ = \"rating-10\"):\n",
    "        try:\n",
    "            star_rating.append(item.span.text)\n",
    "        except:\n",
    "            print(f\"Error on page {i}\")\n",
    "            star_rating.append(\"None\")\n",
    "            \n",
    "    #date\n",
    "    for item in soup.find_all(\"time\"):\n",
    "        try:\n",
    "            date.append(item.text)\n",
    "        except:\n",
    "            print(f\"Error on page {i}\")\n",
    "            date.append(\"None\")\n",
    "        \n",
    "    #country\n",
    "    for item in soup.find_all(\"h3\"):\n",
    "        try:\n",
    "            country.append(item.span.next_sibling.text.strip(\" ()\"))\n",
    "        except:\n",
    "            print(f\"Error on page {i}\")\n",
    "            country.append(\"None\")\n",
    "        "
   ]
  },
  {
   "cell_type": "code",
   "execution_count": 9,
   "id": "e6465b05",
   "metadata": {},
   "outputs": [
    {
     "data": {
      "text/plain": [
       "3588"
      ]
     },
     "execution_count": 9,
     "metadata": {},
     "output_type": "execute_result"
    }
   ],
   "source": [
    "len(reviews)"
   ]
  },
  {
   "cell_type": "code",
   "execution_count": 22,
   "id": "824d8dd4",
   "metadata": {},
   "outputs": [
    {
     "data": {
      "text/plain": [
       "3588"
      ]
     },
     "execution_count": 22,
     "metadata": {},
     "output_type": "execute_result"
    }
   ],
   "source": [
    "#check the length \n",
    "stars = star_rating[1:3589]\n",
    "len(stars)"
   ]
  },
  {
   "cell_type": "code",
   "execution_count": 11,
   "id": "fe5e3dda",
   "metadata": {},
   "outputs": [
    {
     "data": {
      "text/plain": [
       "3588"
      ]
     },
     "execution_count": 11,
     "metadata": {},
     "output_type": "execute_result"
    }
   ],
   "source": [
    "len(country)"
   ]
  },
  {
   "cell_type": "code",
   "execution_count": 12,
   "id": "6d3049cf",
   "metadata": {},
   "outputs": [
    {
     "data": {
      "text/plain": [
       "3588"
      ]
     },
     "execution_count": 12,
     "metadata": {},
     "output_type": "execute_result"
    }
   ],
   "source": [
    "len(date)"
   ]
  },
  {
   "cell_type": "markdown",
   "id": "f286a231",
   "metadata": {},
   "source": [
    "# Creaing  a dataframe from these collected lists of data"
   ]
  },
  {
   "cell_type": "code",
   "execution_count": 13,
   "id": "4c2b8480",
   "metadata": {},
   "outputs": [],
   "source": [
    "import pandas as pd"
   ]
  },
  {
   "cell_type": "code",
   "execution_count": 23,
   "id": "092dc0d8",
   "metadata": {},
   "outputs": [
    {
     "data": {
      "text/html": [
       "<div>\n",
       "<style scoped>\n",
       "    .dataframe tbody tr th:only-of-type {\n",
       "        vertical-align: middle;\n",
       "    }\n",
       "\n",
       "    .dataframe tbody tr th {\n",
       "        vertical-align: top;\n",
       "    }\n",
       "\n",
       "    .dataframe thead th {\n",
       "        text-align: right;\n",
       "    }\n",
       "</style>\n",
       "<table border=\"1\" class=\"dataframe\">\n",
       "  <thead>\n",
       "    <tr style=\"text-align: right;\">\n",
       "      <th></th>\n",
       "      <th>reviews</th>\n",
       "      <th>stars</th>\n",
       "      <th>date</th>\n",
       "      <th>country</th>\n",
       "    </tr>\n",
       "  </thead>\n",
       "  <tbody>\n",
       "    <tr>\n",
       "      <th>0</th>\n",
       "      <td>✅ Trip Verified |  My flight on on 12 May 2023...</td>\n",
       "      <td>1</td>\n",
       "      <td>29th June 2023</td>\n",
       "      <td>United Arab Emirates</td>\n",
       "    </tr>\n",
       "    <tr>\n",
       "      <th>1</th>\n",
       "      <td>Not Verified |  Cairo is a 5 hour flight and B...</td>\n",
       "      <td>2</td>\n",
       "      <td>29th June 2023</td>\n",
       "      <td>United Kingdom</td>\n",
       "    </tr>\n",
       "    <tr>\n",
       "      <th>2</th>\n",
       "      <td>✅ Trip Verified |  After travelling London to ...</td>\n",
       "      <td>1</td>\n",
       "      <td>27th June 2023</td>\n",
       "      <td>United Kingdom</td>\n",
       "    </tr>\n",
       "    <tr>\n",
       "      <th>3</th>\n",
       "      <td>✅ Trip Verified |  My luggage was mis-tagged i...</td>\n",
       "      <td>1</td>\n",
       "      <td>27th June 2023</td>\n",
       "      <td>United States</td>\n",
       "    </tr>\n",
       "    <tr>\n",
       "      <th>4</th>\n",
       "      <td>✅ Trip Verified |  The airline lost my luggage...</td>\n",
       "      <td>1</td>\n",
       "      <td>25th June 2023</td>\n",
       "      <td>United States</td>\n",
       "    </tr>\n",
       "  </tbody>\n",
       "</table>\n",
       "</div>"
      ],
      "text/plain": [
       "                                             reviews stars            date  \\\n",
       "0  ✅ Trip Verified |  My flight on on 12 May 2023...     1  29th June 2023   \n",
       "1  Not Verified |  Cairo is a 5 hour flight and B...     2  29th June 2023   \n",
       "2  ✅ Trip Verified |  After travelling London to ...     1  27th June 2023   \n",
       "3  ✅ Trip Verified |  My luggage was mis-tagged i...     1  27th June 2023   \n",
       "4  ✅ Trip Verified |  The airline lost my luggage...     1  25th June 2023   \n",
       "\n",
       "                country  \n",
       "0  United Arab Emirates  \n",
       "1        United Kingdom  \n",
       "2        United Kingdom  \n",
       "3         United States  \n",
       "4         United States  "
      ]
     },
     "execution_count": 23,
     "metadata": {},
     "output_type": "execute_result"
    }
   ],
   "source": [
    "df = pd.DataFrame({\"reviews\":reviews,\"stars\": stars, \"date\":date, \"country\": country})\n",
    "df.head()"
   ]
  },
  {
   "cell_type": "code",
   "execution_count": 24,
   "id": "a9d68e65",
   "metadata": {},
   "outputs": [
    {
     "data": {
      "text/plain": [
       "(3588, 4)"
      ]
     },
     "execution_count": 24,
     "metadata": {},
     "output_type": "execute_result"
    }
   ],
   "source": [
    "df.shape"
   ]
  },
  {
   "cell_type": "markdown",
   "id": "baeca027",
   "metadata": {},
   "source": [
    "Now we save the data as a csv"
   ]
  },
  {
   "cell_type": "code",
   "execution_count": 25,
   "id": "27878868",
   "metadata": {},
   "outputs": [],
   "source": [
    "import os\n",
    "\n",
    "cwd = os.getcwd()\n",
    "df.to_csv(cwd+ \"/BA_review_forage.csv\")"
   ]
  },
  {
   "cell_type": "code",
   "execution_count": null,
   "id": "1060535a",
   "metadata": {},
   "outputs": [],
   "source": []
  }
 ],
 "metadata": {
  "kernelspec": {
   "display_name": "Python 3 (ipykernel)",
   "language": "python",
   "name": "python3"
  },
  "language_info": {
   "codemirror_mode": {
    "name": "ipython",
    "version": 3
   },
   "file_extension": ".py",
   "mimetype": "text/x-python",
   "name": "python",
   "nbconvert_exporter": "python",
   "pygments_lexer": "ipython3",
   "version": "3.10.9"
  }
 },
 "nbformat": 4,
 "nbformat_minor": 5
}
