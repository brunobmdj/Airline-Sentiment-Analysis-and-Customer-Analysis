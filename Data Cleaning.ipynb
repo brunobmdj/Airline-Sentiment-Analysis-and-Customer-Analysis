{
 "cells": [
  {
   "cell_type": "markdown",
   "id": "a8ac6f6b",
   "metadata": {},
   "source": [
    "# Data Cleaning\n",
    "\n",
    "* Now the data mining is complete\n",
    "* Here we focus on preparing the data for analysis\n",
    "* Due to a low count of rows '3588', we will take best effort to not loose/delete any data"
   ]
  },
  {
   "cell_type": "code",
   "execution_count": 1,
   "id": "fecd1194",
   "metadata": {},
   "outputs": [],
   "source": [
    "import pandas as pd\n",
    "import seaborn as sns\n",
    "from warnings import filterwarnings\n",
    "filterwarnings(\"ignore\")"
   ]
  },
  {
   "cell_type": "markdown",
   "id": "eaf3eae1",
   "metadata": {},
   "source": [
    "# Reading csv"
   ]
  },
  {
   "cell_type": "code",
   "execution_count": 2,
   "id": "11a8eef0",
   "metadata": {},
   "outputs": [
    {
     "data": {
      "text/html": [
       "<div>\n",
       "<style scoped>\n",
       "    .dataframe tbody tr th:only-of-type {\n",
       "        vertical-align: middle;\n",
       "    }\n",
       "\n",
       "    .dataframe tbody tr th {\n",
       "        vertical-align: top;\n",
       "    }\n",
       "\n",
       "    .dataframe thead th {\n",
       "        text-align: right;\n",
       "    }\n",
       "</style>\n",
       "<table border=\"1\" class=\"dataframe\">\n",
       "  <thead>\n",
       "    <tr style=\"text-align: right;\">\n",
       "      <th></th>\n",
       "      <th>Unnamed: 0</th>\n",
       "      <th>reviews</th>\n",
       "      <th>stars</th>\n",
       "      <th>date</th>\n",
       "      <th>country</th>\n",
       "    </tr>\n",
       "  </thead>\n",
       "  <tbody>\n",
       "    <tr>\n",
       "      <th>0</th>\n",
       "      <td>0</td>\n",
       "      <td>✅ Trip Verified |  My flight on on 12 May 2023...</td>\n",
       "      <td>1</td>\n",
       "      <td>29th June 2023</td>\n",
       "      <td>United Arab Emirates</td>\n",
       "    </tr>\n",
       "    <tr>\n",
       "      <th>1</th>\n",
       "      <td>1</td>\n",
       "      <td>Not Verified |  Cairo is a 5 hour flight and B...</td>\n",
       "      <td>2</td>\n",
       "      <td>29th June 2023</td>\n",
       "      <td>United Kingdom</td>\n",
       "    </tr>\n",
       "    <tr>\n",
       "      <th>2</th>\n",
       "      <td>2</td>\n",
       "      <td>✅ Trip Verified |  After travelling London to ...</td>\n",
       "      <td>1</td>\n",
       "      <td>27th June 2023</td>\n",
       "      <td>United Kingdom</td>\n",
       "    </tr>\n",
       "    <tr>\n",
       "      <th>3</th>\n",
       "      <td>3</td>\n",
       "      <td>✅ Trip Verified |  My luggage was mis-tagged i...</td>\n",
       "      <td>1</td>\n",
       "      <td>27th June 2023</td>\n",
       "      <td>United States</td>\n",
       "    </tr>\n",
       "    <tr>\n",
       "      <th>4</th>\n",
       "      <td>4</td>\n",
       "      <td>✅ Trip Verified |  The airline lost my luggage...</td>\n",
       "      <td>1</td>\n",
       "      <td>25th June 2023</td>\n",
       "      <td>United States</td>\n",
       "    </tr>\n",
       "  </tbody>\n",
       "</table>\n",
       "</div>"
      ],
      "text/plain": [
       "   Unnamed: 0                                            reviews stars  \\\n",
       "0           0  ✅ Trip Verified |  My flight on on 12 May 2023...     1   \n",
       "1           1  Not Verified |  Cairo is a 5 hour flight and B...     2   \n",
       "2           2  ✅ Trip Verified |  After travelling London to ...     1   \n",
       "3           3  ✅ Trip Verified |  My luggage was mis-tagged i...     1   \n",
       "4           4  ✅ Trip Verified |  The airline lost my luggage...     1   \n",
       "\n",
       "             date               country  \n",
       "0  29th June 2023  United Arab Emirates  \n",
       "1  29th June 2023        United Kingdom  \n",
       "2  27th June 2023        United Kingdom  \n",
       "3  27th June 2023         United States  \n",
       "4  25th June 2023         United States  "
      ]
     },
     "execution_count": 2,
     "metadata": {},
     "output_type": "execute_result"
    }
   ],
   "source": [
    "df = pd.read_csv('BA_review_forage.csv')\n",
    "df.head()"
   ]
  },
  {
   "cell_type": "code",
   "execution_count": 3,
   "id": "ed6bfda2",
   "metadata": {},
   "outputs": [],
   "source": [
    "df = df.drop(['Unnamed: 0'], axis=1)"
   ]
  },
  {
   "cell_type": "code",
   "execution_count": 4,
   "id": "dca32fc4",
   "metadata": {},
   "outputs": [
    {
     "data": {
      "text/html": [
       "<div>\n",
       "<style scoped>\n",
       "    .dataframe tbody tr th:only-of-type {\n",
       "        vertical-align: middle;\n",
       "    }\n",
       "\n",
       "    .dataframe tbody tr th {\n",
       "        vertical-align: top;\n",
       "    }\n",
       "\n",
       "    .dataframe thead th {\n",
       "        text-align: right;\n",
       "    }\n",
       "</style>\n",
       "<table border=\"1\" class=\"dataframe\">\n",
       "  <thead>\n",
       "    <tr style=\"text-align: right;\">\n",
       "      <th></th>\n",
       "      <th>reviews</th>\n",
       "      <th>stars</th>\n",
       "      <th>date</th>\n",
       "      <th>country</th>\n",
       "    </tr>\n",
       "  </thead>\n",
       "  <tbody>\n",
       "    <tr>\n",
       "      <th>0</th>\n",
       "      <td>✅ Trip Verified |  My flight on on 12 May 2023...</td>\n",
       "      <td>1</td>\n",
       "      <td>29th June 2023</td>\n",
       "      <td>United Arab Emirates</td>\n",
       "    </tr>\n",
       "    <tr>\n",
       "      <th>1</th>\n",
       "      <td>Not Verified |  Cairo is a 5 hour flight and B...</td>\n",
       "      <td>2</td>\n",
       "      <td>29th June 2023</td>\n",
       "      <td>United Kingdom</td>\n",
       "    </tr>\n",
       "    <tr>\n",
       "      <th>2</th>\n",
       "      <td>✅ Trip Verified |  After travelling London to ...</td>\n",
       "      <td>1</td>\n",
       "      <td>27th June 2023</td>\n",
       "      <td>United Kingdom</td>\n",
       "    </tr>\n",
       "    <tr>\n",
       "      <th>3</th>\n",
       "      <td>✅ Trip Verified |  My luggage was mis-tagged i...</td>\n",
       "      <td>1</td>\n",
       "      <td>27th June 2023</td>\n",
       "      <td>United States</td>\n",
       "    </tr>\n",
       "    <tr>\n",
       "      <th>4</th>\n",
       "      <td>✅ Trip Verified |  The airline lost my luggage...</td>\n",
       "      <td>1</td>\n",
       "      <td>25th June 2023</td>\n",
       "      <td>United States</td>\n",
       "    </tr>\n",
       "  </tbody>\n",
       "</table>\n",
       "</div>"
      ],
      "text/plain": [
       "                                             reviews stars            date  \\\n",
       "0  ✅ Trip Verified |  My flight on on 12 May 2023...     1  29th June 2023   \n",
       "1  Not Verified |  Cairo is a 5 hour flight and B...     2  29th June 2023   \n",
       "2  ✅ Trip Verified |  After travelling London to ...     1  27th June 2023   \n",
       "3  ✅ Trip Verified |  My luggage was mis-tagged i...     1  27th June 2023   \n",
       "4  ✅ Trip Verified |  The airline lost my luggage...     1  25th June 2023   \n",
       "\n",
       "                country  \n",
       "0  United Arab Emirates  \n",
       "1        United Kingdom  \n",
       "2        United Kingdom  \n",
       "3         United States  \n",
       "4         United States  "
      ]
     },
     "execution_count": 4,
     "metadata": {},
     "output_type": "execute_result"
    }
   ],
   "source": [
    "df.head()"
   ]
  },
  {
   "cell_type": "code",
   "execution_count": 5,
   "id": "a56ed34e",
   "metadata": {},
   "outputs": [
    {
     "data": {
      "text/plain": [
       "(3588, 4)"
      ]
     },
     "execution_count": 5,
     "metadata": {},
     "output_type": "execute_result"
    }
   ],
   "source": [
    "df.shape"
   ]
  },
  {
   "cell_type": "code",
   "execution_count": 6,
   "id": "257c06ac",
   "metadata": {},
   "outputs": [
    {
     "data": {
      "text/plain": [
       "'✅ Trip Verified |  My flight on on 12 May 2023 got delayed an hour and 25 minutes which resulted in the cancellation of our connection flight on 12 May 2023 as the arrival of the first flight was only 15 before the departure of the second connecting flight. We contacted the BA call center multiple times to make changes to the flight in order to still arrive on the 12th of May to KEF airport through different flights. The team tried to find a solution but none made sense, not even on the next day the 13th of May 2023. We have made full booking of accommodation, car rental, activities etc for the vacation in Iceland. The cancellation of of these booking is not refundable. The call center suggested that we cancel the flight for a full refund, then claim compensation for the delay and difference in airfare cost and other non refundable bookings due to the delay and cancellation of our flight. British Airways responded to the claim after a month with no compensation at all, even though we paid additional $600 on new bookings and additional charges. The refund of the cancelled flight took more than a month with multiple calla to follow up almost every week. I was promised to get refund on the first call but later I found out it was not processed properly. Every-time I call the agent ask questions about why flight was canceled etc which is annoying when my understanding everything was under process for payment. After multiple calls I was refunded partially and not the full amount which is even bizarre from a company of this level. I had to make more calls to get the remaining balance refunded. The whole experience was terrible.'"
      ]
     },
     "execution_count": 6,
     "metadata": {},
     "output_type": "execute_result"
    }
   ],
   "source": [
    "df['reviews'][0]"
   ]
  },
  {
   "cell_type": "markdown",
   "id": "e273678f",
   "metadata": {},
   "source": [
    "# Normalising the text"
   ]
  },
  {
   "cell_type": "code",
   "execution_count": 7,
   "id": "155a7769",
   "metadata": {},
   "outputs": [],
   "source": [
    "from bs4 import BeautifulSoup\n",
    "import spacy\n",
    "import nltk\n",
    "from nltk.tokenize.toktok import ToktokTokenizer\n",
    "import re\n",
    "import unicodedata"
   ]
  },
  {
   "cell_type": "code",
   "execution_count": 8,
   "id": "d3efabdf",
   "metadata": {},
   "outputs": [],
   "source": [
    "nlp = spacy.load('en_core_web_sm')"
   ]
  },
  {
   "cell_type": "code",
   "execution_count": 9,
   "id": "9007de14",
   "metadata": {},
   "outputs": [
    {
     "name": "stderr",
     "output_type": "stream",
     "text": [
      "[nltk_data] Downloading package stopwords to\n",
      "[nltk_data]     C:\\Users\\USER\\AppData\\Roaming\\nltk_data...\n",
      "[nltk_data]   Package stopwords is already up-to-date!\n"
     ]
    },
    {
     "data": {
      "text/plain": [
       "True"
      ]
     },
     "execution_count": 9,
     "metadata": {},
     "output_type": "execute_result"
    }
   ],
   "source": [
    "nltk.download('stopwords')"
   ]
  },
  {
   "cell_type": "code",
   "execution_count": 10,
   "id": "6e2cf871",
   "metadata": {},
   "outputs": [],
   "source": [
    "tokenizer = ToktokTokenizer()\n",
    "stopword_list = nltk.corpus.stopwords.words('english')\n",
    "stopword_list.remove('no')\n",
    "stopword_list.remove('not')"
   ]
  },
  {
   "cell_type": "markdown",
   "id": "23558320",
   "metadata": {},
   "source": [
    "Remove HTML tags"
   ]
  },
  {
   "cell_type": "code",
   "execution_count": 11,
   "id": "85f93a69",
   "metadata": {},
   "outputs": [],
   "source": [
    "def strip_html_tags(text):\n",
    "    soup = BeautifulSoup(text, \"html.parser\")\n",
    "    stripped_text = soup.get_text()\n",
    "    return stripped_text"
   ]
  },
  {
   "cell_type": "markdown",
   "id": "fed91837",
   "metadata": {},
   "source": [
    "Remove accented characters"
   ]
  },
  {
   "cell_type": "code",
   "execution_count": 12,
   "id": "7d2ec898",
   "metadata": {},
   "outputs": [],
   "source": [
    "def remove_accented_chars(text):\n",
    "    text = unicodedata.normalize('NFKD', text).encode('ascii', 'ignore').decode('utf-8', 'ignore')\n",
    "    return text"
   ]
  },
  {
   "cell_type": "markdown",
   "id": "9b22119b",
   "metadata": {},
   "source": [
    "Remove special characters"
   ]
  },
  {
   "cell_type": "code",
   "execution_count": 13,
   "id": "fb0bd405",
   "metadata": {},
   "outputs": [],
   "source": [
    "def remove_special_characters(text, remove_digits=False):\n",
    "    pattern = r'[^a-zA-z0-9\\s]' if not remove_digits else r'[^a-zA-z\\s]'\n",
    "    text = re.sub(pattern, '', text)\n",
    "    return text"
   ]
  },
  {
   "cell_type": "markdown",
   "id": "e608ff7f",
   "metadata": {},
   "source": [
    "Lemmatization"
   ]
  },
  {
   "cell_type": "code",
   "execution_count": 14,
   "id": "245e7cdc",
   "metadata": {},
   "outputs": [],
   "source": [
    "def lemmatize_text(text):\n",
    "    text = nlp(text)\n",
    "    text = ' '.join([word.lemma_ if word.lemma_ != '-PRON-' else word.text for word in text])\n",
    "    return text"
   ]
  },
  {
   "cell_type": "markdown",
   "id": "b327d10a",
   "metadata": {},
   "source": [
    "Stemming"
   ]
  },
  {
   "cell_type": "code",
   "execution_count": 15,
   "id": "00683c6d",
   "metadata": {},
   "outputs": [],
   "source": [
    "def simple_stemmer(text):\n",
    "    ps = nltk.porter.PorterStemmer()\n",
    "    text = ' '.join([ps.stem(word) for word in text.split()])\n",
    "    return text"
   ]
  },
  {
   "cell_type": "markdown",
   "id": "7f16401f",
   "metadata": {},
   "source": [
    "Removing Stopwords"
   ]
  },
  {
   "cell_type": "code",
   "execution_count": 17,
   "id": "4bd9bd92",
   "metadata": {},
   "outputs": [],
   "source": [
    "def remove_stopwords(text, is_lower_case=False):\n",
    "    tokens = tokenizer.tokenize(text)\n",
    "    tokens = [token.strip() for token in tokens]\n",
    "    if is_lower_case:\n",
    "        filtered_tokens = [token for token in tokens if token not in stopword_list]\n",
    "    else:\n",
    "        filtered_tokens = [token for token in tokens if token.lower() not in stopword_list]\n",
    "    filtered_text = ' '.join(filtered_tokens)    \n",
    "    return filtered_text"
   ]
  },
  {
   "cell_type": "markdown",
   "id": "5efb5158",
   "metadata": {},
   "source": [
    "# Text Normalization"
   ]
  },
  {
   "cell_type": "code",
   "execution_count": 18,
   "id": "a1ffe466",
   "metadata": {},
   "outputs": [],
   "source": [
    "def normalize_corpus(corpus, html_stripping=True, contraction_expansion=True,\n",
    "                     accented_char_removal=True, text_lower_case=True, \n",
    "                     text_lemmatization=True, special_char_removal=True, \n",
    "                     stopword_removal=True, remove_digits=True):\n",
    "    \n",
    "    normalized_corpus = []\n",
    "    # normalize each document in the corpus\n",
    "    \n",
    "    for doc in corpus:\n",
    "        \n",
    "        # strip HTML\n",
    "        if html_stripping:\n",
    "            doc = strip_html_tags(doc)\n",
    "            \n",
    "        # remove accented characters\n",
    "        if accented_char_removal:\n",
    "            doc = remove_accented_chars(doc)\n",
    "            \n",
    "        # lowercase the text    \n",
    "        if text_lower_case:\n",
    "            doc = doc.lower()\n",
    "            \n",
    "        # remove extra newlines\n",
    "        doc = re.sub(r'[\\r|\\n|\\r\\n]+', ' ',doc)\n",
    "        \n",
    "        # lemmatize text\n",
    "        if text_lemmatization:\n",
    "            doc = lemmatize_text(doc)\n",
    "            \n",
    "        # remove special characters and\\or digits    \n",
    "        if special_char_removal:\n",
    "            # insert spaces between special characters to isolate them    \n",
    "            special_char_pattern = re.compile(r'([{.(-)!}])')\n",
    "            doc = special_char_pattern.sub(\" \\\\1 \", doc)\n",
    "            doc = remove_special_characters(doc, remove_digits=remove_digits) \n",
    "            \n",
    "        # remove extra whitespace\n",
    "        doc = re.sub(' +', ' ', doc)\n",
    "        \n",
    "        # remove stopwords\n",
    "        if stopword_removal:\n",
    "            doc = remove_stopwords(doc, is_lower_case=text_lower_case)\n",
    "            \n",
    "        normalized_corpus.append(doc)\n",
    "        \n",
    "    return normalized_corpus"
   ]
  },
  {
   "cell_type": "code",
   "execution_count": 19,
   "id": "691ac483",
   "metadata": {},
   "outputs": [],
   "source": [
    "df['corpus'] = normalize_corpus(df['reviews'])"
   ]
  },
  {
   "cell_type": "code",
   "execution_count": 20,
   "id": "3f84b3f0",
   "metadata": {},
   "outputs": [
    {
     "data": {
      "text/html": [
       "<div>\n",
       "<style scoped>\n",
       "    .dataframe tbody tr th:only-of-type {\n",
       "        vertical-align: middle;\n",
       "    }\n",
       "\n",
       "    .dataframe tbody tr th {\n",
       "        vertical-align: top;\n",
       "    }\n",
       "\n",
       "    .dataframe thead th {\n",
       "        text-align: right;\n",
       "    }\n",
       "</style>\n",
       "<table border=\"1\" class=\"dataframe\">\n",
       "  <thead>\n",
       "    <tr style=\"text-align: right;\">\n",
       "      <th></th>\n",
       "      <th>reviews</th>\n",
       "      <th>stars</th>\n",
       "      <th>date</th>\n",
       "      <th>country</th>\n",
       "      <th>corpus</th>\n",
       "    </tr>\n",
       "  </thead>\n",
       "  <tbody>\n",
       "    <tr>\n",
       "      <th>0</th>\n",
       "      <td>✅ Trip Verified |  My flight on on 12 May 2023...</td>\n",
       "      <td>1</td>\n",
       "      <td>29th June 2023</td>\n",
       "      <td>United Arab Emirates</td>\n",
       "      <td>trip verify flight may got delay hour minute r...</td>\n",
       "    </tr>\n",
       "    <tr>\n",
       "      <th>1</th>\n",
       "      <td>Not Verified |  Cairo is a 5 hour flight and B...</td>\n",
       "      <td>2</td>\n",
       "      <td>29th June 2023</td>\n",
       "      <td>United Kingdom</td>\n",
       "      <td>not verify cairo hour flight ba consider short...</td>\n",
       "    </tr>\n",
       "    <tr>\n",
       "      <th>2</th>\n",
       "      <td>✅ Trip Verified |  After travelling London to ...</td>\n",
       "      <td>1</td>\n",
       "      <td>27th June 2023</td>\n",
       "      <td>United Kingdom</td>\n",
       "      <td>trip verify travel london madrid british airwa...</td>\n",
       "    </tr>\n",
       "    <tr>\n",
       "      <th>3</th>\n",
       "      <td>✅ Trip Verified |  My luggage was mis-tagged i...</td>\n",
       "      <td>1</td>\n",
       "      <td>27th June 2023</td>\n",
       "      <td>United States</td>\n",
       "      <td>trip verify luggage mis tag dallas way cairo v...</td>\n",
       "    </tr>\n",
       "    <tr>\n",
       "      <th>4</th>\n",
       "      <td>✅ Trip Verified |  The airline lost my luggage...</td>\n",
       "      <td>1</td>\n",
       "      <td>25th June 2023</td>\n",
       "      <td>United States</td>\n",
       "      <td>trip verify airline lose luggage absolutely aw...</td>\n",
       "    </tr>\n",
       "  </tbody>\n",
       "</table>\n",
       "</div>"
      ],
      "text/plain": [
       "                                             reviews stars            date  \\\n",
       "0  ✅ Trip Verified |  My flight on on 12 May 2023...     1  29th June 2023   \n",
       "1  Not Verified |  Cairo is a 5 hour flight and B...     2  29th June 2023   \n",
       "2  ✅ Trip Verified |  After travelling London to ...     1  27th June 2023   \n",
       "3  ✅ Trip Verified |  My luggage was mis-tagged i...     1  27th June 2023   \n",
       "4  ✅ Trip Verified |  The airline lost my luggage...     1  25th June 2023   \n",
       "\n",
       "                country                                             corpus  \n",
       "0  United Arab Emirates  trip verify flight may got delay hour minute r...  \n",
       "1        United Kingdom  not verify cairo hour flight ba consider short...  \n",
       "2        United Kingdom  trip verify travel london madrid british airwa...  \n",
       "3         United States  trip verify luggage mis tag dallas way cairo v...  \n",
       "4         United States  trip verify airline lose luggage absolutely aw...  "
      ]
     },
     "execution_count": 20,
     "metadata": {},
     "output_type": "execute_result"
    }
   ],
   "source": [
    "df.head()"
   ]
  },
  {
   "cell_type": "markdown",
   "id": "574cd438",
   "metadata": {},
   "source": [
    "# Cleaning"
   ]
  },
  {
   "cell_type": "markdown",
   "id": "5a9a72ab",
   "metadata": {},
   "source": [
    "Date Column"
   ]
  },
  {
   "cell_type": "code",
   "execution_count": 21,
   "id": "da6f54e9",
   "metadata": {},
   "outputs": [],
   "source": [
    "# Changing the date dtype to useable format\n",
    "\n",
    "df['date'] = pd.to_datetime(df['date'])"
   ]
  },
  {
   "cell_type": "code",
   "execution_count": 22,
   "id": "7b51c37e",
   "metadata": {},
   "outputs": [
    {
     "data": {
      "text/html": [
       "<div>\n",
       "<style scoped>\n",
       "    .dataframe tbody tr th:only-of-type {\n",
       "        vertical-align: middle;\n",
       "    }\n",
       "\n",
       "    .dataframe tbody tr th {\n",
       "        vertical-align: top;\n",
       "    }\n",
       "\n",
       "    .dataframe thead th {\n",
       "        text-align: right;\n",
       "    }\n",
       "</style>\n",
       "<table border=\"1\" class=\"dataframe\">\n",
       "  <thead>\n",
       "    <tr style=\"text-align: right;\">\n",
       "      <th></th>\n",
       "      <th>reviews</th>\n",
       "      <th>stars</th>\n",
       "      <th>date</th>\n",
       "      <th>country</th>\n",
       "      <th>corpus</th>\n",
       "    </tr>\n",
       "  </thead>\n",
       "  <tbody>\n",
       "    <tr>\n",
       "      <th>0</th>\n",
       "      <td>✅ Trip Verified |  My flight on on 12 May 2023...</td>\n",
       "      <td>1</td>\n",
       "      <td>2023-06-29</td>\n",
       "      <td>United Arab Emirates</td>\n",
       "      <td>trip verify flight may got delay hour minute r...</td>\n",
       "    </tr>\n",
       "    <tr>\n",
       "      <th>1</th>\n",
       "      <td>Not Verified |  Cairo is a 5 hour flight and B...</td>\n",
       "      <td>2</td>\n",
       "      <td>2023-06-29</td>\n",
       "      <td>United Kingdom</td>\n",
       "      <td>not verify cairo hour flight ba consider short...</td>\n",
       "    </tr>\n",
       "    <tr>\n",
       "      <th>2</th>\n",
       "      <td>✅ Trip Verified |  After travelling London to ...</td>\n",
       "      <td>1</td>\n",
       "      <td>2023-06-27</td>\n",
       "      <td>United Kingdom</td>\n",
       "      <td>trip verify travel london madrid british airwa...</td>\n",
       "    </tr>\n",
       "    <tr>\n",
       "      <th>3</th>\n",
       "      <td>✅ Trip Verified |  My luggage was mis-tagged i...</td>\n",
       "      <td>1</td>\n",
       "      <td>2023-06-27</td>\n",
       "      <td>United States</td>\n",
       "      <td>trip verify luggage mis tag dallas way cairo v...</td>\n",
       "    </tr>\n",
       "    <tr>\n",
       "      <th>4</th>\n",
       "      <td>✅ Trip Verified |  The airline lost my luggage...</td>\n",
       "      <td>1</td>\n",
       "      <td>2023-06-25</td>\n",
       "      <td>United States</td>\n",
       "      <td>trip verify airline lose luggage absolutely aw...</td>\n",
       "    </tr>\n",
       "  </tbody>\n",
       "</table>\n",
       "</div>"
      ],
      "text/plain": [
       "                                             reviews stars       date  \\\n",
       "0  ✅ Trip Verified |  My flight on on 12 May 2023...     1 2023-06-29   \n",
       "1  Not Verified |  Cairo is a 5 hour flight and B...     2 2023-06-29   \n",
       "2  ✅ Trip Verified |  After travelling London to ...     1 2023-06-27   \n",
       "3  ✅ Trip Verified |  My luggage was mis-tagged i...     1 2023-06-27   \n",
       "4  ✅ Trip Verified |  The airline lost my luggage...     1 2023-06-25   \n",
       "\n",
       "                country                                             corpus  \n",
       "0  United Arab Emirates  trip verify flight may got delay hour minute r...  \n",
       "1        United Kingdom  not verify cairo hour flight ba consider short...  \n",
       "2        United Kingdom  trip verify travel london madrid british airwa...  \n",
       "3         United States  trip verify luggage mis tag dallas way cairo v...  \n",
       "4         United States  trip verify airline lose luggage absolutely aw...  "
      ]
     },
     "execution_count": 22,
     "metadata": {},
     "output_type": "execute_result"
    }
   ],
   "source": [
    "df.head()"
   ]
  },
  {
   "cell_type": "markdown",
   "id": "ff433f47",
   "metadata": {},
   "source": [
    "Star column"
   ]
  },
  {
   "cell_type": "code",
   "execution_count": 23,
   "id": "850f6930",
   "metadata": {},
   "outputs": [
    {
     "data": {
      "text/plain": [
       "array(['1', '2', '4', '7', '3', '9', '10', '5', '8',\n",
       "       '\\n\\t\\t\\t\\t\\t\\t\\t\\t\\t\\t\\t\\t\\t5', '6', 'None'], dtype=object)"
      ]
     },
     "execution_count": 23,
     "metadata": {},
     "output_type": "execute_result"
    }
   ],
   "source": [
    "df['stars'].unique()"
   ]
  },
  {
   "cell_type": "code",
   "execution_count": 24,
   "id": "47804458",
   "metadata": {},
   "outputs": [],
   "source": [
    "# remove the \\n\\t.. from the ratings\n",
    "\n",
    "df['stars'] = df['stars'].str.strip(\"\\n\\t\\t\\t\\t\\t\\t\\t\\t\\t\\t\\t\\t\\t\")"
   ]
  },
  {
   "cell_type": "code",
   "execution_count": 25,
   "id": "b7f01ec8",
   "metadata": {},
   "outputs": [
    {
     "data": {
      "text/plain": [
       "array(['1', '2', '4', '7', '3', '9', '10', '5', '8', '6', 'None'],\n",
       "      dtype=object)"
      ]
     },
     "execution_count": 25,
     "metadata": {},
     "output_type": "execute_result"
    }
   ],
   "source": [
    "df['stars'].unique()"
   ]
  },
  {
   "cell_type": "code",
   "execution_count": 26,
   "id": "8173afb1",
   "metadata": {},
   "outputs": [
    {
     "data": {
      "text/plain": [
       "1       0.22\n",
       "2       0.11\n",
       "3       0.11\n",
       "8       0.10\n",
       "10      0.09\n",
       "7       0.09\n",
       "9       0.09\n",
       "5       0.07\n",
       "4       0.07\n",
       "6       0.05\n",
       "None    0.00\n",
       "Name: stars, dtype: float64"
      ]
     },
     "execution_count": 26,
     "metadata": {},
     "output_type": "execute_result"
    }
   ],
   "source": [
    "round(df['stars'].value_counts(normalize=True),2)"
   ]
  },
  {
   "cell_type": "markdown",
   "id": "aff0e431",
   "metadata": {},
   "source": [
    "Finding Columns with no star values"
   ]
  },
  {
   "cell_type": "code",
   "execution_count": 27,
   "id": "9beaf499",
   "metadata": {},
   "outputs": [
    {
     "data": {
      "text/html": [
       "<div>\n",
       "<style scoped>\n",
       "    .dataframe tbody tr th:only-of-type {\n",
       "        vertical-align: middle;\n",
       "    }\n",
       "\n",
       "    .dataframe tbody tr th {\n",
       "        vertical-align: top;\n",
       "    }\n",
       "\n",
       "    .dataframe thead th {\n",
       "        text-align: right;\n",
       "    }\n",
       "</style>\n",
       "<table border=\"1\" class=\"dataframe\">\n",
       "  <thead>\n",
       "    <tr style=\"text-align: right;\">\n",
       "      <th></th>\n",
       "      <th>reviews</th>\n",
       "      <th>stars</th>\n",
       "      <th>date</th>\n",
       "      <th>country</th>\n",
       "      <th>corpus</th>\n",
       "    </tr>\n",
       "  </thead>\n",
       "  <tbody>\n",
       "    <tr>\n",
       "      <th>3040</th>\n",
       "      <td>Los Angeles (LAX) to London (LHR) in Club Worl...</td>\n",
       "      <td>None</td>\n",
       "      <td>2015-01-26</td>\n",
       "      <td>United Kingdom</td>\n",
       "      <td>los angeles lax london lhr club world january ...</td>\n",
       "    </tr>\n",
       "    <tr>\n",
       "      <th>3170</th>\n",
       "      <td>Just completed a return trip to Hong Kong on t...</td>\n",
       "      <td>None</td>\n",
       "      <td>2014-11-20</td>\n",
       "      <td>United Kingdom</td>\n",
       "      <td>complete return trip hong kong magnificent air...</td>\n",
       "    </tr>\n",
       "    <tr>\n",
       "      <th>3190</th>\n",
       "      <td>LHR-JNB 15/10. I cannot understand why BA have...</td>\n",
       "      <td>None</td>\n",
       "      <td>2014-11-12</td>\n",
       "      <td>France</td>\n",
       "      <td>lhr jnb I not understand ba choose seating arr...</td>\n",
       "    </tr>\n",
       "    <tr>\n",
       "      <th>3428</th>\n",
       "      <td>Very disappointed with my flight back from Mun...</td>\n",
       "      <td>None</td>\n",
       "      <td>2014-07-15</td>\n",
       "      <td>United Kingdom</td>\n",
       "      <td>disappointed flight back munich although hour ...</td>\n",
       "    </tr>\n",
       "    <tr>\n",
       "      <th>3463</th>\n",
       "      <td>Flight BA 202 Boston to Heathrow. Aircraft B74...</td>\n",
       "      <td>None</td>\n",
       "      <td>2014-06-23</td>\n",
       "      <td>United Kingdom</td>\n",
       "      <td>flight ba boston heathrow aircraft b version s...</td>\n",
       "    </tr>\n",
       "  </tbody>\n",
       "</table>\n",
       "</div>"
      ],
      "text/plain": [
       "                                                reviews stars       date  \\\n",
       "3040  Los Angeles (LAX) to London (LHR) in Club Worl...  None 2015-01-26   \n",
       "3170  Just completed a return trip to Hong Kong on t...  None 2014-11-20   \n",
       "3190  LHR-JNB 15/10. I cannot understand why BA have...  None 2014-11-12   \n",
       "3428  Very disappointed with my flight back from Mun...  None 2014-07-15   \n",
       "3463  Flight BA 202 Boston to Heathrow. Aircraft B74...  None 2014-06-23   \n",
       "\n",
       "             country                                             corpus  \n",
       "3040  United Kingdom  los angeles lax london lhr club world january ...  \n",
       "3170  United Kingdom  complete return trip hong kong magnificent air...  \n",
       "3190          France  lhr jnb I not understand ba choose seating arr...  \n",
       "3428  United Kingdom  disappointed flight back munich although hour ...  \n",
       "3463  United Kingdom  flight ba boston heathrow aircraft b version s...  "
      ]
     },
     "execution_count": 27,
     "metadata": {},
     "output_type": "execute_result"
    }
   ],
   "source": [
    "df[df['stars'] =='None']"
   ]
  },
  {
   "cell_type": "code",
   "execution_count": 28,
   "id": "1862a20f",
   "metadata": {},
   "outputs": [
    {
     "data": {
      "text/plain": [
       "\"Los Angeles (LAX) to London (LHR) in Club World. January 2015. Have not flown out of the Tom Bradley International Terminal at LAX for years but it's now much improved. Check in and bag drop a breeze as was security and in the oneworld lounge in minutes. Good choice of food and drinks and plenty of space. Short-ish walk to the gate good welcome on board and drinks served quickly. Couldn't fault any aspect of the experience and we took off and landed on time and managed a good five hours sleep out of the ten hours duration. Love the Arrivals Lounge at LHR. A civilising shower and 2nd breakfast sets you up for the day.\""
      ]
     },
     "execution_count": 28,
     "metadata": {},
     "output_type": "execute_result"
    }
   ],
   "source": [
    "df['reviews'][3040] #8"
   ]
  },
  {
   "cell_type": "code",
   "execution_count": 29,
   "id": "0f4d3247",
   "metadata": {},
   "outputs": [
    {
     "data": {
      "text/plain": [
       "'Just completed a return trip to Hong Kong on the A380 which is a magnificent aircraft. The crew food and inflight entertainment were good. We travelled economy and paid an extra £140 to reserve 2 seats on the upper deck. We found the seats uncomfortable and when the person in front reclined their seat you were trapped. Leg room was restricted by the video box. We were sat 2 rows from the toilet which were nearly constantly in use and the noise from the toilet flush was an irritating. The inflight entertainment just kept me sane as I found it impossible to be comfortable.'"
      ]
     },
     "execution_count": 29,
     "metadata": {},
     "output_type": "execute_result"
    }
   ],
   "source": [
    "df['reviews'][3170] #4"
   ]
  },
  {
   "cell_type": "code",
   "execution_count": 30,
   "id": "d0cf190f",
   "metadata": {},
   "outputs": [
    {
     "data": {
      "text/plain": [
       "'LHR-JNB 15/10. I cannot understand why BA have chosen the seating arrangement in Club World on the new A380 with one seat facing forward and the seat next to you facing backwards so as to be facing your neighbour. Food reasonable and service OK but not overly attentive. Return flight in Premium Economy seats not as comfortable as in the 767.'"
      ]
     },
     "execution_count": 30,
     "metadata": {},
     "output_type": "execute_result"
    }
   ],
   "source": [
    "df['reviews'][3190] #4"
   ]
  },
  {
   "cell_type": "code",
   "execution_count": 31,
   "id": "c27ca1dd",
   "metadata": {},
   "outputs": [
    {
     "data": {
      "text/plain": [
       "'Very disappointed with my flight back from Munich although it\\'s only 2 hours all that was offered was a small basket consisting of a packet of nuts or shortbread. The flight over to Munich was considerably better being offered chicken curry wrap etc. We were told when booking this return in Munich that there was only one seat left however once in the aircraft there were still seats left including one next to me! However it\\'s really the snack offered that\\'s my main \"bone of contention\" as we chose British Airway in preference to the cheap budget airlines but we now find there\\'s little difference in the on flight catering.'"
      ]
     },
     "execution_count": 31,
     "metadata": {},
     "output_type": "execute_result"
    }
   ],
   "source": [
    "df['reviews'][3428] #5"
   ]
  },
  {
   "cell_type": "code",
   "execution_count": 32,
   "id": "475d1e69",
   "metadata": {},
   "outputs": [
    {
     "data": {
      "text/plain": [
       "'Flight BA 202 Boston to Heathrow. Aircraft B747 version 1. We were seated in PE. The cabin was quiet and not full so we had plenty of room. The cabin crew were very attentive and spoke to all the passengers in our cabin. Service after take off was very quick and professional the food was very good and not hurried giving us 3.5 hours to sleep. The seats were very comfortable and the extra space was appreciated. My only complaint is my TV monitor was faulty and had a black line down the screen. It was not an issue as I was planning to sleep rather than watch a movie. The cabin was quieter than economy as it was at the front of the plane and I had a good 3 hours sleep. The Flight attendants were offering drinks throughout the flight which was good. The breakfast was a croissant in a box which I found a bit of a disappointment. Overall I would fly BA Premium Economy again.'"
      ]
     },
     "execution_count": 32,
     "metadata": {},
     "output_type": "execute_result"
    }
   ],
   "source": [
    "df['reviews'][3463] #1"
   ]
  },
  {
   "cell_type": "markdown",
   "id": "f64175a2",
   "metadata": {},
   "source": [
    "Manually assigning the star rating based on the reviews, carefully considering the wordings used to make atmost sense"
   ]
  },
  {
   "cell_type": "code",
   "execution_count": 33,
   "id": "2d87e867",
   "metadata": {},
   "outputs": [],
   "source": [
    "df['stars'][3040] = 8\n",
    "df['stars'][3170] = 4\n",
    "df['stars'][3190] = 4\n",
    "df['stars'][3428] = 5\n",
    "df['stars'][3463] = 7"
   ]
  },
  {
   "cell_type": "code",
   "execution_count": 34,
   "id": "8878db8e",
   "metadata": {},
   "outputs": [
    {
     "data": {
      "text/plain": [
       "1     804\n",
       "2     410\n",
       "3     396\n",
       "8     353\n",
       "10    318\n",
       "7     307\n",
       "9     305\n",
       "5     265\n",
       "4     240\n",
       "6     185\n",
       "4       2\n",
       "8       1\n",
       "5       1\n",
       "7       1\n",
       "Name: stars, dtype: int64"
      ]
     },
     "execution_count": 34,
     "metadata": {},
     "output_type": "execute_result"
    }
   ],
   "source": [
    "df['stars'].value_counts()"
   ]
  },
  {
   "cell_type": "markdown",
   "id": "e5dd5aaf",
   "metadata": {},
   "source": [
    "Country column"
   ]
  },
  {
   "cell_type": "code",
   "execution_count": 35,
   "id": "7e71e1d3",
   "metadata": {},
   "outputs": [
    {
     "data": {
      "text/plain": [
       "reviews    0\n",
       "stars      0\n",
       "date       0\n",
       "country    2\n",
       "corpus     0\n",
       "dtype: int64"
      ]
     },
     "execution_count": 35,
     "metadata": {},
     "output_type": "execute_result"
    }
   ],
   "source": [
    "df.isna().sum()"
   ]
  },
  {
   "cell_type": "code",
   "execution_count": 36,
   "id": "18ae2b57",
   "metadata": {},
   "outputs": [
    {
     "data": {
      "text/html": [
       "<div>\n",
       "<style scoped>\n",
       "    .dataframe tbody tr th:only-of-type {\n",
       "        vertical-align: middle;\n",
       "    }\n",
       "\n",
       "    .dataframe tbody tr th {\n",
       "        vertical-align: top;\n",
       "    }\n",
       "\n",
       "    .dataframe thead th {\n",
       "        text-align: right;\n",
       "    }\n",
       "</style>\n",
       "<table border=\"1\" class=\"dataframe\">\n",
       "  <thead>\n",
       "    <tr style=\"text-align: right;\">\n",
       "      <th></th>\n",
       "      <th>reviews</th>\n",
       "      <th>stars</th>\n",
       "      <th>date</th>\n",
       "      <th>country</th>\n",
       "      <th>corpus</th>\n",
       "    </tr>\n",
       "  </thead>\n",
       "  <tbody>\n",
       "    <tr>\n",
       "      <th>2946</th>\n",
       "      <td>I travelled from London to Jo'burg and back on...</td>\n",
       "      <td>5</td>\n",
       "      <td>2015-04-08</td>\n",
       "      <td>NaN</td>\n",
       "      <td>I travel london joburg back airbus mixed exper...</td>\n",
       "    </tr>\n",
       "    <tr>\n",
       "      <th>3250</th>\n",
       "      <td>St Lucia to London round trip. Full flight bot...</td>\n",
       "      <td>8</td>\n",
       "      <td>2014-10-20</td>\n",
       "      <td>NaN</td>\n",
       "      <td>st lucia london round trip full flight way qui...</td>\n",
       "    </tr>\n",
       "  </tbody>\n",
       "</table>\n",
       "</div>"
      ],
      "text/plain": [
       "                                                reviews stars       date  \\\n",
       "2946  I travelled from London to Jo'burg and back on...     5 2015-04-08   \n",
       "3250  St Lucia to London round trip. Full flight bot...     8 2014-10-20   \n",
       "\n",
       "     country                                             corpus  \n",
       "2946     NaN  I travel london joburg back airbus mixed exper...  \n",
       "3250     NaN  st lucia london round trip full flight way qui...  "
      ]
     },
     "execution_count": 36,
     "metadata": {},
     "output_type": "execute_result"
    }
   ],
   "source": [
    "df[df.isna().any(axis=1)]"
   ]
  },
  {
   "cell_type": "code",
   "execution_count": 37,
   "id": "e8dd772d",
   "metadata": {},
   "outputs": [
    {
     "data": {
      "text/plain": [
       "United Kingdom           2269\n",
       "United States             394\n",
       "Australia                 154\n",
       "Canada                    111\n",
       "Germany                    59\n",
       "                         ... \n",
       "Saint Kitts and Nevis       1\n",
       "Panama                      1\n",
       "Chile                       1\n",
       "Jordan                      1\n",
       "Oman                        1\n",
       "Name: country, Length: 70, dtype: int64"
      ]
     },
     "execution_count": 37,
     "metadata": {},
     "output_type": "execute_result"
    }
   ],
   "source": [
    "df['country'].value_counts()"
   ]
  },
  {
   "cell_type": "code",
   "execution_count": 38,
   "id": "b73495d5",
   "metadata": {},
   "outputs": [
    {
     "data": {
      "text/plain": [
       "\"I travelled from London to Jo'burg and back on the Airbus 380 and had mixed experiences. On the way out I was in Premium Economy and was pleasantly surprised by the spacious seat and window locker and slept well. The return in Business was a different matter. I was truly shocked by how many seats had been crammed in the uncomfortable narrow seat the lack of privacy and having to climb over passenger's feet to vacate my seat. All this at a premium price. Shocking. The cabin crew were faultless and were only too aware of passengers' views on the cabin! Never again.\""
      ]
     },
     "execution_count": 38,
     "metadata": {},
     "output_type": "execute_result"
    }
   ],
   "source": [
    "df['reviews'][2946]"
   ]
  },
  {
   "cell_type": "code",
   "execution_count": 39,
   "id": "e7225a34",
   "metadata": {},
   "outputs": [
    {
     "data": {
      "text/plain": [
       "'St Lucia to London round trip. Full flight both ways quite unhappy staff on return leg tiny seatback screens and poor selection of entertainment meals satisfactory (taste was ok and enough to fill me up both legs on time but was quite expensive for the service I got. Would fly them again if they are the cheaper option.'"
      ]
     },
     "execution_count": 39,
     "metadata": {},
     "output_type": "execute_result"
    }
   ],
   "source": [
    "df['reviews'][3250]"
   ]
  },
  {
   "cell_type": "markdown",
   "id": "5d77e5ab",
   "metadata": {},
   "source": [
    "Going through the reviews, we identified the countries, so lets replace them in the null values"
   ]
  },
  {
   "cell_type": "code",
   "execution_count": 40,
   "id": "d904da1e",
   "metadata": {},
   "outputs": [
    {
     "data": {
      "text/plain": [
       "array(['United Arab Emirates', 'United Kingdom', 'United States',\n",
       "       'Romania', 'Australia', 'Greece', 'Canada', 'Cyprus', 'Italy',\n",
       "       'Spain', 'Chile', 'Sweden', 'Ireland', 'Hong Kong', 'Netherlands',\n",
       "       'Austria', 'France', 'India', 'Belgium', 'New Zealand',\n",
       "       'Czech Republic', 'Malaysia', 'Singapore', 'South Africa', 'Ghana',\n",
       "       'Germany', 'Switzerland', 'Bermuda', 'Botswana', 'Brazil',\n",
       "       'Panama', 'Nigeria', 'Russian Federation', 'Philippines',\n",
       "       'Bulgaria', 'Poland', 'Thailand', 'Argentina', 'Mexico', 'Denmark',\n",
       "       'Saint Kitts and Nevis', 'Vietnam', 'Norway', 'Jordan', 'Japan',\n",
       "       'Taiwan', 'China', 'Slovakia', 'Kuwait', 'Israel', 'Qatar',\n",
       "       'South Korea', 'Saudi Arabia', 'Hungary', 'Portugal',\n",
       "       'Cayman Islands', 'Costa Rica', 'Egypt', 'Iceland', 'Laos',\n",
       "       'Turkey', 'Indonesia', 'Bahrain', 'Dominican Republic',\n",
       "       'Luxembourg', 'Finland', 'Ukraine', nan, 'Trinidad & Tobago',\n",
       "       'Barbados', 'Oman'], dtype=object)"
      ]
     },
     "execution_count": 40,
     "metadata": {},
     "output_type": "execute_result"
    }
   ],
   "source": [
    "df['country'].unique()"
   ]
  },
  {
   "cell_type": "code",
   "execution_count": 41,
   "id": "e264a71e",
   "metadata": {},
   "outputs": [],
   "source": [
    "df['country'][2946] = 'United Kingdom'\n",
    "df['country'][3250] = 'United Kingdom'"
   ]
  },
  {
   "cell_type": "code",
   "execution_count": 42,
   "id": "777db855",
   "metadata": {},
   "outputs": [
    {
     "data": {
      "text/plain": [
       "reviews    0\n",
       "stars      0\n",
       "date       0\n",
       "country    0\n",
       "corpus     0\n",
       "dtype: int64"
      ]
     },
     "execution_count": 42,
     "metadata": {},
     "output_type": "execute_result"
    }
   ],
   "source": [
    "df.isna().sum()"
   ]
  },
  {
   "cell_type": "code",
   "execution_count": 43,
   "id": "ec37c544",
   "metadata": {},
   "outputs": [
    {
     "data": {
      "text/plain": [
       "United Kingdom           2271\n",
       "United States             394\n",
       "Australia                 154\n",
       "Canada                    111\n",
       "Germany                    59\n",
       "                         ... \n",
       "Saint Kitts and Nevis       1\n",
       "Panama                      1\n",
       "Chile                       1\n",
       "Jordan                      1\n",
       "Oman                        1\n",
       "Name: country, Length: 70, dtype: int64"
      ]
     },
     "execution_count": 43,
     "metadata": {},
     "output_type": "execute_result"
    }
   ],
   "source": [
    "df['country'].value_counts()"
   ]
  },
  {
   "cell_type": "code",
   "execution_count": 44,
   "id": "08fcc64d",
   "metadata": {},
   "outputs": [
    {
     "data": {
      "text/plain": [
       "(3588, 5)"
      ]
     },
     "execution_count": 44,
     "metadata": {},
     "output_type": "execute_result"
    }
   ],
   "source": [
    "df.shape"
   ]
  },
  {
   "cell_type": "markdown",
   "id": "bb3ff15e",
   "metadata": {},
   "source": [
    "The data is clean, we can now proceed for Analysis"
   ]
  },
  {
   "cell_type": "code",
   "execution_count": 45,
   "id": "bf8b82d6",
   "metadata": {},
   "outputs": [],
   "source": [
    "import os\n",
    "\n",
    "cwd = os.getcwd()\n",
    "df.to_csv(cwd+ \"/BA_reviews_forage_clean.csv\")"
   ]
  },
  {
   "cell_type": "code",
   "execution_count": null,
   "id": "217ffafb",
   "metadata": {},
   "outputs": [],
   "source": []
  }
 ],
 "metadata": {
  "kernelspec": {
   "display_name": "Python 3 (ipykernel)",
   "language": "python",
   "name": "python3"
  },
  "language_info": {
   "codemirror_mode": {
    "name": "ipython",
    "version": 3
   },
   "file_extension": ".py",
   "mimetype": "text/x-python",
   "name": "python",
   "nbconvert_exporter": "python",
   "pygments_lexer": "ipython3",
   "version": "3.10.9"
  }
 },
 "nbformat": 4,
 "nbformat_minor": 5
}
