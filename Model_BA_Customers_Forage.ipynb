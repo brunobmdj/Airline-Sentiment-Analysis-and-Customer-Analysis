{
 "cells": [
  {
   "cell_type": "code",
   "execution_count": 1,
   "id": "7f3f4ead",
   "metadata": {},
   "outputs": [],
   "source": [
    "import pandas as pd\n",
    "from warnings import filterwarnings\n",
    "filterwarnings('ignore')"
   ]
  },
  {
   "cell_type": "code",
   "execution_count": 2,
   "id": "1862be78",
   "metadata": {},
   "outputs": [
    {
     "data": {
      "text/html": [
       "<div>\n",
       "<style scoped>\n",
       "    .dataframe tbody tr th:only-of-type {\n",
       "        vertical-align: middle;\n",
       "    }\n",
       "\n",
       "    .dataframe tbody tr th {\n",
       "        vertical-align: top;\n",
       "    }\n",
       "\n",
       "    .dataframe thead th {\n",
       "        text-align: right;\n",
       "    }\n",
       "</style>\n",
       "<table border=\"1\" class=\"dataframe\">\n",
       "  <thead>\n",
       "    <tr style=\"text-align: right;\">\n",
       "      <th></th>\n",
       "      <th>num_passengers</th>\n",
       "      <th>sales_channel</th>\n",
       "      <th>trip_type</th>\n",
       "      <th>purchase_lead</th>\n",
       "      <th>length_of_stay</th>\n",
       "      <th>flight_hour</th>\n",
       "      <th>flight_day</th>\n",
       "      <th>route</th>\n",
       "      <th>booking_origin</th>\n",
       "      <th>wants_extra_baggage</th>\n",
       "      <th>wants_preferred_seat</th>\n",
       "      <th>wants_in_flight_meals</th>\n",
       "      <th>flight_duration</th>\n",
       "      <th>booking_complete</th>\n",
       "    </tr>\n",
       "  </thead>\n",
       "  <tbody>\n",
       "    <tr>\n",
       "      <th>0</th>\n",
       "      <td>2</td>\n",
       "      <td>Internet</td>\n",
       "      <td>RoundTrip</td>\n",
       "      <td>262</td>\n",
       "      <td>19</td>\n",
       "      <td>7</td>\n",
       "      <td>Sat</td>\n",
       "      <td>AKLDEL</td>\n",
       "      <td>New Zealand</td>\n",
       "      <td>1</td>\n",
       "      <td>0</td>\n",
       "      <td>0</td>\n",
       "      <td>5.52</td>\n",
       "      <td>0</td>\n",
       "    </tr>\n",
       "    <tr>\n",
       "      <th>1</th>\n",
       "      <td>1</td>\n",
       "      <td>Internet</td>\n",
       "      <td>RoundTrip</td>\n",
       "      <td>112</td>\n",
       "      <td>20</td>\n",
       "      <td>3</td>\n",
       "      <td>Sat</td>\n",
       "      <td>AKLDEL</td>\n",
       "      <td>New Zealand</td>\n",
       "      <td>0</td>\n",
       "      <td>0</td>\n",
       "      <td>0</td>\n",
       "      <td>5.52</td>\n",
       "      <td>0</td>\n",
       "    </tr>\n",
       "    <tr>\n",
       "      <th>2</th>\n",
       "      <td>2</td>\n",
       "      <td>Internet</td>\n",
       "      <td>RoundTrip</td>\n",
       "      <td>243</td>\n",
       "      <td>22</td>\n",
       "      <td>17</td>\n",
       "      <td>Wed</td>\n",
       "      <td>AKLDEL</td>\n",
       "      <td>India</td>\n",
       "      <td>1</td>\n",
       "      <td>1</td>\n",
       "      <td>0</td>\n",
       "      <td>5.52</td>\n",
       "      <td>0</td>\n",
       "    </tr>\n",
       "    <tr>\n",
       "      <th>3</th>\n",
       "      <td>1</td>\n",
       "      <td>Internet</td>\n",
       "      <td>RoundTrip</td>\n",
       "      <td>96</td>\n",
       "      <td>31</td>\n",
       "      <td>4</td>\n",
       "      <td>Sat</td>\n",
       "      <td>AKLDEL</td>\n",
       "      <td>New Zealand</td>\n",
       "      <td>0</td>\n",
       "      <td>0</td>\n",
       "      <td>1</td>\n",
       "      <td>5.52</td>\n",
       "      <td>0</td>\n",
       "    </tr>\n",
       "    <tr>\n",
       "      <th>4</th>\n",
       "      <td>2</td>\n",
       "      <td>Internet</td>\n",
       "      <td>RoundTrip</td>\n",
       "      <td>68</td>\n",
       "      <td>22</td>\n",
       "      <td>15</td>\n",
       "      <td>Wed</td>\n",
       "      <td>AKLDEL</td>\n",
       "      <td>India</td>\n",
       "      <td>1</td>\n",
       "      <td>0</td>\n",
       "      <td>1</td>\n",
       "      <td>5.52</td>\n",
       "      <td>0</td>\n",
       "    </tr>\n",
       "  </tbody>\n",
       "</table>\n",
       "</div>"
      ],
      "text/plain": [
       "   num_passengers sales_channel  trip_type  purchase_lead  length_of_stay  \\\n",
       "0               2      Internet  RoundTrip            262              19   \n",
       "1               1      Internet  RoundTrip            112              20   \n",
       "2               2      Internet  RoundTrip            243              22   \n",
       "3               1      Internet  RoundTrip             96              31   \n",
       "4               2      Internet  RoundTrip             68              22   \n",
       "\n",
       "   flight_hour flight_day   route booking_origin  wants_extra_baggage  \\\n",
       "0            7        Sat  AKLDEL    New Zealand                    1   \n",
       "1            3        Sat  AKLDEL    New Zealand                    0   \n",
       "2           17        Wed  AKLDEL          India                    1   \n",
       "3            4        Sat  AKLDEL    New Zealand                    0   \n",
       "4           15        Wed  AKLDEL          India                    1   \n",
       "\n",
       "   wants_preferred_seat  wants_in_flight_meals  flight_duration  \\\n",
       "0                     0                      0             5.52   \n",
       "1                     0                      0             5.52   \n",
       "2                     1                      0             5.52   \n",
       "3                     0                      1             5.52   \n",
       "4                     0                      1             5.52   \n",
       "\n",
       "   booking_complete  \n",
       "0                 0  \n",
       "1                 0  \n",
       "2                 0  \n",
       "3                 0  \n",
       "4                 0  "
      ]
     },
     "execution_count": 2,
     "metadata": {},
     "output_type": "execute_result"
    }
   ],
   "source": [
    "df = pd.read_csv('customer_booking.csv', encoding=\"ISO-8859-1\")\n",
    "df.head()"
   ]
  },
  {
   "cell_type": "code",
   "execution_count": 3,
   "id": "edc5ad03",
   "metadata": {},
   "outputs": [
    {
     "name": "stdout",
     "output_type": "stream",
     "text": [
      "<class 'pandas.core.frame.DataFrame'>\n",
      "RangeIndex: 50000 entries, 0 to 49999\n",
      "Data columns (total 14 columns):\n",
      " #   Column                 Non-Null Count  Dtype  \n",
      "---  ------                 --------------  -----  \n",
      " 0   num_passengers         50000 non-null  int64  \n",
      " 1   sales_channel          50000 non-null  object \n",
      " 2   trip_type              50000 non-null  object \n",
      " 3   purchase_lead          50000 non-null  int64  \n",
      " 4   length_of_stay         50000 non-null  int64  \n",
      " 5   flight_hour            50000 non-null  int64  \n",
      " 6   flight_day             50000 non-null  object \n",
      " 7   route                  50000 non-null  object \n",
      " 8   booking_origin         50000 non-null  object \n",
      " 9   wants_extra_baggage    50000 non-null  int64  \n",
      " 10  wants_preferred_seat   50000 non-null  int64  \n",
      " 11  wants_in_flight_meals  50000 non-null  int64  \n",
      " 12  flight_duration        50000 non-null  float64\n",
      " 13  booking_complete       50000 non-null  int64  \n",
      "dtypes: float64(1), int64(8), object(5)\n",
      "memory usage: 5.3+ MB\n"
     ]
    }
   ],
   "source": [
    "df.info()"
   ]
  },
  {
   "cell_type": "markdown",
   "id": "a9abda65",
   "metadata": {},
   "source": [
    "# Ensuring proper dtypes of each features"
   ]
  },
  {
   "cell_type": "code",
   "execution_count": 4,
   "id": "77bb6e7f",
   "metadata": {},
   "outputs": [],
   "source": [
    "df['booking_complete'] = df['booking_complete'].astype('object') \n",
    "df['wants_extra_baggage'] = df['wants_extra_baggage'].astype('object') \n",
    "df['wants_in_flight_meals'] = df['wants_in_flight_meals'].astype('object') \n",
    "df['wants_preferred_seat'] = df['wants_preferred_seat'].astype('object')"
   ]
  },
  {
   "cell_type": "code",
   "execution_count": 5,
   "id": "9c66e5ec",
   "metadata": {},
   "outputs": [
    {
     "name": "stdout",
     "output_type": "stream",
     "text": [
      "Internet    88.764\n",
      "Mobile      11.236\n",
      "Name: sales_channel, dtype: float64\n",
      "RoundTrip     98.994\n",
      "OneWay         0.774\n",
      "CircleTrip     0.232\n",
      "Name: trip_type, dtype: float64\n",
      "Mon    16.204\n",
      "Wed    15.348\n",
      "Tue    15.346\n",
      "Thu    14.848\n",
      "Fri    13.522\n",
      "Sun    13.108\n",
      "Sat    11.624\n",
      "Name: flight_day, dtype: float64\n",
      "AKLKUL    5.360\n",
      "PENTPE    1.848\n",
      "MELSGN    1.684\n",
      "ICNSIN    1.602\n",
      "DMKKIX    1.488\n",
      "          ...  \n",
      "LBUTPE    0.002\n",
      "CXRMEL    0.002\n",
      "DELKBR    0.002\n",
      "KOSSYD    0.002\n",
      "MRUXIY    0.002\n",
      "Name: route, Length: 799, dtype: float64\n",
      "Australia               35.744\n",
      "Malaysia                14.348\n",
      "South Korea              9.118\n",
      "Japan                    7.770\n",
      "China                    6.774\n",
      "                         ...  \n",
      "Panama                   0.002\n",
      "Tonga                    0.002\n",
      "Tanzania                 0.002\n",
      "Bulgaria                 0.002\n",
      "Svalbard & Jan Mayen     0.002\n",
      "Name: booking_origin, Length: 104, dtype: float64\n",
      "1    66.878\n",
      "0    33.122\n",
      "Name: wants_extra_baggage, dtype: float64\n",
      "0    70.304\n",
      "1    29.696\n",
      "Name: wants_preferred_seat, dtype: float64\n",
      "0    57.286\n",
      "1    42.714\n",
      "Name: wants_in_flight_meals, dtype: float64\n",
      "0    85.044\n",
      "1    14.956\n",
      "Name: booking_complete, dtype: float64\n"
     ]
    }
   ],
   "source": [
    "for col in df.select_dtypes(include='object').columns:\n",
    "    print(df[col].value_counts()/len(df)*100)"
   ]
  },
  {
   "cell_type": "code",
   "execution_count": 6,
   "id": "71187469",
   "metadata": {},
   "outputs": [
    {
     "data": {
      "text/plain": [
       "num_passengers       9.0\n",
       "purchase_lead      867.0\n",
       "length_of_stay     778.0\n",
       "flight_hour         23.0\n",
       "flight_duration      9.5\n",
       "Name: 1.0, dtype: float64"
      ]
     },
     "execution_count": 6,
     "metadata": {},
     "output_type": "execute_result"
    }
   ],
   "source": [
    "df.quantile(1)"
   ]
  },
  {
   "cell_type": "markdown",
   "id": "d28361da",
   "metadata": {},
   "source": [
    "* We do not proceed to remove outliers with iqr as it removes nearly 20% of the data"
   ]
  },
  {
   "cell_type": "code",
   "execution_count": 7,
   "id": "22b0789c",
   "metadata": {},
   "outputs": [],
   "source": [
    "df = df[df['length_of_stay']<400]\n",
    "df = df[df['purchase_lead']<450]"
   ]
  },
  {
   "cell_type": "code",
   "execution_count": 8,
   "id": "8d1e8e93",
   "metadata": {},
   "outputs": [
    {
     "data": {
      "text/html": [
       "<div>\n",
       "<style scoped>\n",
       "    .dataframe tbody tr th:only-of-type {\n",
       "        vertical-align: middle;\n",
       "    }\n",
       "\n",
       "    .dataframe tbody tr th {\n",
       "        vertical-align: top;\n",
       "    }\n",
       "\n",
       "    .dataframe thead th {\n",
       "        text-align: right;\n",
       "    }\n",
       "</style>\n",
       "<table border=\"1\" class=\"dataframe\">\n",
       "  <thead>\n",
       "    <tr style=\"text-align: right;\">\n",
       "      <th></th>\n",
       "      <th>num_passengers</th>\n",
       "      <th>sales_channel</th>\n",
       "      <th>trip_type</th>\n",
       "      <th>purchase_lead</th>\n",
       "      <th>length_of_stay</th>\n",
       "      <th>flight_hour</th>\n",
       "      <th>flight_day</th>\n",
       "      <th>route</th>\n",
       "      <th>booking_origin</th>\n",
       "      <th>wants_extra_baggage</th>\n",
       "      <th>wants_preferred_seat</th>\n",
       "      <th>wants_in_flight_meals</th>\n",
       "      <th>flight_duration</th>\n",
       "      <th>booking_complete</th>\n",
       "    </tr>\n",
       "  </thead>\n",
       "  <tbody>\n",
       "    <tr>\n",
       "      <th>0</th>\n",
       "      <td>2</td>\n",
       "      <td>Internet</td>\n",
       "      <td>RoundTrip</td>\n",
       "      <td>262</td>\n",
       "      <td>19</td>\n",
       "      <td>7</td>\n",
       "      <td>Sat</td>\n",
       "      <td>AKLDEL</td>\n",
       "      <td>New Zealand</td>\n",
       "      <td>1</td>\n",
       "      <td>0</td>\n",
       "      <td>0</td>\n",
       "      <td>5.52</td>\n",
       "      <td>0</td>\n",
       "    </tr>\n",
       "    <tr>\n",
       "      <th>1</th>\n",
       "      <td>1</td>\n",
       "      <td>Internet</td>\n",
       "      <td>RoundTrip</td>\n",
       "      <td>112</td>\n",
       "      <td>20</td>\n",
       "      <td>3</td>\n",
       "      <td>Sat</td>\n",
       "      <td>AKLDEL</td>\n",
       "      <td>New Zealand</td>\n",
       "      <td>0</td>\n",
       "      <td>0</td>\n",
       "      <td>0</td>\n",
       "      <td>5.52</td>\n",
       "      <td>0</td>\n",
       "    </tr>\n",
       "    <tr>\n",
       "      <th>2</th>\n",
       "      <td>2</td>\n",
       "      <td>Internet</td>\n",
       "      <td>RoundTrip</td>\n",
       "      <td>243</td>\n",
       "      <td>22</td>\n",
       "      <td>17</td>\n",
       "      <td>Wed</td>\n",
       "      <td>AKLDEL</td>\n",
       "      <td>India</td>\n",
       "      <td>1</td>\n",
       "      <td>1</td>\n",
       "      <td>0</td>\n",
       "      <td>5.52</td>\n",
       "      <td>0</td>\n",
       "    </tr>\n",
       "    <tr>\n",
       "      <th>3</th>\n",
       "      <td>1</td>\n",
       "      <td>Internet</td>\n",
       "      <td>RoundTrip</td>\n",
       "      <td>96</td>\n",
       "      <td>31</td>\n",
       "      <td>4</td>\n",
       "      <td>Sat</td>\n",
       "      <td>AKLDEL</td>\n",
       "      <td>New Zealand</td>\n",
       "      <td>0</td>\n",
       "      <td>0</td>\n",
       "      <td>1</td>\n",
       "      <td>5.52</td>\n",
       "      <td>0</td>\n",
       "    </tr>\n",
       "    <tr>\n",
       "      <th>4</th>\n",
       "      <td>2</td>\n",
       "      <td>Internet</td>\n",
       "      <td>RoundTrip</td>\n",
       "      <td>68</td>\n",
       "      <td>22</td>\n",
       "      <td>15</td>\n",
       "      <td>Wed</td>\n",
       "      <td>AKLDEL</td>\n",
       "      <td>India</td>\n",
       "      <td>1</td>\n",
       "      <td>0</td>\n",
       "      <td>1</td>\n",
       "      <td>5.52</td>\n",
       "      <td>0</td>\n",
       "    </tr>\n",
       "    <tr>\n",
       "      <th>...</th>\n",
       "      <td>...</td>\n",
       "      <td>...</td>\n",
       "      <td>...</td>\n",
       "      <td>...</td>\n",
       "      <td>...</td>\n",
       "      <td>...</td>\n",
       "      <td>...</td>\n",
       "      <td>...</td>\n",
       "      <td>...</td>\n",
       "      <td>...</td>\n",
       "      <td>...</td>\n",
       "      <td>...</td>\n",
       "      <td>...</td>\n",
       "      <td>...</td>\n",
       "    </tr>\n",
       "    <tr>\n",
       "      <th>49995</th>\n",
       "      <td>2</td>\n",
       "      <td>Internet</td>\n",
       "      <td>RoundTrip</td>\n",
       "      <td>27</td>\n",
       "      <td>6</td>\n",
       "      <td>9</td>\n",
       "      <td>Sat</td>\n",
       "      <td>PERPNH</td>\n",
       "      <td>Australia</td>\n",
       "      <td>1</td>\n",
       "      <td>0</td>\n",
       "      <td>1</td>\n",
       "      <td>5.62</td>\n",
       "      <td>0</td>\n",
       "    </tr>\n",
       "    <tr>\n",
       "      <th>49996</th>\n",
       "      <td>1</td>\n",
       "      <td>Internet</td>\n",
       "      <td>RoundTrip</td>\n",
       "      <td>111</td>\n",
       "      <td>6</td>\n",
       "      <td>4</td>\n",
       "      <td>Sun</td>\n",
       "      <td>PERPNH</td>\n",
       "      <td>Australia</td>\n",
       "      <td>0</td>\n",
       "      <td>0</td>\n",
       "      <td>0</td>\n",
       "      <td>5.62</td>\n",
       "      <td>0</td>\n",
       "    </tr>\n",
       "    <tr>\n",
       "      <th>49997</th>\n",
       "      <td>1</td>\n",
       "      <td>Internet</td>\n",
       "      <td>RoundTrip</td>\n",
       "      <td>24</td>\n",
       "      <td>6</td>\n",
       "      <td>22</td>\n",
       "      <td>Sat</td>\n",
       "      <td>PERPNH</td>\n",
       "      <td>Australia</td>\n",
       "      <td>0</td>\n",
       "      <td>0</td>\n",
       "      <td>1</td>\n",
       "      <td>5.62</td>\n",
       "      <td>0</td>\n",
       "    </tr>\n",
       "    <tr>\n",
       "      <th>49998</th>\n",
       "      <td>1</td>\n",
       "      <td>Internet</td>\n",
       "      <td>RoundTrip</td>\n",
       "      <td>15</td>\n",
       "      <td>6</td>\n",
       "      <td>11</td>\n",
       "      <td>Mon</td>\n",
       "      <td>PERPNH</td>\n",
       "      <td>Australia</td>\n",
       "      <td>1</td>\n",
       "      <td>0</td>\n",
       "      <td>1</td>\n",
       "      <td>5.62</td>\n",
       "      <td>0</td>\n",
       "    </tr>\n",
       "    <tr>\n",
       "      <th>49999</th>\n",
       "      <td>1</td>\n",
       "      <td>Internet</td>\n",
       "      <td>RoundTrip</td>\n",
       "      <td>19</td>\n",
       "      <td>6</td>\n",
       "      <td>10</td>\n",
       "      <td>Thu</td>\n",
       "      <td>PERPNH</td>\n",
       "      <td>Australia</td>\n",
       "      <td>0</td>\n",
       "      <td>1</td>\n",
       "      <td>0</td>\n",
       "      <td>5.62</td>\n",
       "      <td>0</td>\n",
       "    </tr>\n",
       "  </tbody>\n",
       "</table>\n",
       "<p>49958 rows × 14 columns</p>\n",
       "</div>"
      ],
      "text/plain": [
       "       num_passengers sales_channel  trip_type  purchase_lead  length_of_stay  \\\n",
       "0                   2      Internet  RoundTrip            262              19   \n",
       "1                   1      Internet  RoundTrip            112              20   \n",
       "2                   2      Internet  RoundTrip            243              22   \n",
       "3                   1      Internet  RoundTrip             96              31   \n",
       "4                   2      Internet  RoundTrip             68              22   \n",
       "...               ...           ...        ...            ...             ...   \n",
       "49995               2      Internet  RoundTrip             27               6   \n",
       "49996               1      Internet  RoundTrip            111               6   \n",
       "49997               1      Internet  RoundTrip             24               6   \n",
       "49998               1      Internet  RoundTrip             15               6   \n",
       "49999               1      Internet  RoundTrip             19               6   \n",
       "\n",
       "       flight_hour flight_day   route booking_origin wants_extra_baggage  \\\n",
       "0                7        Sat  AKLDEL    New Zealand                   1   \n",
       "1                3        Sat  AKLDEL    New Zealand                   0   \n",
       "2               17        Wed  AKLDEL          India                   1   \n",
       "3                4        Sat  AKLDEL    New Zealand                   0   \n",
       "4               15        Wed  AKLDEL          India                   1   \n",
       "...            ...        ...     ...            ...                 ...   \n",
       "49995            9        Sat  PERPNH      Australia                   1   \n",
       "49996            4        Sun  PERPNH      Australia                   0   \n",
       "49997           22        Sat  PERPNH      Australia                   0   \n",
       "49998           11        Mon  PERPNH      Australia                   1   \n",
       "49999           10        Thu  PERPNH      Australia                   0   \n",
       "\n",
       "      wants_preferred_seat wants_in_flight_meals  flight_duration  \\\n",
       "0                        0                     0             5.52   \n",
       "1                        0                     0             5.52   \n",
       "2                        1                     0             5.52   \n",
       "3                        0                     1             5.52   \n",
       "4                        0                     1             5.52   \n",
       "...                    ...                   ...              ...   \n",
       "49995                    0                     1             5.62   \n",
       "49996                    0                     0             5.62   \n",
       "49997                    0                     1             5.62   \n",
       "49998                    0                     1             5.62   \n",
       "49999                    1                     0             5.62   \n",
       "\n",
       "      booking_complete  \n",
       "0                    0  \n",
       "1                    0  \n",
       "2                    0  \n",
       "3                    0  \n",
       "4                    0  \n",
       "...                ...  \n",
       "49995                0  \n",
       "49996                0  \n",
       "49997                0  \n",
       "49998                0  \n",
       "49999                0  \n",
       "\n",
       "[49958 rows x 14 columns]"
      ]
     },
     "execution_count": 8,
     "metadata": {},
     "output_type": "execute_result"
    }
   ],
   "source": [
    "df"
   ]
  },
  {
   "cell_type": "code",
   "execution_count": 9,
   "id": "4e19c9c6",
   "metadata": {},
   "outputs": [
    {
     "data": {
      "text/plain": [
       "num_passengers       9.0\n",
       "purchase_lead      446.0\n",
       "length_of_stay     399.0\n",
       "flight_hour         23.0\n",
       "flight_duration      9.5\n",
       "Name: 1.0, dtype: float64"
      ]
     },
     "execution_count": 9,
     "metadata": {},
     "output_type": "execute_result"
    }
   ],
   "source": [
    "df.quantile(1)"
   ]
  },
  {
   "cell_type": "code",
   "execution_count": 10,
   "id": "6c8888e0",
   "metadata": {},
   "outputs": [
    {
     "data": {
      "text/plain": [
       "(49958, 14)"
      ]
     },
     "execution_count": 10,
     "metadata": {},
     "output_type": "execute_result"
    }
   ],
   "source": [
    "df.shape"
   ]
  },
  {
   "cell_type": "code",
   "execution_count": 11,
   "id": "f0de22f6",
   "metadata": {},
   "outputs": [
    {
     "name": "stdout",
     "output_type": "stream",
     "text": [
      "['DPSPVG', 'AKLKUL', 'DPSPEK', 'DMKPER', 'IKASIN', 'MELSGN', 'MYYPER', 'HKTPVG', 'PENTPE', 'PERTPE', 'CTUPEN', 'HYDSYD', 'MAAOOL', 'COKOOL', 'PVGSGN', 'CEBMEL', 'CTUMEL', 'COKMEL', 'JOGKIX', 'KBRPEK', 'LGKPVG', 'PVGTGG', 'BKIICN', 'CGKHND', 'CGKICN', 'CGKKIX', 'CKGMRU', 'CTUSYD', 'DPSHGH', 'HGHHKT', 'HGHSIN', 'HGHTRZ', 'HNDPEN', 'MNLSYD', 'ICNPEN', 'ICNPER', 'PEKTRZ', 'IKAMNL', 'KTMTPE', 'MELPEK', 'MELPVG', 'HGHLGK', 'MELTPE', 'MELXIY', 'OOLPEK', 'PEKSYD', 'PERTRZ', 'HKTMEL', 'PVGSUB', 'TRZXIY', 'DPSICN', 'DELOOL', 'SUBTPE', 'DACMEL', 'CKGTRZ', 'PVGSIN', 'CTUDPS', 'PEKPEN']\n"
     ]
    }
   ],
   "source": [
    "# Extracting routes for booking_origin columns which are null\n",
    "bodf = df[df['booking_origin']==('(not set)')]\n",
    "ln = len(bodf['route'].value_counts())\n",
    "bl = []\n",
    "bl.append(bodf['route'].value_counts().index)\n",
    "\n",
    "bll=[]\n",
    "for i in range(0,ln):\n",
    "    bll.append(bl[0][i])\n",
    "    \n",
    "# Output as a proper list\n",
    "print(bll)"
   ]
  },
  {
   "cell_type": "code",
   "execution_count": 12,
   "id": "951e3198",
   "metadata": {},
   "outputs": [],
   "source": [
    "l=[]\n",
    "\n",
    "for route in bodf['route'].value_counts().index:\n",
    "    l.append(df[df['route']==route]['booking_origin'].mode())"
   ]
  },
  {
   "cell_type": "code",
   "execution_count": 13,
   "id": "c5c7e041",
   "metadata": {},
   "outputs": [
    {
     "data": {
      "text/plain": [
       "58"
      ]
     },
     "execution_count": 13,
     "metadata": {},
     "output_type": "execute_result"
    }
   ],
   "source": [
    "# Converting to 1D list\n",
    "\n",
    "l1=[]\n",
    "for i in range (0,ln):\n",
    "    l1.append(l[i][0])\n",
    "\n",
    "len(l1)"
   ]
  },
  {
   "cell_type": "code",
   "execution_count": 14,
   "id": "75a4f654",
   "metadata": {},
   "outputs": [
    {
     "data": {
      "text/html": [
       "<div>\n",
       "<style scoped>\n",
       "    .dataframe tbody tr th:only-of-type {\n",
       "        vertical-align: middle;\n",
       "    }\n",
       "\n",
       "    .dataframe tbody tr th {\n",
       "        vertical-align: top;\n",
       "    }\n",
       "\n",
       "    .dataframe thead th {\n",
       "        text-align: right;\n",
       "    }\n",
       "</style>\n",
       "<table border=\"1\" class=\"dataframe\">\n",
       "  <thead>\n",
       "    <tr style=\"text-align: right;\">\n",
       "      <th></th>\n",
       "      <th>route</th>\n",
       "      <th>booking_origin</th>\n",
       "    </tr>\n",
       "  </thead>\n",
       "  <tbody>\n",
       "    <tr>\n",
       "      <th>0</th>\n",
       "      <td>DPSPVG</td>\n",
       "      <td>China</td>\n",
       "    </tr>\n",
       "    <tr>\n",
       "      <th>1</th>\n",
       "      <td>AKLKUL</td>\n",
       "      <td>Malaysia</td>\n",
       "    </tr>\n",
       "    <tr>\n",
       "      <th>2</th>\n",
       "      <td>DPSPEK</td>\n",
       "      <td>China</td>\n",
       "    </tr>\n",
       "    <tr>\n",
       "      <th>3</th>\n",
       "      <td>DMKPER</td>\n",
       "      <td>Australia</td>\n",
       "    </tr>\n",
       "    <tr>\n",
       "      <th>4</th>\n",
       "      <td>IKASIN</td>\n",
       "      <td>Singapore</td>\n",
       "    </tr>\n",
       "  </tbody>\n",
       "</table>\n",
       "</div>"
      ],
      "text/plain": [
       "    route booking_origin\n",
       "0  DPSPVG          China\n",
       "1  AKLKUL       Malaysia\n",
       "2  DPSPEK          China\n",
       "3  DMKPER      Australia\n",
       "4  IKASIN      Singapore"
      ]
     },
     "execution_count": 14,
     "metadata": {},
     "output_type": "execute_result"
    }
   ],
   "source": [
    "# Creating mapping dataframe\n",
    "\n",
    "edf = pd.DataFrame({'route': bll, 'booking_origin': l1})\n",
    "edf.head()"
   ]
  },
  {
   "cell_type": "code",
   "execution_count": 15,
   "id": "a4c070a3",
   "metadata": {},
   "outputs": [],
   "source": [
    "# converting ('not set') to null\n",
    "import numpy as np\n",
    "df['booking_origin'] = df['booking_origin'].replace('(not set)', np.nan)"
   ]
  },
  {
   "cell_type": "code",
   "execution_count": 16,
   "id": "8d39993f",
   "metadata": {},
   "outputs": [],
   "source": [
    "# Create a dictionary mapping country codes to country names\n",
    "country_mapping = edf.set_index('route')['booking_origin'].to_dict()\n",
    "\n",
    "# Fill missing values in 'country' column using the mapping\n",
    "df['booking_origin'] = df['booking_origin'].fillna(df['route'].map(country_mapping))"
   ]
  },
  {
   "cell_type": "code",
   "execution_count": 17,
   "id": "a369e2b0",
   "metadata": {},
   "outputs": [],
   "source": [
    "import matplotlib.pyplot as plt"
   ]
  },
  {
   "cell_type": "code",
   "execution_count": 18,
   "id": "aeae2452",
   "metadata": {},
   "outputs": [],
   "source": [
    "import seaborn as sns"
   ]
  },
  {
   "cell_type": "code",
   "execution_count": 19,
   "id": "f82aa6c5",
   "metadata": {},
   "outputs": [
    {
     "data": {
      "image/png": "[encoded data removed]",
      "text/plain": [
       "<Figure size 1500x400 with 1 Axes>"
      ]
     },
     "metadata": {},
     "output_type": "display_data"
    }
   ],
   "source": [
    "plt.figure(figsize=(15,4))\n",
    "ax = sns.barplot(y = df['booking_origin'].value_counts().head(20).values, x = df['booking_origin'].value_counts().head(20).index)\n",
    "plt.bar_label(ax.containers[0])\n",
    "plt.title('Top 20 popular booking origin')\n",
    "plt.xticks(rotation = 45)\n",
    "plt.show()"
   ]
  },
  {
   "cell_type": "markdown",
   "id": "81a78cda",
   "metadata": {},
   "source": [
    "# Removing rows having booking_origin having only 1 entry\n",
    "# Feature Engineering continent"
   ]
  },
  {
   "cell_type": "code",
   "execution_count": 20,
   "id": "a55846b0",
   "metadata": {},
   "outputs": [],
   "source": [
    "l=[]\n",
    "\n",
    "l.append(df['booking_origin'].value_counts().values)"
   ]
  },
  {
   "cell_type": "code",
   "execution_count": 21,
   "id": "0b4ebe33",
   "metadata": {},
   "outputs": [
    {
     "data": {
      "text/plain": [
       "[array([17879,  7179,  4561,  3886,  3417,  2373,  2077,  2029,  1264,\n",
       "         1072,  1047,   455,   389,   304,   295,   267,   173,   167,\n",
       "          132,    73,    59,    58,    57,    57,    50,    46,    44,\n",
       "           42,    40,    36,    36,    32,    27,    25,    18,    17,\n",
       "           15,    14,    12,    12,     9,     9,     9,     9,     9,\n",
       "            9,     8,     8,     8,     8,     8,     7,     7,     7,\n",
       "            7,     6,     6,     6,     5,     5,     5,     4,     4,\n",
       "            4,     3,     3,     3,     3,     2,     2,     2,     2,\n",
       "            2,     2,     2,     2,     1,     1,     1,     1,     1,\n",
       "            1,     1,     1,     1,     1,     1,     1,     1,     1,\n",
       "            1,     1,     1,     1,     1,     1,     1,     1,     1,\n",
       "            1,     1,     1,     1], dtype=int64)]"
      ]
     },
     "execution_count": 21,
     "metadata": {},
     "output_type": "execute_result"
    }
   ],
   "source": [
    "l"
   ]
  },
  {
   "cell_type": "code",
   "execution_count": 22,
   "id": "b91dcd1d",
   "metadata": {},
   "outputs": [
    {
     "data": {
      "text/plain": [
       "Index(['Australia', 'Malaysia', 'South Korea', 'Japan', 'China', 'Indonesia',\n",
       "       'Taiwan', 'Thailand', 'India', 'New Zealand', 'Singapore',\n",
       "       'United States', 'Vietnam', 'Macau', 'Hong Kong', 'Philippines',\n",
       "       'United Kingdom', 'Brunei', 'Cambodia', 'Sri Lanka', 'France', 'Italy',\n",
       "       'Canada', 'Germany', 'Myanmar (Burma)', 'Netherlands', 'Mauritius',\n",
       "       'United Arab Emirates', 'Nepal', 'Saudi Arabia', 'Bangladesh', 'Russia',\n",
       "       'Spain', 'Laos', 'Switzerland', 'Chile', 'Qatar', 'Iran', 'Sweden',\n",
       "       'Réunion', 'Ireland', 'Mexico', 'Kuwait', 'Oman', 'Brazil', 'Turkey',\n",
       "       'Czech Republic', 'Mongolia', 'Finland', 'Poland', 'Austria', 'Denmark',\n",
       "       'Greece', 'Maldives', 'Belgium', 'Portugal', 'Argentina',\n",
       "       'New Caledonia', 'Ukraine', 'Norway', 'Bahrain', 'Peru', 'Colombia',\n",
       "       'Romania', 'South Africa', 'Kenya', 'Kazakhstan', 'Hungary', 'Israel',\n",
       "       'Slovenia', 'Solomon Islands', 'Guam', 'Timor-Leste', 'Cyprus',\n",
       "       'Croatia', 'Tunisia'],\n",
       "      dtype='object')"
      ]
     },
     "execution_count": 22,
     "metadata": {},
     "output_type": "execute_result"
    }
   ],
   "source": [
    "# Top 25 countries with over 1+ bookings\n",
    "\n",
    "df['booking_origin'].value_counts().index[df['booking_origin'].value_counts().values >1]"
   ]
  },
  {
   "cell_type": "code",
   "execution_count": 23,
   "id": "74bd7e74",
   "metadata": {},
   "outputs": [
    {
     "data": {
      "text/html": [
       "<div>\n",
       "<style scoped>\n",
       "    .dataframe tbody tr th:only-of-type {\n",
       "        vertical-align: middle;\n",
       "    }\n",
       "\n",
       "    .dataframe tbody tr th {\n",
       "        vertical-align: top;\n",
       "    }\n",
       "\n",
       "    .dataframe thead th {\n",
       "        text-align: right;\n",
       "    }\n",
       "</style>\n",
       "<table border=\"1\" class=\"dataframe\">\n",
       "  <thead>\n",
       "    <tr style=\"text-align: right;\">\n",
       "      <th></th>\n",
       "      <th>num_passengers</th>\n",
       "      <th>sales_channel</th>\n",
       "      <th>trip_type</th>\n",
       "      <th>purchase_lead</th>\n",
       "      <th>length_of_stay</th>\n",
       "      <th>flight_hour</th>\n",
       "      <th>flight_day</th>\n",
       "      <th>route</th>\n",
       "      <th>booking_origin</th>\n",
       "      <th>wants_extra_baggage</th>\n",
       "      <th>wants_preferred_seat</th>\n",
       "      <th>wants_in_flight_meals</th>\n",
       "      <th>flight_duration</th>\n",
       "      <th>booking_complete</th>\n",
       "      <th>continent</th>\n",
       "    </tr>\n",
       "  </thead>\n",
       "  <tbody>\n",
       "    <tr>\n",
       "      <th>0</th>\n",
       "      <td>2</td>\n",
       "      <td>Internet</td>\n",
       "      <td>RoundTrip</td>\n",
       "      <td>262</td>\n",
       "      <td>19</td>\n",
       "      <td>7</td>\n",
       "      <td>Sat</td>\n",
       "      <td>AKLDEL</td>\n",
       "      <td>New Zealand</td>\n",
       "      <td>1</td>\n",
       "      <td>0</td>\n",
       "      <td>0</td>\n",
       "      <td>5.52</td>\n",
       "      <td>0</td>\n",
       "      <td>Oceania</td>\n",
       "    </tr>\n",
       "    <tr>\n",
       "      <th>1</th>\n",
       "      <td>1</td>\n",
       "      <td>Internet</td>\n",
       "      <td>RoundTrip</td>\n",
       "      <td>112</td>\n",
       "      <td>20</td>\n",
       "      <td>3</td>\n",
       "      <td>Sat</td>\n",
       "      <td>AKLDEL</td>\n",
       "      <td>New Zealand</td>\n",
       "      <td>0</td>\n",
       "      <td>0</td>\n",
       "      <td>0</td>\n",
       "      <td>5.52</td>\n",
       "      <td>0</td>\n",
       "      <td>Oceania</td>\n",
       "    </tr>\n",
       "    <tr>\n",
       "      <th>2</th>\n",
       "      <td>2</td>\n",
       "      <td>Internet</td>\n",
       "      <td>RoundTrip</td>\n",
       "      <td>243</td>\n",
       "      <td>22</td>\n",
       "      <td>17</td>\n",
       "      <td>Wed</td>\n",
       "      <td>AKLDEL</td>\n",
       "      <td>India</td>\n",
       "      <td>1</td>\n",
       "      <td>1</td>\n",
       "      <td>0</td>\n",
       "      <td>5.52</td>\n",
       "      <td>0</td>\n",
       "      <td>Asia</td>\n",
       "    </tr>\n",
       "    <tr>\n",
       "      <th>3</th>\n",
       "      <td>1</td>\n",
       "      <td>Internet</td>\n",
       "      <td>RoundTrip</td>\n",
       "      <td>96</td>\n",
       "      <td>31</td>\n",
       "      <td>4</td>\n",
       "      <td>Sat</td>\n",
       "      <td>AKLDEL</td>\n",
       "      <td>New Zealand</td>\n",
       "      <td>0</td>\n",
       "      <td>0</td>\n",
       "      <td>1</td>\n",
       "      <td>5.52</td>\n",
       "      <td>0</td>\n",
       "      <td>Oceania</td>\n",
       "    </tr>\n",
       "    <tr>\n",
       "      <th>4</th>\n",
       "      <td>2</td>\n",
       "      <td>Internet</td>\n",
       "      <td>RoundTrip</td>\n",
       "      <td>68</td>\n",
       "      <td>22</td>\n",
       "      <td>15</td>\n",
       "      <td>Wed</td>\n",
       "      <td>AKLDEL</td>\n",
       "      <td>India</td>\n",
       "      <td>1</td>\n",
       "      <td>0</td>\n",
       "      <td>1</td>\n",
       "      <td>5.52</td>\n",
       "      <td>0</td>\n",
       "      <td>Asia</td>\n",
       "    </tr>\n",
       "  </tbody>\n",
       "</table>\n",
       "</div>"
      ],
      "text/plain": [
       "   num_passengers sales_channel  trip_type  purchase_lead  length_of_stay  \\\n",
       "0               2      Internet  RoundTrip            262              19   \n",
       "1               1      Internet  RoundTrip            112              20   \n",
       "2               2      Internet  RoundTrip            243              22   \n",
       "3               1      Internet  RoundTrip             96              31   \n",
       "4               2      Internet  RoundTrip             68              22   \n",
       "\n",
       "   flight_hour flight_day   route booking_origin wants_extra_baggage  \\\n",
       "0            7        Sat  AKLDEL    New Zealand                   1   \n",
       "1            3        Sat  AKLDEL    New Zealand                   0   \n",
       "2           17        Wed  AKLDEL          India                   1   \n",
       "3            4        Sat  AKLDEL    New Zealand                   0   \n",
       "4           15        Wed  AKLDEL          India                   1   \n",
       "\n",
       "  wants_preferred_seat wants_in_flight_meals  flight_duration  \\\n",
       "0                    0                     0             5.52   \n",
       "1                    0                     0             5.52   \n",
       "2                    1                     0             5.52   \n",
       "3                    0                     1             5.52   \n",
       "4                    0                     1             5.52   \n",
       "\n",
       "  booking_complete continent  \n",
       "0                0   Oceania  \n",
       "1                0   Oceania  \n",
       "2                0      Asia  \n",
       "3                0   Oceania  \n",
       "4                0      Asia  "
      ]
     },
     "execution_count": 23,
     "metadata": {},
     "output_type": "execute_result"
    }
   ],
   "source": [
    "# Mapping dictionary for continents\n",
    "continent_mapping = {\n",
    "    'Australia': 'Oceania',\n",
    "    'Malaysia': 'Asia',\n",
    "    'South Korea': 'Asia',\n",
    "    'Japan': 'Asia',\n",
    "    'China': 'Asia',\n",
    "    'Indonesia': 'Asia',\n",
    "    'Taiwan': 'Asia',\n",
    "    'Thailand': 'Asia',\n",
    "    'India': 'Asia',\n",
    "    'New Zealand': 'Oceania',\n",
    "    'Singapore': 'Asia',\n",
    "    'United States': 'North America',\n",
    "    'Vietnam': 'Asia',\n",
    "    'Macau': 'Asia',\n",
    "    'Hong Kong': 'Asia',\n",
    "    'Philippines': 'Asia',\n",
    "    'United Kingdom': 'Europe',\n",
    "    'Brunei': 'Asia',\n",
    "    'Cambodia': 'Asia',\n",
    "    'Sri Lanka': 'Asia',\n",
    "    'France': 'Europe',\n",
    "    'Italy': 'Europe',\n",
    "    'Canada': 'North America',\n",
    "    'Germany': 'Europe',\n",
    "    'Myanmar (Burma)': 'Asia',\n",
    "    'Netherlands': 'Europe',\n",
    "    'Mauritius': 'Africa',\n",
    "    'United Arab Emirates': 'Asia',\n",
    "    'Nepal': 'Asia',\n",
    "    'Saudi Arabia': 'Asia',\n",
    "    'Bangladesh': 'Asia',\n",
    "    'Russia': 'Europe',\n",
    "    'Spain': 'Europe',\n",
    "    'Laos': 'Asia',\n",
    "    'Switzerland': 'Europe',\n",
    "    'Chile': 'South America',\n",
    "    'Qatar': 'Asia',\n",
    "    'Iran': 'Asia',\n",
    "    'Sweden': 'Europe',\n",
    "    'Réunion': 'Africa',\n",
    "    'Ireland': 'Europe',\n",
    "    'Mexico': 'North America',\n",
    "    'Kuwait': 'Asia',\n",
    "    'Oman': 'Asia',\n",
    "    'Brazil': 'South America',\n",
    "    'Turkey': 'Asia',\n",
    "    'Czech Republic': 'Europe',\n",
    "    'Maldives': 'Asia',\n",
    "    'Mongolia': 'Asia',\n",
    "    'Finland': 'Europe',\n",
    "    'Poland': 'Europe',\n",
    "    'Austria': 'Europe',\n",
    "    'Denmark': 'Europe',\n",
    "    'Greece': 'Europe',\n",
    "    'Belgium': 'Europe',\n",
    "    'Portugal': 'Europe',\n",
    "    'Argentina': 'South America',\n",
    "    'New Caledonia': 'Oceania',\n",
    "    'Ukraine': 'Europe',\n",
    "    'Bahrain': 'Asia',\n",
    "    'Norway': 'Europe',\n",
    "    'Peru': 'South America',\n",
    "    'Colombia': 'South America',\n",
    "    'Romania': 'Europe',\n",
    "    'South Africa': 'Africa',\n",
    "    'Kenya': 'Africa',\n",
    "    'Kazakhstan': 'Asia',\n",
    "    'Hungary': 'Europe',\n",
    "    'Israel': 'Asia',\n",
    "    'Slovenia': 'Europe',\n",
    "    'Solomon Islands': 'Oceania',\n",
    "    'Guam': 'Oceania',\n",
    "    'Timor-Leste': 'Asia',\n",
    "    'Cyprus': 'Asia',\n",
    "    'Croatia': 'Europe',\n",
    "    'Tunisia': 'Africa'\n",
    "}\n",
    "\n",
    "# Create a new column for continents based on the mapping dictionary\n",
    "df['continent'] = df['booking_origin'].map(continent_mapping)\n",
    "\n",
    "# Display the updated DataFrame\n",
    "\n",
    "df.head()"
   ]
  },
  {
   "cell_type": "code",
   "execution_count": 24,
   "id": "c402e25a",
   "metadata": {},
   "outputs": [
    {
     "name": "stdout",
     "output_type": "stream",
     "text": [
      "(49931, 15)\n"
     ]
    },
    {
     "data": {
      "text/html": [
       "<div>\n",
       "<style scoped>\n",
       "    .dataframe tbody tr th:only-of-type {\n",
       "        vertical-align: middle;\n",
       "    }\n",
       "\n",
       "    .dataframe tbody tr th {\n",
       "        vertical-align: top;\n",
       "    }\n",
       "\n",
       "    .dataframe thead th {\n",
       "        text-align: right;\n",
       "    }\n",
       "</style>\n",
       "<table border=\"1\" class=\"dataframe\">\n",
       "  <thead>\n",
       "    <tr style=\"text-align: right;\">\n",
       "      <th></th>\n",
       "      <th>num_passengers</th>\n",
       "      <th>sales_channel</th>\n",
       "      <th>trip_type</th>\n",
       "      <th>purchase_lead</th>\n",
       "      <th>length_of_stay</th>\n",
       "      <th>flight_hour</th>\n",
       "      <th>flight_day</th>\n",
       "      <th>route</th>\n",
       "      <th>booking_origin</th>\n",
       "      <th>wants_extra_baggage</th>\n",
       "      <th>wants_preferred_seat</th>\n",
       "      <th>wants_in_flight_meals</th>\n",
       "      <th>flight_duration</th>\n",
       "      <th>booking_complete</th>\n",
       "      <th>continent</th>\n",
       "    </tr>\n",
       "  </thead>\n",
       "  <tbody>\n",
       "    <tr>\n",
       "      <th>0</th>\n",
       "      <td>2</td>\n",
       "      <td>Internet</td>\n",
       "      <td>RoundTrip</td>\n",
       "      <td>262</td>\n",
       "      <td>19</td>\n",
       "      <td>7</td>\n",
       "      <td>Sat</td>\n",
       "      <td>AKLDEL</td>\n",
       "      <td>New Zealand</td>\n",
       "      <td>1</td>\n",
       "      <td>0</td>\n",
       "      <td>0</td>\n",
       "      <td>5.52</td>\n",
       "      <td>0</td>\n",
       "      <td>Oceania</td>\n",
       "    </tr>\n",
       "    <tr>\n",
       "      <th>1</th>\n",
       "      <td>1</td>\n",
       "      <td>Internet</td>\n",
       "      <td>RoundTrip</td>\n",
       "      <td>112</td>\n",
       "      <td>20</td>\n",
       "      <td>3</td>\n",
       "      <td>Sat</td>\n",
       "      <td>AKLDEL</td>\n",
       "      <td>New Zealand</td>\n",
       "      <td>0</td>\n",
       "      <td>0</td>\n",
       "      <td>0</td>\n",
       "      <td>5.52</td>\n",
       "      <td>0</td>\n",
       "      <td>Oceania</td>\n",
       "    </tr>\n",
       "    <tr>\n",
       "      <th>2</th>\n",
       "      <td>2</td>\n",
       "      <td>Internet</td>\n",
       "      <td>RoundTrip</td>\n",
       "      <td>243</td>\n",
       "      <td>22</td>\n",
       "      <td>17</td>\n",
       "      <td>Wed</td>\n",
       "      <td>AKLDEL</td>\n",
       "      <td>India</td>\n",
       "      <td>1</td>\n",
       "      <td>1</td>\n",
       "      <td>0</td>\n",
       "      <td>5.52</td>\n",
       "      <td>0</td>\n",
       "      <td>Asia</td>\n",
       "    </tr>\n",
       "    <tr>\n",
       "      <th>3</th>\n",
       "      <td>1</td>\n",
       "      <td>Internet</td>\n",
       "      <td>RoundTrip</td>\n",
       "      <td>96</td>\n",
       "      <td>31</td>\n",
       "      <td>4</td>\n",
       "      <td>Sat</td>\n",
       "      <td>AKLDEL</td>\n",
       "      <td>New Zealand</td>\n",
       "      <td>0</td>\n",
       "      <td>0</td>\n",
       "      <td>1</td>\n",
       "      <td>5.52</td>\n",
       "      <td>0</td>\n",
       "      <td>Oceania</td>\n",
       "    </tr>\n",
       "    <tr>\n",
       "      <th>4</th>\n",
       "      <td>2</td>\n",
       "      <td>Internet</td>\n",
       "      <td>RoundTrip</td>\n",
       "      <td>68</td>\n",
       "      <td>22</td>\n",
       "      <td>15</td>\n",
       "      <td>Wed</td>\n",
       "      <td>AKLDEL</td>\n",
       "      <td>India</td>\n",
       "      <td>1</td>\n",
       "      <td>0</td>\n",
       "      <td>1</td>\n",
       "      <td>5.52</td>\n",
       "      <td>0</td>\n",
       "      <td>Asia</td>\n",
       "    </tr>\n",
       "  </tbody>\n",
       "</table>\n",
       "</div>"
      ],
      "text/plain": [
       "   num_passengers sales_channel  trip_type  purchase_lead  length_of_stay  \\\n",
       "0               2      Internet  RoundTrip            262              19   \n",
       "1               1      Internet  RoundTrip            112              20   \n",
       "2               2      Internet  RoundTrip            243              22   \n",
       "3               1      Internet  RoundTrip             96              31   \n",
       "4               2      Internet  RoundTrip             68              22   \n",
       "\n",
       "   flight_hour flight_day   route booking_origin wants_extra_baggage  \\\n",
       "0            7        Sat  AKLDEL    New Zealand                   1   \n",
       "1            3        Sat  AKLDEL    New Zealand                   0   \n",
       "2           17        Wed  AKLDEL          India                   1   \n",
       "3            4        Sat  AKLDEL    New Zealand                   0   \n",
       "4           15        Wed  AKLDEL          India                   1   \n",
       "\n",
       "  wants_preferred_seat wants_in_flight_meals  flight_duration  \\\n",
       "0                    0                     0             5.52   \n",
       "1                    0                     0             5.52   \n",
       "2                    1                     0             5.52   \n",
       "3                    0                     1             5.52   \n",
       "4                    0                     1             5.52   \n",
       "\n",
       "  booking_complete continent  \n",
       "0                0   Oceania  \n",
       "1                0   Oceania  \n",
       "2                0      Asia  \n",
       "3                0   Oceania  \n",
       "4                0      Asia  "
      ]
     },
     "execution_count": 24,
     "metadata": {},
     "output_type": "execute_result"
    }
   ],
   "source": [
    "df = df[df['continent'].isna()==False]\n",
    "print(df.shape)\n",
    "df.head()"
   ]
  },
  {
   "cell_type": "code",
   "execution_count": 25,
   "id": "9de8f3bc",
   "metadata": {},
   "outputs": [
    {
     "data": {
      "text/plain": [
       "Asia             59.630290\n",
       "Oceania          37.974405\n",
       "Europe            1.143578\n",
       "North America     1.043440\n",
       "Africa            0.128177\n",
       "South America     0.080111\n",
       "Name: continent, dtype: float64"
      ]
     },
     "execution_count": 25,
     "metadata": {},
     "output_type": "execute_result"
    }
   ],
   "source": [
    "df['continent'].value_counts(normalize=True)*100"
   ]
  },
  {
   "cell_type": "markdown",
   "id": "59d49656",
   "metadata": {},
   "source": [
    "- merging all non asian continents"
   ]
  },
  {
   "cell_type": "code",
   "execution_count": 26,
   "id": "e73f3eb4",
   "metadata": {},
   "outputs": [],
   "source": [
    "continent_mapping1 = {\n",
    "    'Oceania': 'Non Asian',\n",
    "    'Europe': 'Non Asian',\n",
    "    'North America': 'Non Asian',\n",
    "    'South America': 'Non Asian',\n",
    "    'Africa': 'Non Asian',\n",
    "    'Asia': 'Asian',\n",
    "    }"
   ]
  },
  {
   "cell_type": "code",
   "execution_count": 27,
   "id": "df206b07",
   "metadata": {},
   "outputs": [],
   "source": [
    "df['continent'] = df['continent'].map(continent_mapping1)"
   ]
  },
  {
   "cell_type": "code",
   "execution_count": 28,
   "id": "1ec36a61",
   "metadata": {},
   "outputs": [
    {
     "data": {
      "text/plain": [
       "Asian        59.63029\n",
       "Non Asian    40.36971\n",
       "Name: continent, dtype: float64"
      ]
     },
     "execution_count": 28,
     "metadata": {},
     "output_type": "execute_result"
    }
   ],
   "source": [
    "df['continent'].value_counts(normalize=True)*100"
   ]
  },
  {
   "cell_type": "code",
   "execution_count": 29,
   "id": "c0223835",
   "metadata": {},
   "outputs": [
    {
     "data": {
      "text/plain": [
       "19.24"
      ]
     },
     "execution_count": 29,
     "metadata": {},
     "output_type": "execute_result"
    }
   ],
   "source": [
    "round((59.622-40.377),2)"
   ]
  },
  {
   "cell_type": "code",
   "execution_count": 30,
   "id": "05a39408",
   "metadata": {},
   "outputs": [
    {
     "data": {
      "text/plain": [
       "(49931, 15)"
      ]
     },
     "execution_count": 30,
     "metadata": {},
     "output_type": "execute_result"
    }
   ],
   "source": [
    "df.shape"
   ]
  },
  {
   "cell_type": "markdown",
   "id": "b1f66333",
   "metadata": {},
   "source": [
    "* The continent column is better balanced"
   ]
  },
  {
   "cell_type": "code",
   "execution_count": 31,
   "id": "b4400430",
   "metadata": {},
   "outputs": [
    {
     "data": {
      "text/plain": [
       "(49429, 15)"
      ]
     },
     "execution_count": 31,
     "metadata": {},
     "output_type": "execute_result"
    }
   ],
   "source": [
    "df = df[df['trip_type']=='RoundTrip']\n",
    "df.shape"
   ]
  },
  {
   "cell_type": "markdown",
   "id": "2709fde5",
   "metadata": {},
   "source": [
    "- Featues wants_in_flight_meals is the only categorical feature which is balanced\n",
    "- We will proceed to model with this data, further more we shall balance the data with smote"
   ]
  },
  {
   "cell_type": "code",
   "execution_count": 32,
   "id": "b342b57f",
   "metadata": {},
   "outputs": [
    {
     "data": {
      "text/html": [
       "<div>\n",
       "<style scoped>\n",
       "    .dataframe tbody tr th:only-of-type {\n",
       "        vertical-align: middle;\n",
       "    }\n",
       "\n",
       "    .dataframe tbody tr th {\n",
       "        vertical-align: top;\n",
       "    }\n",
       "\n",
       "    .dataframe thead th {\n",
       "        text-align: right;\n",
       "    }\n",
       "</style>\n",
       "<table border=\"1\" class=\"dataframe\">\n",
       "  <thead>\n",
       "    <tr style=\"text-align: right;\">\n",
       "      <th></th>\n",
       "      <th>num_passengers</th>\n",
       "      <th>sales_channel</th>\n",
       "      <th>trip_type</th>\n",
       "      <th>purchase_lead</th>\n",
       "      <th>length_of_stay</th>\n",
       "      <th>flight_hour</th>\n",
       "      <th>flight_day</th>\n",
       "      <th>route</th>\n",
       "      <th>booking_origin</th>\n",
       "      <th>wants_extra_baggage</th>\n",
       "      <th>wants_preferred_seat</th>\n",
       "      <th>wants_in_flight_meals</th>\n",
       "      <th>flight_duration</th>\n",
       "      <th>booking_complete</th>\n",
       "      <th>continent</th>\n",
       "    </tr>\n",
       "  </thead>\n",
       "  <tbody>\n",
       "    <tr>\n",
       "      <th>0</th>\n",
       "      <td>2</td>\n",
       "      <td>Internet</td>\n",
       "      <td>RoundTrip</td>\n",
       "      <td>262</td>\n",
       "      <td>19</td>\n",
       "      <td>7</td>\n",
       "      <td>Sat</td>\n",
       "      <td>AKLDEL</td>\n",
       "      <td>New Zealand</td>\n",
       "      <td>1</td>\n",
       "      <td>0</td>\n",
       "      <td>0</td>\n",
       "      <td>5.52</td>\n",
       "      <td>0</td>\n",
       "      <td>Non Asian</td>\n",
       "    </tr>\n",
       "    <tr>\n",
       "      <th>1</th>\n",
       "      <td>1</td>\n",
       "      <td>Internet</td>\n",
       "      <td>RoundTrip</td>\n",
       "      <td>112</td>\n",
       "      <td>20</td>\n",
       "      <td>3</td>\n",
       "      <td>Sat</td>\n",
       "      <td>AKLDEL</td>\n",
       "      <td>New Zealand</td>\n",
       "      <td>0</td>\n",
       "      <td>0</td>\n",
       "      <td>0</td>\n",
       "      <td>5.52</td>\n",
       "      <td>0</td>\n",
       "      <td>Non Asian</td>\n",
       "    </tr>\n",
       "    <tr>\n",
       "      <th>2</th>\n",
       "      <td>2</td>\n",
       "      <td>Internet</td>\n",
       "      <td>RoundTrip</td>\n",
       "      <td>243</td>\n",
       "      <td>22</td>\n",
       "      <td>17</td>\n",
       "      <td>Wed</td>\n",
       "      <td>AKLDEL</td>\n",
       "      <td>India</td>\n",
       "      <td>1</td>\n",
       "      <td>1</td>\n",
       "      <td>0</td>\n",
       "      <td>5.52</td>\n",
       "      <td>0</td>\n",
       "      <td>Asian</td>\n",
       "    </tr>\n",
       "    <tr>\n",
       "      <th>3</th>\n",
       "      <td>1</td>\n",
       "      <td>Internet</td>\n",
       "      <td>RoundTrip</td>\n",
       "      <td>96</td>\n",
       "      <td>31</td>\n",
       "      <td>4</td>\n",
       "      <td>Sat</td>\n",
       "      <td>AKLDEL</td>\n",
       "      <td>New Zealand</td>\n",
       "      <td>0</td>\n",
       "      <td>0</td>\n",
       "      <td>1</td>\n",
       "      <td>5.52</td>\n",
       "      <td>0</td>\n",
       "      <td>Non Asian</td>\n",
       "    </tr>\n",
       "    <tr>\n",
       "      <th>4</th>\n",
       "      <td>2</td>\n",
       "      <td>Internet</td>\n",
       "      <td>RoundTrip</td>\n",
       "      <td>68</td>\n",
       "      <td>22</td>\n",
       "      <td>15</td>\n",
       "      <td>Wed</td>\n",
       "      <td>AKLDEL</td>\n",
       "      <td>India</td>\n",
       "      <td>1</td>\n",
       "      <td>0</td>\n",
       "      <td>1</td>\n",
       "      <td>5.52</td>\n",
       "      <td>0</td>\n",
       "      <td>Asian</td>\n",
       "    </tr>\n",
       "  </tbody>\n",
       "</table>\n",
       "</div>"
      ],
      "text/plain": [
       "   num_passengers sales_channel  trip_type  purchase_lead  length_of_stay  \\\n",
       "0               2      Internet  RoundTrip            262              19   \n",
       "1               1      Internet  RoundTrip            112              20   \n",
       "2               2      Internet  RoundTrip            243              22   \n",
       "3               1      Internet  RoundTrip             96              31   \n",
       "4               2      Internet  RoundTrip             68              22   \n",
       "\n",
       "   flight_hour flight_day   route booking_origin wants_extra_baggage  \\\n",
       "0            7        Sat  AKLDEL    New Zealand                   1   \n",
       "1            3        Sat  AKLDEL    New Zealand                   0   \n",
       "2           17        Wed  AKLDEL          India                   1   \n",
       "3            4        Sat  AKLDEL    New Zealand                   0   \n",
       "4           15        Wed  AKLDEL          India                   1   \n",
       "\n",
       "  wants_preferred_seat wants_in_flight_meals  flight_duration  \\\n",
       "0                    0                     0             5.52   \n",
       "1                    0                     0             5.52   \n",
       "2                    1                     0             5.52   \n",
       "3                    0                     1             5.52   \n",
       "4                    0                     1             5.52   \n",
       "\n",
       "  booking_complete  continent  \n",
       "0                0  Non Asian  \n",
       "1                0  Non Asian  \n",
       "2                0      Asian  \n",
       "3                0  Non Asian  \n",
       "4                0      Asian  "
      ]
     },
     "execution_count": 32,
     "metadata": {},
     "output_type": "execute_result"
    }
   ],
   "source": [
    "df.head()"
   ]
  },
  {
   "cell_type": "markdown",
   "id": "b8c1ee81",
   "metadata": {},
   "source": [
    "- Keeping only the necessary columns for modeling"
   ]
  },
  {
   "cell_type": "code",
   "execution_count": 33,
   "id": "66c7be79",
   "metadata": {},
   "outputs": [],
   "source": [
    "new_column_order = ['num_passengers', 'sales_channel', 'purchase_lead', 'length_of_stay', 'flight_hour', 'flight_day', 'flight_duration',\n",
    "                    'continent', 'wants_extra_baggage', 'wants_preferred_seat', 'wants_in_flight_meals', \n",
    "                    'booking_complete']\n",
    "df = df[new_column_order]"
   ]
  },
  {
   "cell_type": "code",
   "execution_count": 34,
   "id": "8a50b57f",
   "metadata": {},
   "outputs": [
    {
     "data": {
      "text/html": [
       "<div>\n",
       "<style scoped>\n",
       "    .dataframe tbody tr th:only-of-type {\n",
       "        vertical-align: middle;\n",
       "    }\n",
       "\n",
       "    .dataframe tbody tr th {\n",
       "        vertical-align: top;\n",
       "    }\n",
       "\n",
       "    .dataframe thead th {\n",
       "        text-align: right;\n",
       "    }\n",
       "</style>\n",
       "<table border=\"1\" class=\"dataframe\">\n",
       "  <thead>\n",
       "    <tr style=\"text-align: right;\">\n",
       "      <th></th>\n",
       "      <th>num_passengers</th>\n",
       "      <th>sales_channel</th>\n",
       "      <th>purchase_lead</th>\n",
       "      <th>length_of_stay</th>\n",
       "      <th>flight_hour</th>\n",
       "      <th>flight_day</th>\n",
       "      <th>flight_duration</th>\n",
       "      <th>continent</th>\n",
       "      <th>wants_extra_baggage</th>\n",
       "      <th>wants_preferred_seat</th>\n",
       "      <th>wants_in_flight_meals</th>\n",
       "      <th>booking_complete</th>\n",
       "    </tr>\n",
       "  </thead>\n",
       "  <tbody>\n",
       "    <tr>\n",
       "      <th>0</th>\n",
       "      <td>2</td>\n",
       "      <td>Internet</td>\n",
       "      <td>262</td>\n",
       "      <td>19</td>\n",
       "      <td>7</td>\n",
       "      <td>Sat</td>\n",
       "      <td>5.52</td>\n",
       "      <td>Non Asian</td>\n",
       "      <td>1</td>\n",
       "      <td>0</td>\n",
       "      <td>0</td>\n",
       "      <td>0</td>\n",
       "    </tr>\n",
       "    <tr>\n",
       "      <th>1</th>\n",
       "      <td>1</td>\n",
       "      <td>Internet</td>\n",
       "      <td>112</td>\n",
       "      <td>20</td>\n",
       "      <td>3</td>\n",
       "      <td>Sat</td>\n",
       "      <td>5.52</td>\n",
       "      <td>Non Asian</td>\n",
       "      <td>0</td>\n",
       "      <td>0</td>\n",
       "      <td>0</td>\n",
       "      <td>0</td>\n",
       "    </tr>\n",
       "    <tr>\n",
       "      <th>2</th>\n",
       "      <td>2</td>\n",
       "      <td>Internet</td>\n",
       "      <td>243</td>\n",
       "      <td>22</td>\n",
       "      <td>17</td>\n",
       "      <td>Wed</td>\n",
       "      <td>5.52</td>\n",
       "      <td>Asian</td>\n",
       "      <td>1</td>\n",
       "      <td>1</td>\n",
       "      <td>0</td>\n",
       "      <td>0</td>\n",
       "    </tr>\n",
       "    <tr>\n",
       "      <th>3</th>\n",
       "      <td>1</td>\n",
       "      <td>Internet</td>\n",
       "      <td>96</td>\n",
       "      <td>31</td>\n",
       "      <td>4</td>\n",
       "      <td>Sat</td>\n",
       "      <td>5.52</td>\n",
       "      <td>Non Asian</td>\n",
       "      <td>0</td>\n",
       "      <td>0</td>\n",
       "      <td>1</td>\n",
       "      <td>0</td>\n",
       "    </tr>\n",
       "    <tr>\n",
       "      <th>4</th>\n",
       "      <td>2</td>\n",
       "      <td>Internet</td>\n",
       "      <td>68</td>\n",
       "      <td>22</td>\n",
       "      <td>15</td>\n",
       "      <td>Wed</td>\n",
       "      <td>5.52</td>\n",
       "      <td>Asian</td>\n",
       "      <td>1</td>\n",
       "      <td>0</td>\n",
       "      <td>1</td>\n",
       "      <td>0</td>\n",
       "    </tr>\n",
       "  </tbody>\n",
       "</table>\n",
       "</div>"
      ],
      "text/plain": [
       "   num_passengers sales_channel  purchase_lead  length_of_stay  flight_hour  \\\n",
       "0               2      Internet            262              19            7   \n",
       "1               1      Internet            112              20            3   \n",
       "2               2      Internet            243              22           17   \n",
       "3               1      Internet             96              31            4   \n",
       "4               2      Internet             68              22           15   \n",
       "\n",
       "  flight_day  flight_duration  continent wants_extra_baggage  \\\n",
       "0        Sat             5.52  Non Asian                   1   \n",
       "1        Sat             5.52  Non Asian                   0   \n",
       "2        Wed             5.52      Asian                   1   \n",
       "3        Sat             5.52  Non Asian                   0   \n",
       "4        Wed             5.52      Asian                   1   \n",
       "\n",
       "  wants_preferred_seat wants_in_flight_meals booking_complete  \n",
       "0                    0                     0                0  \n",
       "1                    0                     0                0  \n",
       "2                    1                     0                0  \n",
       "3                    0                     1                0  \n",
       "4                    0                     1                0  "
      ]
     },
     "execution_count": 34,
     "metadata": {},
     "output_type": "execute_result"
    }
   ],
   "source": [
    "df.head()"
   ]
  },
  {
   "cell_type": "code",
   "execution_count": 35,
   "id": "134d20b2",
   "metadata": {},
   "outputs": [],
   "source": [
    "df['continent'].replace('Asian',1, inplace=True)\n",
    "df['continent'].replace('Non Asian',0, inplace=True)"
   ]
  },
  {
   "cell_type": "code",
   "execution_count": 36,
   "id": "a2526e37",
   "metadata": {},
   "outputs": [],
   "source": [
    "df['continent'] = df['continent'].astype('object')"
   ]
  },
  {
   "cell_type": "code",
   "execution_count": 37,
   "id": "752a3617",
   "metadata": {},
   "outputs": [
    {
     "data": {
      "text/html": [
       "<div>\n",
       "<style scoped>\n",
       "    .dataframe tbody tr th:only-of-type {\n",
       "        vertical-align: middle;\n",
       "    }\n",
       "\n",
       "    .dataframe tbody tr th {\n",
       "        vertical-align: top;\n",
       "    }\n",
       "\n",
       "    .dataframe thead th {\n",
       "        text-align: right;\n",
       "    }\n",
       "</style>\n",
       "<table border=\"1\" class=\"dataframe\">\n",
       "  <thead>\n",
       "    <tr style=\"text-align: right;\">\n",
       "      <th></th>\n",
       "      <th>num_passengers</th>\n",
       "      <th>sales_channel</th>\n",
       "      <th>purchase_lead</th>\n",
       "      <th>length_of_stay</th>\n",
       "      <th>flight_hour</th>\n",
       "      <th>flight_day</th>\n",
       "      <th>flight_duration</th>\n",
       "      <th>continent</th>\n",
       "      <th>wants_extra_baggage</th>\n",
       "      <th>wants_preferred_seat</th>\n",
       "      <th>wants_in_flight_meals</th>\n",
       "      <th>booking_complete</th>\n",
       "    </tr>\n",
       "  </thead>\n",
       "  <tbody>\n",
       "    <tr>\n",
       "      <th>0</th>\n",
       "      <td>2</td>\n",
       "      <td>Internet</td>\n",
       "      <td>262</td>\n",
       "      <td>19</td>\n",
       "      <td>7</td>\n",
       "      <td>Sat</td>\n",
       "      <td>5.52</td>\n",
       "      <td>0</td>\n",
       "      <td>1</td>\n",
       "      <td>0</td>\n",
       "      <td>0</td>\n",
       "      <td>0</td>\n",
       "    </tr>\n",
       "    <tr>\n",
       "      <th>1</th>\n",
       "      <td>1</td>\n",
       "      <td>Internet</td>\n",
       "      <td>112</td>\n",
       "      <td>20</td>\n",
       "      <td>3</td>\n",
       "      <td>Sat</td>\n",
       "      <td>5.52</td>\n",
       "      <td>0</td>\n",
       "      <td>0</td>\n",
       "      <td>0</td>\n",
       "      <td>0</td>\n",
       "      <td>0</td>\n",
       "    </tr>\n",
       "    <tr>\n",
       "      <th>2</th>\n",
       "      <td>2</td>\n",
       "      <td>Internet</td>\n",
       "      <td>243</td>\n",
       "      <td>22</td>\n",
       "      <td>17</td>\n",
       "      <td>Wed</td>\n",
       "      <td>5.52</td>\n",
       "      <td>1</td>\n",
       "      <td>1</td>\n",
       "      <td>1</td>\n",
       "      <td>0</td>\n",
       "      <td>0</td>\n",
       "    </tr>\n",
       "    <tr>\n",
       "      <th>3</th>\n",
       "      <td>1</td>\n",
       "      <td>Internet</td>\n",
       "      <td>96</td>\n",
       "      <td>31</td>\n",
       "      <td>4</td>\n",
       "      <td>Sat</td>\n",
       "      <td>5.52</td>\n",
       "      <td>0</td>\n",
       "      <td>0</td>\n",
       "      <td>0</td>\n",
       "      <td>1</td>\n",
       "      <td>0</td>\n",
       "    </tr>\n",
       "    <tr>\n",
       "      <th>4</th>\n",
       "      <td>2</td>\n",
       "      <td>Internet</td>\n",
       "      <td>68</td>\n",
       "      <td>22</td>\n",
       "      <td>15</td>\n",
       "      <td>Wed</td>\n",
       "      <td>5.52</td>\n",
       "      <td>1</td>\n",
       "      <td>1</td>\n",
       "      <td>0</td>\n",
       "      <td>1</td>\n",
       "      <td>0</td>\n",
       "    </tr>\n",
       "  </tbody>\n",
       "</table>\n",
       "</div>"
      ],
      "text/plain": [
       "   num_passengers sales_channel  purchase_lead  length_of_stay  flight_hour  \\\n",
       "0               2      Internet            262              19            7   \n",
       "1               1      Internet            112              20            3   \n",
       "2               2      Internet            243              22           17   \n",
       "3               1      Internet             96              31            4   \n",
       "4               2      Internet             68              22           15   \n",
       "\n",
       "  flight_day  flight_duration continent wants_extra_baggage  \\\n",
       "0        Sat             5.52         0                   1   \n",
       "1        Sat             5.52         0                   0   \n",
       "2        Wed             5.52         1                   1   \n",
       "3        Sat             5.52         0                   0   \n",
       "4        Wed             5.52         1                   1   \n",
       "\n",
       "  wants_preferred_seat wants_in_flight_meals booking_complete  \n",
       "0                    0                     0                0  \n",
       "1                    0                     0                0  \n",
       "2                    1                     0                0  \n",
       "3                    0                     1                0  \n",
       "4                    0                     1                0  "
      ]
     },
     "execution_count": 37,
     "metadata": {},
     "output_type": "execute_result"
    }
   ],
   "source": [
    "df.head()"
   ]
  },
  {
   "cell_type": "code",
   "execution_count": 38,
   "id": "e8f7c4cb",
   "metadata": {},
   "outputs": [
    {
     "data": {
      "text/plain": [
       "(49429, 12)"
      ]
     },
     "execution_count": 38,
     "metadata": {},
     "output_type": "execute_result"
    }
   ],
   "source": [
    "df.shape"
   ]
  },
  {
   "cell_type": "markdown",
   "id": "9fc54436",
   "metadata": {},
   "source": [
    "# Splitting into categorical and numerical features"
   ]
  },
  {
   "cell_type": "markdown",
   "id": "1346ad96",
   "metadata": {},
   "source": [
    "# Categorical"
   ]
  },
  {
   "cell_type": "code",
   "execution_count": 39,
   "id": "03eeaa7f",
   "metadata": {},
   "outputs": [
    {
     "data": {
      "text/html": [
       "<div>\n",
       "<style scoped>\n",
       "    .dataframe tbody tr th:only-of-type {\n",
       "        vertical-align: middle;\n",
       "    }\n",
       "\n",
       "    .dataframe tbody tr th {\n",
       "        vertical-align: top;\n",
       "    }\n",
       "\n",
       "    .dataframe thead th {\n",
       "        text-align: right;\n",
       "    }\n",
       "</style>\n",
       "<table border=\"1\" class=\"dataframe\">\n",
       "  <thead>\n",
       "    <tr style=\"text-align: right;\">\n",
       "      <th></th>\n",
       "      <th>sales_channel</th>\n",
       "      <th>flight_day</th>\n",
       "      <th>continent</th>\n",
       "      <th>wants_extra_baggage</th>\n",
       "      <th>wants_preferred_seat</th>\n",
       "      <th>wants_in_flight_meals</th>\n",
       "      <th>booking_complete</th>\n",
       "    </tr>\n",
       "  </thead>\n",
       "  <tbody>\n",
       "    <tr>\n",
       "      <th>0</th>\n",
       "      <td>Internet</td>\n",
       "      <td>Sat</td>\n",
       "      <td>0</td>\n",
       "      <td>1</td>\n",
       "      <td>0</td>\n",
       "      <td>0</td>\n",
       "      <td>0</td>\n",
       "    </tr>\n",
       "    <tr>\n",
       "      <th>1</th>\n",
       "      <td>Internet</td>\n",
       "      <td>Sat</td>\n",
       "      <td>0</td>\n",
       "      <td>0</td>\n",
       "      <td>0</td>\n",
       "      <td>0</td>\n",
       "      <td>0</td>\n",
       "    </tr>\n",
       "  </tbody>\n",
       "</table>\n",
       "</div>"
      ],
      "text/plain": [
       "  sales_channel flight_day continent wants_extra_baggage wants_preferred_seat  \\\n",
       "0      Internet        Sat         0                   1                    0   \n",
       "1      Internet        Sat         0                   0                    0   \n",
       "\n",
       "  wants_in_flight_meals booking_complete  \n",
       "0                     0                0  \n",
       "1                     0                0  "
      ]
     },
     "execution_count": 39,
     "metadata": {},
     "output_type": "execute_result"
    }
   ],
   "source": [
    "cdf = df.select_dtypes(include='object')\n",
    "cdf.head(2)"
   ]
  },
  {
   "cell_type": "code",
   "execution_count": 40,
   "id": "f3636074",
   "metadata": {},
   "outputs": [
    {
     "data": {
      "text/plain": [
       "(49429, 7)"
      ]
     },
     "execution_count": 40,
     "metadata": {},
     "output_type": "execute_result"
    }
   ],
   "source": [
    "cdf.shape"
   ]
  },
  {
   "cell_type": "code",
   "execution_count": 41,
   "id": "b82bbb56",
   "metadata": {},
   "outputs": [
    {
     "data": {
      "text/plain": [
       "sales_channel            0\n",
       "flight_day               0\n",
       "continent                0\n",
       "wants_extra_baggage      0\n",
       "wants_preferred_seat     0\n",
       "wants_in_flight_meals    0\n",
       "booking_complete         0\n",
       "dtype: int64"
      ]
     },
     "execution_count": 41,
     "metadata": {},
     "output_type": "execute_result"
    }
   ],
   "source": [
    "cdf.isna().sum()"
   ]
  },
  {
   "cell_type": "code",
   "execution_count": 42,
   "id": "bb925529",
   "metadata": {},
   "outputs": [
    {
     "name": "stdout",
     "output_type": "stream",
     "text": [
      "<class 'pandas.core.frame.DataFrame'>\n",
      "Int64Index: 49429 entries, 0 to 49999\n",
      "Data columns (total 7 columns):\n",
      " #   Column                 Non-Null Count  Dtype \n",
      "---  ------                 --------------  ----- \n",
      " 0   sales_channel          49429 non-null  object\n",
      " 1   flight_day             49429 non-null  object\n",
      " 2   continent              49429 non-null  object\n",
      " 3   wants_extra_baggage    49429 non-null  object\n",
      " 4   wants_preferred_seat   49429 non-null  object\n",
      " 5   wants_in_flight_meals  49429 non-null  object\n",
      " 6   booking_complete       49429 non-null  object\n",
      "dtypes: object(7)\n",
      "memory usage: 3.0+ MB\n"
     ]
    }
   ],
   "source": [
    "cdf.info()"
   ]
  },
  {
   "cell_type": "markdown",
   "id": "6c59c779",
   "metadata": {},
   "source": [
    "# Numerical"
   ]
  },
  {
   "cell_type": "code",
   "execution_count": 43,
   "id": "a294196d",
   "metadata": {},
   "outputs": [],
   "source": [
    "ndf = df.select_dtypes(include='number')"
   ]
  },
  {
   "cell_type": "code",
   "execution_count": 44,
   "id": "735f95e3",
   "metadata": {},
   "outputs": [
    {
     "data": {
      "text/plain": [
       "(49429, 5)"
      ]
     },
     "execution_count": 44,
     "metadata": {},
     "output_type": "execute_result"
    }
   ],
   "source": [
    "ndf.shape"
   ]
  },
  {
   "cell_type": "code",
   "execution_count": 45,
   "id": "6cb7feb2",
   "metadata": {},
   "outputs": [
    {
     "data": {
      "text/html": [
       "<div>\n",
       "<style scoped>\n",
       "    .dataframe tbody tr th:only-of-type {\n",
       "        vertical-align: middle;\n",
       "    }\n",
       "\n",
       "    .dataframe tbody tr th {\n",
       "        vertical-align: top;\n",
       "    }\n",
       "\n",
       "    .dataframe thead th {\n",
       "        text-align: right;\n",
       "    }\n",
       "</style>\n",
       "<table border=\"1\" class=\"dataframe\">\n",
       "  <thead>\n",
       "    <tr style=\"text-align: right;\">\n",
       "      <th></th>\n",
       "      <th>num_passengers</th>\n",
       "      <th>purchase_lead</th>\n",
       "      <th>length_of_stay</th>\n",
       "      <th>flight_hour</th>\n",
       "      <th>flight_duration</th>\n",
       "    </tr>\n",
       "  </thead>\n",
       "  <tbody>\n",
       "    <tr>\n",
       "      <th>0</th>\n",
       "      <td>2</td>\n",
       "      <td>262</td>\n",
       "      <td>19</td>\n",
       "      <td>7</td>\n",
       "      <td>5.52</td>\n",
       "    </tr>\n",
       "    <tr>\n",
       "      <th>1</th>\n",
       "      <td>1</td>\n",
       "      <td>112</td>\n",
       "      <td>20</td>\n",
       "      <td>3</td>\n",
       "      <td>5.52</td>\n",
       "    </tr>\n",
       "    <tr>\n",
       "      <th>2</th>\n",
       "      <td>2</td>\n",
       "      <td>243</td>\n",
       "      <td>22</td>\n",
       "      <td>17</td>\n",
       "      <td>5.52</td>\n",
       "    </tr>\n",
       "    <tr>\n",
       "      <th>3</th>\n",
       "      <td>1</td>\n",
       "      <td>96</td>\n",
       "      <td>31</td>\n",
       "      <td>4</td>\n",
       "      <td>5.52</td>\n",
       "    </tr>\n",
       "    <tr>\n",
       "      <th>4</th>\n",
       "      <td>2</td>\n",
       "      <td>68</td>\n",
       "      <td>22</td>\n",
       "      <td>15</td>\n",
       "      <td>5.52</td>\n",
       "    </tr>\n",
       "  </tbody>\n",
       "</table>\n",
       "</div>"
      ],
      "text/plain": [
       "   num_passengers  purchase_lead  length_of_stay  flight_hour  flight_duration\n",
       "0               2            262              19            7             5.52\n",
       "1               1            112              20            3             5.52\n",
       "2               2            243              22           17             5.52\n",
       "3               1             96              31            4             5.52\n",
       "4               2             68              22           15             5.52"
      ]
     },
     "execution_count": 45,
     "metadata": {},
     "output_type": "execute_result"
    }
   ],
   "source": [
    "ndf.head()"
   ]
  },
  {
   "cell_type": "code",
   "execution_count": 46,
   "id": "6ba8654d",
   "metadata": {},
   "outputs": [],
   "source": [
    "from sklearn.preprocessing import PowerTransformer, StandardScaler\n",
    "pt = PowerTransformer()\n",
    "sc = StandardScaler()"
   ]
  },
  {
   "cell_type": "code",
   "execution_count": 47,
   "id": "f03252b5",
   "metadata": {},
   "outputs": [],
   "source": [
    "ndf = pd.DataFrame(sc.fit_transform(ndf), columns= ndf.columns)"
   ]
  },
  {
   "cell_type": "code",
   "execution_count": 48,
   "id": "02edf61c",
   "metadata": {},
   "outputs": [
    {
     "data": {
      "text/plain": [
       "num_passengers     1.00001\n",
       "purchase_lead      1.00001\n",
       "length_of_stay     1.00001\n",
       "flight_hour        1.00001\n",
       "flight_duration    1.00001\n",
       "dtype: float64"
      ]
     },
     "execution_count": 48,
     "metadata": {},
     "output_type": "execute_result"
    }
   ],
   "source": [
    "ndf.std()"
   ]
  },
  {
   "cell_type": "code",
   "execution_count": 49,
   "id": "2b4bb8af",
   "metadata": {},
   "outputs": [
    {
     "data": {
      "text/html": [
       "<div>\n",
       "<style scoped>\n",
       "    .dataframe tbody tr th:only-of-type {\n",
       "        vertical-align: middle;\n",
       "    }\n",
       "\n",
       "    .dataframe tbody tr th {\n",
       "        vertical-align: top;\n",
       "    }\n",
       "\n",
       "    .dataframe thead th {\n",
       "        text-align: right;\n",
       "    }\n",
       "</style>\n",
       "<table border=\"1\" class=\"dataframe\">\n",
       "  <thead>\n",
       "    <tr style=\"text-align: right;\">\n",
       "      <th></th>\n",
       "      <th>num_passengers</th>\n",
       "      <th>purchase_lead</th>\n",
       "      <th>length_of_stay</th>\n",
       "      <th>flight_hour</th>\n",
       "      <th>flight_duration</th>\n",
       "    </tr>\n",
       "  </thead>\n",
       "  <tbody>\n",
       "    <tr>\n",
       "      <th>0</th>\n",
       "      <td>0.400187</td>\n",
       "      <td>1.974530</td>\n",
       "      <td>-0.120059</td>\n",
       "      <td>-0.381036</td>\n",
       "      <td>-1.168748</td>\n",
       "    </tr>\n",
       "    <tr>\n",
       "      <th>1</th>\n",
       "      <td>-0.579645</td>\n",
       "      <td>0.304666</td>\n",
       "      <td>-0.089340</td>\n",
       "      <td>-1.120105</td>\n",
       "      <td>-1.168748</td>\n",
       "    </tr>\n",
       "    <tr>\n",
       "      <th>2</th>\n",
       "      <td>0.400187</td>\n",
       "      <td>1.763014</td>\n",
       "      <td>-0.027903</td>\n",
       "      <td>1.466635</td>\n",
       "      <td>-1.168748</td>\n",
       "    </tr>\n",
       "    <tr>\n",
       "      <th>3</th>\n",
       "      <td>-0.579645</td>\n",
       "      <td>0.126548</td>\n",
       "      <td>0.248565</td>\n",
       "      <td>-0.935338</td>\n",
       "      <td>-1.168748</td>\n",
       "    </tr>\n",
       "    <tr>\n",
       "      <th>4</th>\n",
       "      <td>0.400187</td>\n",
       "      <td>-0.185160</td>\n",
       "      <td>-0.027903</td>\n",
       "      <td>1.097101</td>\n",
       "      <td>-1.168748</td>\n",
       "    </tr>\n",
       "  </tbody>\n",
       "</table>\n",
       "</div>"
      ],
      "text/plain": [
       "   num_passengers  purchase_lead  length_of_stay  flight_hour  flight_duration\n",
       "0        0.400187       1.974530       -0.120059    -0.381036        -1.168748\n",
       "1       -0.579645       0.304666       -0.089340    -1.120105        -1.168748\n",
       "2        0.400187       1.763014       -0.027903     1.466635        -1.168748\n",
       "3       -0.579645       0.126548        0.248565    -0.935338        -1.168748\n",
       "4        0.400187      -0.185160       -0.027903     1.097101        -1.168748"
      ]
     },
     "execution_count": 49,
     "metadata": {},
     "output_type": "execute_result"
    }
   ],
   "source": [
    "ndf.head()"
   ]
  },
  {
   "cell_type": "code",
   "execution_count": 50,
   "id": "ac98d087",
   "metadata": {},
   "outputs": [
    {
     "data": {
      "text/plain": [
       "(49429, 5)"
      ]
     },
     "execution_count": 50,
     "metadata": {},
     "output_type": "execute_result"
    }
   ],
   "source": [
    "ndf.shape"
   ]
  },
  {
   "cell_type": "markdown",
   "id": "2db544e8",
   "metadata": {},
   "source": [
    "# Joining both data frames"
   ]
  },
  {
   "cell_type": "code",
   "execution_count": 51,
   "id": "855b3082",
   "metadata": {},
   "outputs": [],
   "source": [
    "jdf = pd.concat(\n",
    "    [\n",
    "        ndf.reset_index(drop=True),\n",
    "        cdf.reset_index(drop=True),\n",
    "    ],\n",
    "    axis=1,\n",
    "    ignore_index=True,\n",
    ")\n",
    "\n",
    "concatenated_dataframes_columns = [\n",
    "    list(ndf.columns),\n",
    "    list(cdf.columns),\n",
    "]\n",
    "    \n",
    "flatten = lambda nested_lists: [item for sublist in nested_lists for item in sublist]\n",
    "\n",
    "jdf.columns = flatten(concatenated_dataframes_columns)"
   ]
  },
  {
   "cell_type": "code",
   "execution_count": 52,
   "id": "365460a1",
   "metadata": {},
   "outputs": [
    {
     "data": {
      "text/plain": [
       "num_passengers           0\n",
       "purchase_lead            0\n",
       "length_of_stay           0\n",
       "flight_hour              0\n",
       "flight_duration          0\n",
       "sales_channel            0\n",
       "flight_day               0\n",
       "continent                0\n",
       "wants_extra_baggage      0\n",
       "wants_preferred_seat     0\n",
       "wants_in_flight_meals    0\n",
       "booking_complete         0\n",
       "dtype: int64"
      ]
     },
     "execution_count": 52,
     "metadata": {},
     "output_type": "execute_result"
    }
   ],
   "source": [
    "jdf.isna().sum()"
   ]
  },
  {
   "cell_type": "code",
   "execution_count": 53,
   "id": "90e2650b",
   "metadata": {},
   "outputs": [
    {
     "data": {
      "text/html": [
       "<div>\n",
       "<style scoped>\n",
       "    .dataframe tbody tr th:only-of-type {\n",
       "        vertical-align: middle;\n",
       "    }\n",
       "\n",
       "    .dataframe tbody tr th {\n",
       "        vertical-align: top;\n",
       "    }\n",
       "\n",
       "    .dataframe thead th {\n",
       "        text-align: right;\n",
       "    }\n",
       "</style>\n",
       "<table border=\"1\" class=\"dataframe\">\n",
       "  <thead>\n",
       "    <tr style=\"text-align: right;\">\n",
       "      <th></th>\n",
       "      <th>num_passengers</th>\n",
       "      <th>purchase_lead</th>\n",
       "      <th>length_of_stay</th>\n",
       "      <th>flight_hour</th>\n",
       "      <th>flight_duration</th>\n",
       "      <th>sales_channel</th>\n",
       "      <th>flight_day</th>\n",
       "      <th>continent</th>\n",
       "      <th>wants_extra_baggage</th>\n",
       "      <th>wants_preferred_seat</th>\n",
       "      <th>wants_in_flight_meals</th>\n",
       "      <th>booking_complete</th>\n",
       "    </tr>\n",
       "  </thead>\n",
       "  <tbody>\n",
       "    <tr>\n",
       "      <th>0</th>\n",
       "      <td>0.400187</td>\n",
       "      <td>1.974530</td>\n",
       "      <td>-0.120059</td>\n",
       "      <td>-0.381036</td>\n",
       "      <td>-1.168748</td>\n",
       "      <td>Internet</td>\n",
       "      <td>Sat</td>\n",
       "      <td>0</td>\n",
       "      <td>1</td>\n",
       "      <td>0</td>\n",
       "      <td>0</td>\n",
       "      <td>0</td>\n",
       "    </tr>\n",
       "    <tr>\n",
       "      <th>1</th>\n",
       "      <td>-0.579645</td>\n",
       "      <td>0.304666</td>\n",
       "      <td>-0.089340</td>\n",
       "      <td>-1.120105</td>\n",
       "      <td>-1.168748</td>\n",
       "      <td>Internet</td>\n",
       "      <td>Sat</td>\n",
       "      <td>0</td>\n",
       "      <td>0</td>\n",
       "      <td>0</td>\n",
       "      <td>0</td>\n",
       "      <td>0</td>\n",
       "    </tr>\n",
       "    <tr>\n",
       "      <th>2</th>\n",
       "      <td>0.400187</td>\n",
       "      <td>1.763014</td>\n",
       "      <td>-0.027903</td>\n",
       "      <td>1.466635</td>\n",
       "      <td>-1.168748</td>\n",
       "      <td>Internet</td>\n",
       "      <td>Wed</td>\n",
       "      <td>1</td>\n",
       "      <td>1</td>\n",
       "      <td>1</td>\n",
       "      <td>0</td>\n",
       "      <td>0</td>\n",
       "    </tr>\n",
       "    <tr>\n",
       "      <th>3</th>\n",
       "      <td>-0.579645</td>\n",
       "      <td>0.126548</td>\n",
       "      <td>0.248565</td>\n",
       "      <td>-0.935338</td>\n",
       "      <td>-1.168748</td>\n",
       "      <td>Internet</td>\n",
       "      <td>Sat</td>\n",
       "      <td>0</td>\n",
       "      <td>0</td>\n",
       "      <td>0</td>\n",
       "      <td>1</td>\n",
       "      <td>0</td>\n",
       "    </tr>\n",
       "    <tr>\n",
       "      <th>4</th>\n",
       "      <td>0.400187</td>\n",
       "      <td>-0.185160</td>\n",
       "      <td>-0.027903</td>\n",
       "      <td>1.097101</td>\n",
       "      <td>-1.168748</td>\n",
       "      <td>Internet</td>\n",
       "      <td>Wed</td>\n",
       "      <td>1</td>\n",
       "      <td>1</td>\n",
       "      <td>0</td>\n",
       "      <td>1</td>\n",
       "      <td>0</td>\n",
       "    </tr>\n",
       "  </tbody>\n",
       "</table>\n",
       "</div>"
      ],
      "text/plain": [
       "   num_passengers  purchase_lead  length_of_stay  flight_hour  \\\n",
       "0        0.400187       1.974530       -0.120059    -0.381036   \n",
       "1       -0.579645       0.304666       -0.089340    -1.120105   \n",
       "2        0.400187       1.763014       -0.027903     1.466635   \n",
       "3       -0.579645       0.126548        0.248565    -0.935338   \n",
       "4        0.400187      -0.185160       -0.027903     1.097101   \n",
       "\n",
       "   flight_duration sales_channel flight_day continent wants_extra_baggage  \\\n",
       "0        -1.168748      Internet        Sat         0                   1   \n",
       "1        -1.168748      Internet        Sat         0                   0   \n",
       "2        -1.168748      Internet        Wed         1                   1   \n",
       "3        -1.168748      Internet        Sat         0                   0   \n",
       "4        -1.168748      Internet        Wed         1                   1   \n",
       "\n",
       "  wants_preferred_seat wants_in_flight_meals booking_complete  \n",
       "0                    0                     0                0  \n",
       "1                    0                     0                0  \n",
       "2                    1                     0                0  \n",
       "3                    0                     1                0  \n",
       "4                    0                     1                0  "
      ]
     },
     "execution_count": 53,
     "metadata": {},
     "output_type": "execute_result"
    }
   ],
   "source": [
    "jdf.head()"
   ]
  },
  {
   "cell_type": "code",
   "execution_count": 54,
   "id": "bbf1b7a2",
   "metadata": {},
   "outputs": [],
   "source": [
    "fdf = pd.get_dummies(data=jdf, drop_first=True)"
   ]
  },
  {
   "cell_type": "code",
   "execution_count": 55,
   "id": "7fb90f5c",
   "metadata": {},
   "outputs": [
    {
     "data": {
      "text/plain": [
       "Index(['num_passengers', 'purchase_lead', 'length_of_stay', 'flight_hour',\n",
       "       'flight_duration', 'sales_channel_Mobile', 'flight_day_Mon',\n",
       "       'flight_day_Sat', 'flight_day_Sun', 'flight_day_Thu', 'flight_day_Tue',\n",
       "       'flight_day_Wed', 'continent_1', 'wants_extra_baggage_1',\n",
       "       'wants_preferred_seat_1', 'wants_in_flight_meals_1',\n",
       "       'booking_complete_1'],\n",
       "      dtype='object')"
      ]
     },
     "execution_count": 55,
     "metadata": {},
     "output_type": "execute_result"
    }
   ],
   "source": [
    "fdf.columns"
   ]
  },
  {
   "cell_type": "code",
   "execution_count": 56,
   "id": "edb8d4a7",
   "metadata": {},
   "outputs": [],
   "source": [
    "# List of column names to convert to 'object' data type\n",
    "columns_to_convert = ['flight_day_Mon', 'flight_day_Sat', 'flight_day_Sun',\n",
    "       'flight_day_Thu', 'flight_day_Tue', 'flight_day_Wed', 'continent_1',\n",
    "       'wants_extra_baggage_1', 'wants_preferred_seat_1',\n",
    "       'wants_in_flight_meals_1', 'booking_complete_1']\n",
    "\n",
    "# Convert specific columns to 'object' data type using a for loop\n",
    "for column in columns_to_convert:\n",
    "    fdf[column] = fdf[column].astype(object)"
   ]
  },
  {
   "cell_type": "code",
   "execution_count": 57,
   "id": "541938b8",
   "metadata": {},
   "outputs": [
    {
     "data": {
      "text/html": [
       "<div>\n",
       "<style scoped>\n",
       "    .dataframe tbody tr th:only-of-type {\n",
       "        vertical-align: middle;\n",
       "    }\n",
       "\n",
       "    .dataframe tbody tr th {\n",
       "        vertical-align: top;\n",
       "    }\n",
       "\n",
       "    .dataframe thead th {\n",
       "        text-align: right;\n",
       "    }\n",
       "</style>\n",
       "<table border=\"1\" class=\"dataframe\">\n",
       "  <thead>\n",
       "    <tr style=\"text-align: right;\">\n",
       "      <th></th>\n",
       "      <th>num_passengers</th>\n",
       "      <th>purchase_lead</th>\n",
       "      <th>length_of_stay</th>\n",
       "      <th>flight_hour</th>\n",
       "      <th>flight_duration</th>\n",
       "      <th>sales_channel_Mobile</th>\n",
       "      <th>flight_day_Mon</th>\n",
       "      <th>flight_day_Sat</th>\n",
       "      <th>flight_day_Sun</th>\n",
       "      <th>flight_day_Thu</th>\n",
       "      <th>flight_day_Tue</th>\n",
       "      <th>flight_day_Wed</th>\n",
       "      <th>continent_1</th>\n",
       "      <th>wants_extra_baggage_1</th>\n",
       "      <th>wants_preferred_seat_1</th>\n",
       "      <th>wants_in_flight_meals_1</th>\n",
       "      <th>booking_complete_1</th>\n",
       "    </tr>\n",
       "  </thead>\n",
       "  <tbody>\n",
       "    <tr>\n",
       "      <th>0</th>\n",
       "      <td>0.400187</td>\n",
       "      <td>1.974530</td>\n",
       "      <td>-0.120059</td>\n",
       "      <td>-0.381036</td>\n",
       "      <td>-1.168748</td>\n",
       "      <td>0</td>\n",
       "      <td>0</td>\n",
       "      <td>1</td>\n",
       "      <td>0</td>\n",
       "      <td>0</td>\n",
       "      <td>0</td>\n",
       "      <td>0</td>\n",
       "      <td>0</td>\n",
       "      <td>1</td>\n",
       "      <td>0</td>\n",
       "      <td>0</td>\n",
       "      <td>0</td>\n",
       "    </tr>\n",
       "    <tr>\n",
       "      <th>1</th>\n",
       "      <td>-0.579645</td>\n",
       "      <td>0.304666</td>\n",
       "      <td>-0.089340</td>\n",
       "      <td>-1.120105</td>\n",
       "      <td>-1.168748</td>\n",
       "      <td>0</td>\n",
       "      <td>0</td>\n",
       "      <td>1</td>\n",
       "      <td>0</td>\n",
       "      <td>0</td>\n",
       "      <td>0</td>\n",
       "      <td>0</td>\n",
       "      <td>0</td>\n",
       "      <td>0</td>\n",
       "      <td>0</td>\n",
       "      <td>0</td>\n",
       "      <td>0</td>\n",
       "    </tr>\n",
       "    <tr>\n",
       "      <th>2</th>\n",
       "      <td>0.400187</td>\n",
       "      <td>1.763014</td>\n",
       "      <td>-0.027903</td>\n",
       "      <td>1.466635</td>\n",
       "      <td>-1.168748</td>\n",
       "      <td>0</td>\n",
       "      <td>0</td>\n",
       "      <td>0</td>\n",
       "      <td>0</td>\n",
       "      <td>0</td>\n",
       "      <td>0</td>\n",
       "      <td>1</td>\n",
       "      <td>1</td>\n",
       "      <td>1</td>\n",
       "      <td>1</td>\n",
       "      <td>0</td>\n",
       "      <td>0</td>\n",
       "    </tr>\n",
       "    <tr>\n",
       "      <th>3</th>\n",
       "      <td>-0.579645</td>\n",
       "      <td>0.126548</td>\n",
       "      <td>0.248565</td>\n",
       "      <td>-0.935338</td>\n",
       "      <td>-1.168748</td>\n",
       "      <td>0</td>\n",
       "      <td>0</td>\n",
       "      <td>1</td>\n",
       "      <td>0</td>\n",
       "      <td>0</td>\n",
       "      <td>0</td>\n",
       "      <td>0</td>\n",
       "      <td>0</td>\n",
       "      <td>0</td>\n",
       "      <td>0</td>\n",
       "      <td>1</td>\n",
       "      <td>0</td>\n",
       "    </tr>\n",
       "    <tr>\n",
       "      <th>4</th>\n",
       "      <td>0.400187</td>\n",
       "      <td>-0.185160</td>\n",
       "      <td>-0.027903</td>\n",
       "      <td>1.097101</td>\n",
       "      <td>-1.168748</td>\n",
       "      <td>0</td>\n",
       "      <td>0</td>\n",
       "      <td>0</td>\n",
       "      <td>0</td>\n",
       "      <td>0</td>\n",
       "      <td>0</td>\n",
       "      <td>1</td>\n",
       "      <td>1</td>\n",
       "      <td>1</td>\n",
       "      <td>0</td>\n",
       "      <td>1</td>\n",
       "      <td>0</td>\n",
       "    </tr>\n",
       "  </tbody>\n",
       "</table>\n",
       "</div>"
      ],
      "text/plain": [
       "   num_passengers  purchase_lead  length_of_stay  flight_hour  \\\n",
       "0        0.400187       1.974530       -0.120059    -0.381036   \n",
       "1       -0.579645       0.304666       -0.089340    -1.120105   \n",
       "2        0.400187       1.763014       -0.027903     1.466635   \n",
       "3       -0.579645       0.126548        0.248565    -0.935338   \n",
       "4        0.400187      -0.185160       -0.027903     1.097101   \n",
       "\n",
       "   flight_duration  sales_channel_Mobile flight_day_Mon flight_day_Sat  \\\n",
       "0        -1.168748                     0              0              1   \n",
       "1        -1.168748                     0              0              1   \n",
       "2        -1.168748                     0              0              0   \n",
       "3        -1.168748                     0              0              1   \n",
       "4        -1.168748                     0              0              0   \n",
       "\n",
       "  flight_day_Sun flight_day_Thu flight_day_Tue flight_day_Wed continent_1  \\\n",
       "0              0              0              0              0           0   \n",
       "1              0              0              0              0           0   \n",
       "2              0              0              0              1           1   \n",
       "3              0              0              0              0           0   \n",
       "4              0              0              0              1           1   \n",
       "\n",
       "  wants_extra_baggage_1 wants_preferred_seat_1 wants_in_flight_meals_1  \\\n",
       "0                     1                      0                       0   \n",
       "1                     0                      0                       0   \n",
       "2                     1                      1                       0   \n",
       "3                     0                      0                       1   \n",
       "4                     1                      0                       1   \n",
       "\n",
       "  booking_complete_1  \n",
       "0                  0  \n",
       "1                  0  \n",
       "2                  0  \n",
       "3                  0  \n",
       "4                  0  "
      ]
     },
     "execution_count": 57,
     "metadata": {},
     "output_type": "execute_result"
    }
   ],
   "source": [
    "fdf.head()"
   ]
  },
  {
   "cell_type": "code",
   "execution_count": 58,
   "id": "a1aa1cfc",
   "metadata": {},
   "outputs": [
    {
     "name": "stdout",
     "output_type": "stream",
     "text": [
      "<class 'pandas.core.frame.DataFrame'>\n",
      "RangeIndex: 49429 entries, 0 to 49428\n",
      "Data columns (total 17 columns):\n",
      " #   Column                   Non-Null Count  Dtype  \n",
      "---  ------                   --------------  -----  \n",
      " 0   num_passengers           49429 non-null  float64\n",
      " 1   purchase_lead            49429 non-null  float64\n",
      " 2   length_of_stay           49429 non-null  float64\n",
      " 3   flight_hour              49429 non-null  float64\n",
      " 4   flight_duration          49429 non-null  float64\n",
      " 5   sales_channel_Mobile     49429 non-null  uint8  \n",
      " 6   flight_day_Mon           49429 non-null  object \n",
      " 7   flight_day_Sat           49429 non-null  object \n",
      " 8   flight_day_Sun           49429 non-null  object \n",
      " 9   flight_day_Thu           49429 non-null  object \n",
      " 10  flight_day_Tue           49429 non-null  object \n",
      " 11  flight_day_Wed           49429 non-null  object \n",
      " 12  continent_1              49429 non-null  object \n",
      " 13  wants_extra_baggage_1    49429 non-null  object \n",
      " 14  wants_preferred_seat_1   49429 non-null  object \n",
      " 15  wants_in_flight_meals_1  49429 non-null  object \n",
      " 16  booking_complete_1       49429 non-null  object \n",
      "dtypes: float64(5), object(11), uint8(1)\n",
      "memory usage: 6.1+ MB\n"
     ]
    }
   ],
   "source": [
    "fdf.info()"
   ]
  },
  {
   "cell_type": "code",
   "execution_count": 59,
   "id": "5f7a9ff5",
   "metadata": {},
   "outputs": [],
   "source": [
    "import seaborn as sns"
   ]
  },
  {
   "cell_type": "code",
   "execution_count": 60,
   "id": "3f6c9936",
   "metadata": {},
   "outputs": [
    {
     "data": {
      "text/plain": [
       "<Axes: >"
      ]
     },
     "execution_count": 60,
     "metadata": {},
     "output_type": "execute_result"
    },
    {
     "data": {
      "image/png": "[encoded data removed]",
      "text/plain": [
       "<Figure size 640x480 with 2 Axes>"
      ]
     },
     "metadata": {},
     "output_type": "display_data"
    }
   ],
   "source": [
    "sns.heatmap(df.corr(), annot=True)"
   ]
  },
  {
   "cell_type": "markdown",
   "id": "5e2c4031",
   "metadata": {},
   "source": [
    "# Train test split"
   ]
  },
  {
   "cell_type": "code",
   "execution_count": 61,
   "id": "08a0838b",
   "metadata": {},
   "outputs": [],
   "source": [
    "from sklearn.model_selection import train_test_split"
   ]
  },
  {
   "cell_type": "code",
   "execution_count": 62,
   "id": "f5b451af",
   "metadata": {},
   "outputs": [],
   "source": [
    "x = fdf.drop(['booking_complete_1'], axis =1)\n",
    "y = fdf['booking_complete_1']"
   ]
  },
  {
   "cell_type": "code",
   "execution_count": 63,
   "id": "e87095ff",
   "metadata": {},
   "outputs": [
    {
     "data": {
      "text/plain": [
       "0    41986\n",
       "1     7443\n",
       "Name: booking_complete_1, dtype: int64"
      ]
     },
     "execution_count": 63,
     "metadata": {},
     "output_type": "execute_result"
    }
   ],
   "source": [
    "y.value_counts()"
   ]
  },
  {
   "cell_type": "code",
   "execution_count": 64,
   "id": "8b2b07e0",
   "metadata": {},
   "outputs": [],
   "source": [
    "y = pd.get_dummies(data=y, drop_first=True)"
   ]
  },
  {
   "cell_type": "code",
   "execution_count": 65,
   "id": "a310dab0",
   "metadata": {},
   "outputs": [
    {
     "data": {
      "text/plain": [
       "1"
      ]
     },
     "execution_count": 65,
     "metadata": {},
     "output_type": "execute_result"
    }
   ],
   "source": [
    "y.columns[0]"
   ]
  },
  {
   "cell_type": "code",
   "execution_count": 66,
   "id": "e89e5882",
   "metadata": {},
   "outputs": [],
   "source": [
    "y = y.rename(columns={y.columns[0]: 'booking_origin'})"
   ]
  },
  {
   "cell_type": "code",
   "execution_count": 67,
   "id": "457bce72",
   "metadata": {},
   "outputs": [
    {
     "data": {
      "text/plain": [
       "booking_origin\n",
       "0                 41986\n",
       "1                  7443\n",
       "dtype: int64"
      ]
     },
     "execution_count": 67,
     "metadata": {},
     "output_type": "execute_result"
    }
   ],
   "source": [
    "y.value_counts()"
   ]
  },
  {
   "cell_type": "code",
   "execution_count": 68,
   "id": "fd4e88a4",
   "metadata": {},
   "outputs": [],
   "source": [
    "xtrain, xtest, ytrain, ytest = train_test_split(x, y, test_size=0.3, random_state= 100)"
   ]
  },
  {
   "cell_type": "code",
   "execution_count": 69,
   "id": "63229977",
   "metadata": {},
   "outputs": [
    {
     "name": "stdout",
     "output_type": "stream",
     "text": [
      "(34600, 16) (34600, 1) (14829, 16) (14829, 1)\n"
     ]
    }
   ],
   "source": [
    "print(xtrain.shape,ytrain.shape,xtest.shape,ytest.shape)"
   ]
  },
  {
   "cell_type": "markdown",
   "id": "57f4c8e2",
   "metadata": {},
   "source": [
    "# Model"
   ]
  },
  {
   "cell_type": "code",
   "execution_count": 70,
   "id": "85724ce4",
   "metadata": {},
   "outputs": [],
   "source": [
    "from sklearn.linear_model import LogisticRegression\n",
    "lr = LogisticRegression()"
   ]
  },
  {
   "cell_type": "code",
   "execution_count": 71,
   "id": "cdfcea0c",
   "metadata": {},
   "outputs": [],
   "source": [
    "from sklearn.metrics import classification_report"
   ]
  },
  {
   "cell_type": "code",
   "execution_count": 72,
   "id": "4d6ee62d",
   "metadata": {},
   "outputs": [],
   "source": [
    "from sklearn.metrics import cohen_kappa_score"
   ]
  },
  {
   "cell_type": "code",
   "execution_count": 73,
   "id": "96396949",
   "metadata": {},
   "outputs": [
    {
     "name": "stdout",
     "output_type": "stream",
     "text": [
      "              precision    recall  f1-score   support\n",
      "\n",
      "           0       0.85      1.00      0.92     29414\n",
      "           1       0.00      0.00      0.00      5186\n",
      "\n",
      "    accuracy                           0.85     34600\n",
      "   macro avg       0.43      0.50      0.46     34600\n",
      "weighted avg       0.72      0.85      0.78     34600\n",
      "\n",
      "Cohen's kappa score: 0.0\n"
     ]
    }
   ],
   "source": [
    "model_lr = lr.fit(xtrain,ytrain)\n",
    "y_pred_train_lr = model_lr.predict(xtrain)\n",
    "\n",
    "print(classification_report(ytrain,y_pred_train_lr))\n",
    "\n",
    "kappa_train_lr = cohen_kappa_score(ytrain, y_pred_train_lr)\n",
    "\n",
    "# Print the kappa score\n",
    "print(\"Cohen's kappa score:\", kappa_train_lr)"
   ]
  },
  {
   "cell_type": "code",
   "execution_count": 74,
   "id": "3b25cb43",
   "metadata": {},
   "outputs": [
    {
     "name": "stdout",
     "output_type": "stream",
     "text": [
      "              precision    recall  f1-score   support\n",
      "\n",
      "           0       0.85      1.00      0.92     12572\n",
      "           1       0.00      0.00      0.00      2257\n",
      "\n",
      "    accuracy                           0.85     14829\n",
      "   macro avg       0.42      0.50      0.46     14829\n",
      "weighted avg       0.72      0.85      0.78     14829\n",
      "\n",
      "Cohen's kappa score: 0.0\n"
     ]
    }
   ],
   "source": [
    "model_lr = lr.fit(xtrain,ytrain)\n",
    "y_pred_test_lr = model_lr.predict(xtest)\n",
    "\n",
    "print(classification_report(ytest,y_pred_test_lr))\n",
    "\n",
    "kappa_test_lr = cohen_kappa_score(ytest, y_pred_test_lr)\n",
    "\n",
    "# Print the kappa score\n",
    "print(\"Cohen's kappa score:\", kappa_test_lr)"
   ]
  },
  {
   "cell_type": "markdown",
   "id": "1ef148bd",
   "metadata": {},
   "source": [
    "- Class imbalance"
   ]
  },
  {
   "cell_type": "code",
   "execution_count": 75,
   "id": "ce044e43",
   "metadata": {},
   "outputs": [
    {
     "data": {
      "text/html": [
       "<div>\n",
       "<style scoped>\n",
       "    .dataframe tbody tr th:only-of-type {\n",
       "        vertical-align: middle;\n",
       "    }\n",
       "\n",
       "    .dataframe tbody tr th {\n",
       "        vertical-align: top;\n",
       "    }\n",
       "\n",
       "    .dataframe thead th {\n",
       "        text-align: right;\n",
       "    }\n",
       "</style>\n",
       "<table border=\"1\" class=\"dataframe\">\n",
       "  <thead>\n",
       "    <tr style=\"text-align: right;\">\n",
       "      <th></th>\n",
       "      <th>num_passengers</th>\n",
       "      <th>purchase_lead</th>\n",
       "      <th>length_of_stay</th>\n",
       "      <th>flight_hour</th>\n",
       "      <th>flight_duration</th>\n",
       "      <th>sales_channel_Mobile</th>\n",
       "      <th>flight_day_Mon</th>\n",
       "      <th>flight_day_Sat</th>\n",
       "      <th>flight_day_Sun</th>\n",
       "      <th>flight_day_Thu</th>\n",
       "      <th>flight_day_Tue</th>\n",
       "      <th>flight_day_Wed</th>\n",
       "      <th>continent_1</th>\n",
       "      <th>wants_extra_baggage_1</th>\n",
       "      <th>wants_preferred_seat_1</th>\n",
       "      <th>wants_in_flight_meals_1</th>\n",
       "      <th>booking_complete_1</th>\n",
       "    </tr>\n",
       "  </thead>\n",
       "  <tbody>\n",
       "    <tr>\n",
       "      <th>0</th>\n",
       "      <td>0.400187</td>\n",
       "      <td>1.974530</td>\n",
       "      <td>-0.120059</td>\n",
       "      <td>-0.381036</td>\n",
       "      <td>-1.168748</td>\n",
       "      <td>0</td>\n",
       "      <td>0</td>\n",
       "      <td>1</td>\n",
       "      <td>0</td>\n",
       "      <td>0</td>\n",
       "      <td>0</td>\n",
       "      <td>0</td>\n",
       "      <td>0</td>\n",
       "      <td>1</td>\n",
       "      <td>0</td>\n",
       "      <td>0</td>\n",
       "      <td>0</td>\n",
       "    </tr>\n",
       "    <tr>\n",
       "      <th>1</th>\n",
       "      <td>-0.579645</td>\n",
       "      <td>0.304666</td>\n",
       "      <td>-0.089340</td>\n",
       "      <td>-1.120105</td>\n",
       "      <td>-1.168748</td>\n",
       "      <td>0</td>\n",
       "      <td>0</td>\n",
       "      <td>1</td>\n",
       "      <td>0</td>\n",
       "      <td>0</td>\n",
       "      <td>0</td>\n",
       "      <td>0</td>\n",
       "      <td>0</td>\n",
       "      <td>0</td>\n",
       "      <td>0</td>\n",
       "      <td>0</td>\n",
       "      <td>0</td>\n",
       "    </tr>\n",
       "  </tbody>\n",
       "</table>\n",
       "</div>"
      ],
      "text/plain": [
       "   num_passengers  purchase_lead  length_of_stay  flight_hour  \\\n",
       "0        0.400187       1.974530       -0.120059    -0.381036   \n",
       "1       -0.579645       0.304666       -0.089340    -1.120105   \n",
       "\n",
       "   flight_duration  sales_channel_Mobile flight_day_Mon flight_day_Sat  \\\n",
       "0        -1.168748                     0              0              1   \n",
       "1        -1.168748                     0              0              1   \n",
       "\n",
       "  flight_day_Sun flight_day_Thu flight_day_Tue flight_day_Wed continent_1  \\\n",
       "0              0              0              0              0           0   \n",
       "1              0              0              0              0           0   \n",
       "\n",
       "  wants_extra_baggage_1 wants_preferred_seat_1 wants_in_flight_meals_1  \\\n",
       "0                     1                      0                       0   \n",
       "1                     0                      0                       0   \n",
       "\n",
       "  booking_complete_1  \n",
       "0                  0  \n",
       "1                  0  "
      ]
     },
     "execution_count": 75,
     "metadata": {},
     "output_type": "execute_result"
    }
   ],
   "source": [
    "fdf.head(2)"
   ]
  },
  {
   "cell_type": "code",
   "execution_count": 76,
   "id": "99551783",
   "metadata": {},
   "outputs": [
    {
     "data": {
      "text/plain": [
       "(49429, 17)"
      ]
     },
     "execution_count": 76,
     "metadata": {},
     "output_type": "execute_result"
    }
   ],
   "source": [
    "fdf.shape"
   ]
  },
  {
   "cell_type": "markdown",
   "id": "1241f5f2",
   "metadata": {},
   "source": [
    "# SMOTENC\n",
    "* Using SMOTENC to handle categorical freatures while balancing the data"
   ]
  },
  {
   "cell_type": "code",
   "execution_count": 77,
   "id": "d3bf3f27",
   "metadata": {},
   "outputs": [],
   "source": [
    "from imblearn.over_sampling import SMOTENC\n",
    "\n",
    "smote_nc = SMOTENC(categorical_features=[5,6,7,8,9,10,11,12,13,14], random_state=100)\n",
    "x_resampled, y_resampled = smote_nc.fit_resample(x, y)"
   ]
  },
  {
   "cell_type": "code",
   "execution_count": 78,
   "id": "13f5158a",
   "metadata": {},
   "outputs": [
    {
     "data": {
      "text/plain": [
       "booking_origin\n",
       "0                 41986\n",
       "1                 41986\n",
       "dtype: int64"
      ]
     },
     "execution_count": 78,
     "metadata": {},
     "output_type": "execute_result"
    }
   ],
   "source": [
    "y_resampled.value_counts()"
   ]
  },
  {
   "cell_type": "code",
   "execution_count": 79,
   "id": "4564af6e",
   "metadata": {},
   "outputs": [
    {
     "data": {
      "text/plain": [
       "0    58562\n",
       "1    25410\n",
       "Name: wants_preferred_seat_1, dtype: int64"
      ]
     },
     "execution_count": 79,
     "metadata": {},
     "output_type": "execute_result"
    }
   ],
   "source": [
    "x_resampled['wants_preferred_seat_1'].value_counts()"
   ]
  },
  {
   "cell_type": "code",
   "execution_count": 80,
   "id": "9bc41297",
   "metadata": {},
   "outputs": [
    {
     "name": "stdout",
     "output_type": "stream",
     "text": [
      "<class 'pandas.core.frame.DataFrame'>\n",
      "RangeIndex: 83972 entries, 0 to 83971\n",
      "Data columns (total 16 columns):\n",
      " #   Column                   Non-Null Count  Dtype  \n",
      "---  ------                   --------------  -----  \n",
      " 0   num_passengers           83972 non-null  float64\n",
      " 1   purchase_lead            83972 non-null  float64\n",
      " 2   length_of_stay           83972 non-null  float64\n",
      " 3   flight_hour              83972 non-null  float64\n",
      " 4   flight_duration          83972 non-null  float64\n",
      " 5   sales_channel_Mobile     83972 non-null  uint8  \n",
      " 6   flight_day_Mon           83972 non-null  object \n",
      " 7   flight_day_Sat           83972 non-null  object \n",
      " 8   flight_day_Sun           83972 non-null  object \n",
      " 9   flight_day_Thu           83972 non-null  object \n",
      " 10  flight_day_Tue           83972 non-null  object \n",
      " 11  flight_day_Wed           83972 non-null  object \n",
      " 12  continent_1              83972 non-null  object \n",
      " 13  wants_extra_baggage_1    83972 non-null  object \n",
      " 14  wants_preferred_seat_1   83972 non-null  object \n",
      " 15  wants_in_flight_meals_1  83972 non-null  object \n",
      "dtypes: float64(5), object(10), uint8(1)\n",
      "memory usage: 9.7+ MB\n"
     ]
    }
   ],
   "source": [
    "x_resampled.info()"
   ]
  },
  {
   "cell_type": "markdown",
   "id": "3b67af45",
   "metadata": {},
   "source": [
    "# smoted df"
   ]
  },
  {
   "cell_type": "code",
   "execution_count": 81,
   "id": "60b6a5f3",
   "metadata": {},
   "outputs": [],
   "source": [
    "xtrain, xtest, ytrain, ytest = train_test_split(x_resampled,y_resampled, test_size=0.3, random_state= 100)"
   ]
  },
  {
   "cell_type": "code",
   "execution_count": 82,
   "id": "b31c11d4",
   "metadata": {},
   "outputs": [
    {
     "name": "stdout",
     "output_type": "stream",
     "text": [
      "(58780, 16) (58780, 1) (25192, 16) (25192, 1)\n"
     ]
    }
   ],
   "source": [
    "print(xtrain.shape,ytrain.shape,xtest.shape,ytest.shape)"
   ]
  },
  {
   "cell_type": "markdown",
   "id": "6f0285fc",
   "metadata": {},
   "source": [
    "# Logistic Regression"
   ]
  },
  {
   "cell_type": "code",
   "execution_count": 83,
   "id": "33e511c6",
   "metadata": {},
   "outputs": [
    {
     "name": "stdout",
     "output_type": "stream",
     "text": [
      "              precision    recall  f1-score   support\n",
      "\n",
      "           0       0.75      0.61      0.67     29466\n",
      "           1       0.67      0.79      0.73     29314\n",
      "\n",
      "    accuracy                           0.70     58780\n",
      "   macro avg       0.71      0.70      0.70     58780\n",
      "weighted avg       0.71      0.70      0.70     58780\n",
      "\n",
      "Cohen's kappa score: 0.40228784498350645\n"
     ]
    }
   ],
   "source": [
    "model_lr = lr.fit(xtrain,ytrain)\n",
    "y_pred_train_lr = model_lr.predict(xtrain)\n",
    "\n",
    "print(classification_report(ytrain,y_pred_train_lr))\n",
    "\n",
    "kappa_train_lr = cohen_kappa_score(ytrain, y_pred_train_lr)\n",
    "\n",
    "# Print the kappa score\n",
    "print(\"Cohen's kappa score:\", kappa_train_lr)"
   ]
  },
  {
   "cell_type": "code",
   "execution_count": 84,
   "id": "121da2af",
   "metadata": {},
   "outputs": [
    {
     "name": "stdout",
     "output_type": "stream",
     "text": [
      "              precision    recall  f1-score   support\n",
      "\n",
      "           0       0.74      0.61      0.67     12520\n",
      "           1       0.67      0.79      0.73     12672\n",
      "\n",
      "    accuracy                           0.70     25192\n",
      "   macro avg       0.71      0.70      0.70     25192\n",
      "weighted avg       0.71      0.70      0.70     25192\n",
      "\n",
      "Cohen's kappa score: 0.3995330679392458\n"
     ]
    }
   ],
   "source": [
    "model_lr = lr.fit(xtrain,ytrain)\n",
    "y_pred_test_lr = model_lr.predict(xtest)\n",
    "\n",
    "print(classification_report(ytest,y_pred_test_lr))\n",
    "\n",
    "kappa_test_lr = cohen_kappa_score(ytest, y_pred_test_lr)\n",
    "\n",
    "# Print the kappa score\n",
    "print(\"Cohen's kappa score:\", kappa_test_lr)"
   ]
  },
  {
   "cell_type": "code",
   "execution_count": 85,
   "id": "dae1d85a",
   "metadata": {},
   "outputs": [],
   "source": [
    "from sklearn.ensemble import GradientBoostingClassifier,AdaBoostClassifier,RandomForestClassifier\n",
    "from sklearn.naive_bayes import GaussianNB\n",
    "from sklearn.neighbors import KNeighborsClassifier\n",
    "from sklearn.tree import DecisionTreeClassifier\n",
    "from sklearn.linear_model import LogisticRegression\n",
    "from sklearn.svm import SVC"
   ]
  },
  {
   "cell_type": "markdown",
   "id": "0cd97111",
   "metadata": {},
   "source": [
    "# Decission Tree"
   ]
  },
  {
   "cell_type": "code",
   "execution_count": 86,
   "id": "63330aa4",
   "metadata": {},
   "outputs": [
    {
     "name": "stdout",
     "output_type": "stream",
     "text": [
      "              precision    recall  f1-score   support\n",
      "\n",
      "           0       1.00      1.00      1.00     29466\n",
      "           1       1.00      1.00      1.00     29314\n",
      "\n",
      "    accuracy                           1.00     58780\n",
      "   macro avg       1.00      1.00      1.00     58780\n",
      "weighted avg       1.00      1.00      1.00     58780\n",
      "\n",
      "Cohen's kappa score: 0.9997618220521091\n"
     ]
    }
   ],
   "source": [
    "dt = DecisionTreeClassifier()\n",
    "model_dt = dt.fit(xtrain,ytrain)\n",
    "y_pred_train_dt = model_dt.predict(xtrain)\n",
    "\n",
    "print(classification_report(ytrain,y_pred_train_dt))\n",
    "\n",
    "kappa_train_dt = cohen_kappa_score(ytrain, y_pred_train_dt)\n",
    "\n",
    "# Print the kappa score\n",
    "print(\"Cohen's kappa score:\", kappa_train_dt)"
   ]
  },
  {
   "cell_type": "code",
   "execution_count": 87,
   "id": "b4264899",
   "metadata": {},
   "outputs": [
    {
     "name": "stdout",
     "output_type": "stream",
     "text": [
      "              precision    recall  f1-score   support\n",
      "\n",
      "           0       0.83      0.82      0.83     12520\n",
      "           1       0.82      0.83      0.83     12672\n",
      "\n",
      "    accuracy                           0.83     25192\n",
      "   macro avg       0.83      0.83      0.83     25192\n",
      "weighted avg       0.83      0.83      0.83     25192\n",
      "\n",
      "Cohen's kappa score: 0.6545333297461996\n"
     ]
    }
   ],
   "source": [
    "model_dt = dt.fit(xtrain,ytrain)\n",
    "y_pred_test_dt = model_dt.predict(xtest)\n",
    "\n",
    "print(classification_report(ytest, y_pred_test_dt))\n",
    "\n",
    "kappa_test_dt = cohen_kappa_score(ytest, y_pred_test_dt)\n",
    "\n",
    "# Print the kappa score\n",
    "print(\"Cohen's kappa score:\", kappa_test_dt)"
   ]
  },
  {
   "cell_type": "markdown",
   "id": "25a82b72",
   "metadata": {},
   "source": [
    "# Random Forest"
   ]
  },
  {
   "cell_type": "code",
   "execution_count": 88,
   "id": "61596eeb",
   "metadata": {},
   "outputs": [
    {
     "name": "stdout",
     "output_type": "stream",
     "text": [
      "              precision    recall  f1-score   support\n",
      "\n",
      "           0       1.00      1.00      1.00     29466\n",
      "           1       1.00      1.00      1.00     29314\n",
      "\n",
      "    accuracy                           1.00     58780\n",
      "   macro avg       1.00      1.00      1.00     58780\n",
      "weighted avg       1.00      1.00      1.00     58780\n",
      "\n",
      "Cohen's kappa score: 0.9997618221359351\n"
     ]
    }
   ],
   "source": [
    "rf = RandomForestClassifier()\n",
    "model_rf = rf.fit(xtrain,ytrain)\n",
    "y_pred_train_rf = model_rf.predict(xtrain)\n",
    "\n",
    "print(classification_report(ytrain,y_pred_train_rf))\n",
    "\n",
    "kappa_train_rf = cohen_kappa_score(ytrain, y_pred_train_rf)\n",
    "\n",
    "# Print the kappa score\n",
    "print(\"Cohen's kappa score:\", kappa_train_rf)"
   ]
  },
  {
   "cell_type": "code",
   "execution_count": 89,
   "id": "46b2f588",
   "metadata": {},
   "outputs": [
    {
     "name": "stdout",
     "output_type": "stream",
     "text": [
      "              precision    recall  f1-score   support\n",
      "\n",
      "           0       0.87      0.91      0.89     12520\n",
      "           1       0.91      0.87      0.89     12672\n",
      "\n",
      "    accuracy                           0.89     25192\n",
      "   macro avg       0.89      0.89      0.89     25192\n",
      "weighted avg       0.89      0.89      0.89     25192\n",
      "\n",
      "Cohen's kappa score: 0.7780734578890003\n"
     ]
    }
   ],
   "source": [
    "y_pred_test_rf = model_rf.predict(xtest)\n",
    "\n",
    "print(classification_report(ytest, y_pred_test_rf))\n",
    "\n",
    "kappa_test_rf = cohen_kappa_score(ytest, y_pred_test_rf)\n",
    "\n",
    "# Print the kappa score\n",
    "print(\"Cohen's kappa score:\", kappa_test_rf)"
   ]
  },
  {
   "cell_type": "markdown",
   "id": "85bd0e6e",
   "metadata": {},
   "source": [
    "# Adaboost"
   ]
  },
  {
   "cell_type": "code",
   "execution_count": 90,
   "id": "68b5b7af",
   "metadata": {},
   "outputs": [
    {
     "name": "stdout",
     "output_type": "stream",
     "text": [
      "For AdaBoost Train data               precision    recall  f1-score   support\n",
      "\n",
      "           0       0.77      0.73      0.75     29466\n",
      "           1       0.74      0.78      0.76     29314\n",
      "\n",
      "    accuracy                           0.76     58780\n",
      "   macro avg       0.76      0.76      0.76     58780\n",
      "weighted avg       0.76      0.76      0.76     58780\n",
      "\n",
      "Cohen's kappa score for AdaBoost Train data: 0.5115865336497504\n"
     ]
    }
   ],
   "source": [
    "ab = AdaBoostClassifier()\n",
    "model_ab = ab.fit(xtrain,ytrain)\n",
    "y_pred_train_ab = model_ab.predict(xtrain)\n",
    "\n",
    "print('For AdaBoost Train data', classification_report(ytrain,y_pred_train_ab))\n",
    "\n",
    "kappa_train_ab = cohen_kappa_score(ytrain, y_pred_train_ab)\n",
    "\n",
    "# Print the kappa score\n",
    "print(\"Cohen's kappa score for AdaBoost Train data:\", kappa_train_ab)"
   ]
  },
  {
   "cell_type": "code",
   "execution_count": 91,
   "id": "8dd6876e",
   "metadata": {},
   "outputs": [
    {
     "name": "stdout",
     "output_type": "stream",
     "text": [
      "For AdaBoost Test data               precision    recall  f1-score   support\n",
      "\n",
      "           0       0.76      0.73      0.74     12520\n",
      "           1       0.74      0.77      0.75     12672\n",
      "\n",
      "    accuracy                           0.75     25192\n",
      "   macro avg       0.75      0.75      0.75     25192\n",
      "weighted avg       0.75      0.75      0.75     25192\n",
      "\n",
      "Cohen's kappa score for AdaBoost Test data: 0.4964619989212463\n"
     ]
    }
   ],
   "source": [
    "y_pred_test_ab = model_ab.predict(xtest)\n",
    "\n",
    "print('For AdaBoost Test data', classification_report(ytest,y_pred_test_ab))\n",
    "\n",
    "kappa = cohen_kappa_score(ytest, y_pred_test_ab)\n",
    "\n",
    "# Print the kappa score\n",
    "print(\"Cohen's kappa score for AdaBoost Test data:\", kappa)"
   ]
  },
  {
   "cell_type": "markdown",
   "id": "f9c79380",
   "metadata": {},
   "source": [
    "# Knn"
   ]
  },
  {
   "cell_type": "code",
   "execution_count": 92,
   "id": "d6b4e90c",
   "metadata": {},
   "outputs": [
    {
     "name": "stdout",
     "output_type": "stream",
     "text": [
      "For KNN Train data               precision    recall  f1-score   support\n",
      "\n",
      "           0       0.94      0.77      0.84     29466\n",
      "           1       0.80      0.95      0.87     29314\n",
      "\n",
      "    accuracy                           0.86     58780\n",
      "   macro avg       0.87      0.86      0.86     58780\n",
      "weighted avg       0.87      0.86      0.86     58780\n",
      "\n",
      "Cohen's kappa score for KNN Train data: 0.7168061674944739\n"
     ]
    }
   ],
   "source": [
    "kn = KNeighborsClassifier()\n",
    "model_kn = kn.fit(xtrain,ytrain)\n",
    "y_pred_train_kn = model_kn.predict(xtrain)\n",
    "\n",
    "print('For KNN Train data', classification_report(ytrain,y_pred_train_kn))\n",
    "\n",
    "kappa_train_kn = cohen_kappa_score(ytrain, y_pred_train_kn)\n",
    "\n",
    "# Print the kappa score\n",
    "print(\"Cohen's kappa score for KNN Train data:\", kappa_train_kn)"
   ]
  },
  {
   "cell_type": "code",
   "execution_count": 93,
   "id": "c9f9a8ef",
   "metadata": {},
   "outputs": [
    {
     "name": "stdout",
     "output_type": "stream",
     "text": [
      "For Test data               precision    recall  f1-score   support\n",
      "\n",
      "           0       0.89      0.68      0.77     12520\n",
      "           1       0.74      0.92      0.82     12672\n",
      "\n",
      "    accuracy                           0.80     25192\n",
      "   macro avg       0.81      0.80      0.79     25192\n",
      "weighted avg       0.81      0.80      0.79     25192\n",
      "\n",
      "Cohen's kappa score for Test data: 0.59396313807466\n"
     ]
    }
   ],
   "source": [
    "y_pred_test_kn = model_kn.predict(xtest)\n",
    "\n",
    "print('For Test data', classification_report(ytest,y_pred_test_kn))\n",
    "\n",
    "kappa_test_kn = cohen_kappa_score(ytest, y_pred_test_kn)\n",
    "\n",
    "# Print the kappa score\n",
    "print(\"Cohen's kappa score for Test data:\", kappa_test_kn)"
   ]
  },
  {
   "cell_type": "markdown",
   "id": "ac9d04f9",
   "metadata": {},
   "source": [
    "# GradientBoost"
   ]
  },
  {
   "cell_type": "code",
   "execution_count": 94,
   "id": "e1a0231e",
   "metadata": {},
   "outputs": [
    {
     "name": "stdout",
     "output_type": "stream",
     "text": [
      "For GradientBoost Train data               precision    recall  f1-score   support\n",
      "\n",
      "           0       0.80      0.84      0.82     29466\n",
      "           1       0.83      0.79      0.81     29314\n",
      "\n",
      "    accuracy                           0.82     58780\n",
      "   macro avg       0.82      0.82      0.82     58780\n",
      "weighted avg       0.82      0.82      0.82     58780\n",
      "\n",
      "Cohen's kappa score for GradientBoost Train data: 0.6323379469332533\n"
     ]
    }
   ],
   "source": [
    "gb = GradientBoostingClassifier()\n",
    "model_gb = gb.fit(xtrain,ytrain)\n",
    "y_pred_train_gb = model_gb.predict(xtrain)\n",
    "\n",
    "print('For GradientBoost Train data', classification_report(ytrain,y_pred_train_gb))\n",
    "\n",
    "kappa_train_gb = cohen_kappa_score(ytrain, y_pred_train_gb)\n",
    "\n",
    "# Print the kappa score\n",
    "print(\"Cohen's kappa score for GradientBoost Train data:\", kappa_train_gb)"
   ]
  },
  {
   "cell_type": "code",
   "execution_count": 95,
   "id": "bebd9630",
   "metadata": {},
   "outputs": [
    {
     "name": "stdout",
     "output_type": "stream",
     "text": [
      "For Test data               precision    recall  f1-score   support\n",
      "\n",
      "           0       0.79      0.84      0.81     12520\n",
      "           1       0.83      0.77      0.80     12672\n",
      "\n",
      "    accuracy                           0.81     25192\n",
      "   macro avg       0.81      0.81      0.81     25192\n",
      "weighted avg       0.81      0.81      0.81     25192\n",
      "\n",
      "Cohen's kappa score For GradientBoost Test data: 0.6136698582673641\n"
     ]
    }
   ],
   "source": [
    "y_pred_test_gb = model_gb.predict(xtest)\n",
    "\n",
    "print('For Test data', classification_report(ytest,y_pred_test_gb))\n",
    "\n",
    "kappa_test_gb = cohen_kappa_score(ytest, y_pred_test_gb)\n",
    "\n",
    "# Print the kappa score\n",
    "print(\"Cohen's kappa score For GradientBoost Test data:\", kappa_test_gb)"
   ]
  },
  {
   "cell_type": "markdown",
   "id": "03986e53",
   "metadata": {},
   "source": [
    "- Gradient Bosst is the best performing model with very similar performance in both train and test data"
   ]
  },
  {
   "cell_type": "markdown",
   "id": "65cdd661",
   "metadata": {},
   "source": [
    "# Hyper parameter tuning"
   ]
  },
  {
   "cell_type": "code",
   "execution_count": 96,
   "id": "89de2e9d",
   "metadata": {},
   "outputs": [],
   "source": [
    "from sklearn.model_selection import GridSearchCV"
   ]
  },
  {
   "cell_type": "code",
   "execution_count": 97,
   "id": "1ce3925e",
   "metadata": {},
   "outputs": [],
   "source": [
    "param_grid = {\n",
    "    'n_estimators': [50, 100, 200],  # Number of boosting stages\n",
    "    'max_depth': [3, 5, 7],  # Maximum depth of each tree\n",
    "}"
   ]
  },
  {
   "cell_type": "code",
   "execution_count": 98,
   "id": "9d37f9ef",
   "metadata": {},
   "outputs": [],
   "source": [
    "gb = GradientBoostingClassifier(learning_rate=0.1)"
   ]
  },
  {
   "cell_type": "code",
   "execution_count": 99,
   "id": "3487df3a",
   "metadata": {},
   "outputs": [],
   "source": [
    "grid_search = GridSearchCV(estimator = gb, param_grid = param_grid, cv=5, scoring='accuracy')"
   ]
  },
  {
   "cell_type": "code",
   "execution_count": 100,
   "id": "ae590b0c",
   "metadata": {},
   "outputs": [
    {
     "data": {
      "text/html": [
       "<style>#sk-container-id-1 {color: black;background-color: white;}#sk-container-id-1 pre{padding: 0;}#sk-container-id-1 div.sk-toggleable {background-color: white;}#sk-container-id-1 label.sk-toggleable__label {cursor: pointer;display: block;width: 100%;margin-bottom: 0;padding: 0.3em;box-sizing: border-box;text-align: center;}#sk-container-id-1 label.sk-toggleable__label-arrow:before {content: \"▸\";float: left;margin-right: 0.25em;color: #696969;}#sk-container-id-1 label.sk-toggleable__label-arrow:hover:before {color: black;}#sk-container-id-1 div.sk-estimator:hover label.sk-toggleable__label-arrow:before {color: black;}#sk-container-id-1 div.sk-toggleable__content {max-height: 0;max-width: 0;overflow: hidden;text-align: left;background-color: #f0f8ff;}#sk-container-id-1 div.sk-toggleable__content pre {margin: 0.2em;color: black;border-radius: 0.25em;background-color: #f0f8ff;}#sk-container-id-1 input.sk-toggleable__control:checked~div.sk-toggleable__content {max-height: 200px;max-width: 100%;overflow: auto;}#sk-container-id-1 input.sk-toggleable__control:checked~label.sk-toggleable__label-arrow:before {content: \"▾\";}#sk-container-id-1 div.sk-estimator input.sk-toggleable__control:checked~label.sk-toggleable__label {background-color: #d4ebff;}#sk-container-id-1 div.sk-label input.sk-toggleable__control:checked~label.sk-toggleable__label {background-color: #d4ebff;}#sk-container-id-1 input.sk-hidden--visually {border: 0;clip: rect(1px 1px 1px 1px);clip: rect(1px, 1px, 1px, 1px);height: 1px;margin: -1px;overflow: hidden;padding: 0;position: absolute;width: 1px;}#sk-container-id-1 div.sk-estimator {font-family: monospace;background-color: #f0f8ff;border: 1px dotted black;border-radius: 0.25em;box-sizing: border-box;margin-bottom: 0.5em;}#sk-container-id-1 div.sk-estimator:hover {background-color: #d4ebff;}#sk-container-id-1 div.sk-parallel-item::after {content: \"\";width: 100%;border-bottom: 1px solid gray;flex-grow: 1;}#sk-container-id-1 div.sk-label:hover label.sk-toggleable__label {background-color: #d4ebff;}#sk-container-id-1 div.sk-serial::before {content: \"\";position: absolute;border-left: 1px solid gray;box-sizing: border-box;top: 0;bottom: 0;left: 50%;z-index: 0;}#sk-container-id-1 div.sk-serial {display: flex;flex-direction: column;align-items: center;background-color: white;padding-right: 0.2em;padding-left: 0.2em;position: relative;}#sk-container-id-1 div.sk-item {position: relative;z-index: 1;}#sk-container-id-1 div.sk-parallel {display: flex;align-items: stretch;justify-content: center;background-color: white;position: relative;}#sk-container-id-1 div.sk-item::before, #sk-container-id-1 div.sk-parallel-item::before {content: \"\";position: absolute;border-left: 1px solid gray;box-sizing: border-box;top: 0;bottom: 0;left: 50%;z-index: -1;}#sk-container-id-1 div.sk-parallel-item {display: flex;flex-direction: column;z-index: 1;position: relative;background-color: white;}#sk-container-id-1 div.sk-parallel-item:first-child::after {align-self: flex-end;width: 50%;}#sk-container-id-1 div.sk-parallel-item:last-child::after {align-self: flex-start;width: 50%;}#sk-container-id-1 div.sk-parallel-item:only-child::after {width: 0;}#sk-container-id-1 div.sk-dashed-wrapped {border: 1px dashed gray;margin: 0 0.4em 0.5em 0.4em;box-sizing: border-box;padding-bottom: 0.4em;background-color: white;}#sk-container-id-1 div.sk-label label {font-family: monospace;font-weight: bold;display: inline-block;line-height: 1.2em;}#sk-container-id-1 div.sk-label-container {text-align: center;}#sk-container-id-1 div.sk-container {/* jupyter's `normalize.less` sets `[hidden] { display: none; }` but bootstrap.min.css set `[hidden] { display: none !important; }` so we also need the `!important` here to be able to override the default hidden behavior on the sphinx rendered scikit-learn.org. See: https://github.com/scikit-learn/scikit-learn/issues/21755 */display: inline-block !important;position: relative;}#sk-container-id-1 div.sk-text-repr-fallback {display: none;}</style><div id=\"sk-container-id-1\" class=\"sk-top-container\"><div class=\"sk-text-repr-fallback\"><pre>GridSearchCV(cv=5, estimator=GradientBoostingClassifier(),\n",
       "             param_grid={&#x27;max_depth&#x27;: [3, 5, 7],\n",
       "                         &#x27;n_estimators&#x27;: [50, 100, 200]},\n",
       "             scoring=&#x27;accuracy&#x27;)</pre><b>In a Jupyter environment, please rerun this cell to show the HTML representation or trust the notebook. <br />On GitHub, the HTML representation is unable to render, please try loading this page with nbviewer.org.</b></div><div class=\"sk-container\" hidden><div class=\"sk-item sk-dashed-wrapped\"><div class=\"sk-label-container\"><div class=\"sk-label sk-toggleable\"><input class=\"sk-toggleable__control sk-hidden--visually\" id=\"sk-estimator-id-1\" type=\"checkbox\" ><label for=\"sk-estimator-id-1\" class=\"sk-toggleable__label sk-toggleable__label-arrow\">GridSearchCV</label><div class=\"sk-toggleable__content\"><pre>GridSearchCV(cv=5, estimator=GradientBoostingClassifier(),\n",
       "             param_grid={&#x27;max_depth&#x27;: [3, 5, 7],\n",
       "                         &#x27;n_estimators&#x27;: [50, 100, 200]},\n",
       "             scoring=&#x27;accuracy&#x27;)</pre></div></div></div><div class=\"sk-parallel\"><div class=\"sk-parallel-item\"><div class=\"sk-item\"><div class=\"sk-label-container\"><div class=\"sk-label sk-toggleable\"><input class=\"sk-toggleable__control sk-hidden--visually\" id=\"sk-estimator-id-2\" type=\"checkbox\" ><label for=\"sk-estimator-id-2\" class=\"sk-toggleable__label sk-toggleable__label-arrow\">estimator: GradientBoostingClassifier</label><div class=\"sk-toggleable__content\"><pre>GradientBoostingClassifier()</pre></div></div></div><div class=\"sk-serial\"><div class=\"sk-item\"><div class=\"sk-estimator sk-toggleable\"><input class=\"sk-toggleable__control sk-hidden--visually\" id=\"sk-estimator-id-3\" type=\"checkbox\" ><label for=\"sk-estimator-id-3\" class=\"sk-toggleable__label sk-toggleable__label-arrow\">GradientBoostingClassifier</label><div class=\"sk-toggleable__content\"><pre>GradientBoostingClassifier()</pre></div></div></div></div></div></div></div></div></div></div>"
      ],
      "text/plain": [
       "GridSearchCV(cv=5, estimator=GradientBoostingClassifier(),\n",
       "             param_grid={'max_depth': [3, 5, 7],\n",
       "                         'n_estimators': [50, 100, 200]},\n",
       "             scoring='accuracy')"
      ]
     },
     "execution_count": 100,
     "metadata": {},
     "output_type": "execute_result"
    }
   ],
   "source": [
    "grid_search.fit(xtrain, ytrain)"
   ]
  },
  {
   "cell_type": "code",
   "execution_count": 101,
   "id": "88f9f999",
   "metadata": {},
   "outputs": [],
   "source": [
    "best_params = grid_search.best_params_\n",
    "best_model = grid_search.best_estimator_"
   ]
  },
  {
   "cell_type": "code",
   "execution_count": 102,
   "id": "89c166bd",
   "metadata": {},
   "outputs": [
    {
     "name": "stdout",
     "output_type": "stream",
     "text": [
      "For Grid Search Train data               precision    recall  f1-score   support\n",
      "\n",
      "           0       0.87      0.99      0.92     29466\n",
      "           1       0.99      0.85      0.91     29314\n",
      "\n",
      "    accuracy                           0.92     58780\n",
      "   macro avg       0.93      0.92      0.92     58780\n",
      "weighted avg       0.93      0.92      0.92     58780\n",
      "\n",
      "Cohen's kappa score for Grid Search Train Data: 0.8381841898312756\n"
     ]
    }
   ],
   "source": [
    "y_pred_train_gs = best_model.predict(xtrain)\n",
    "\n",
    "print('For Grid Search Train data', classification_report(ytrain,y_pred_train_gs))\n",
    "\n",
    "kappa_train_gs = cohen_kappa_score(ytrain, y_pred_train_gs)\n",
    "\n",
    "# Print the kappa score\n",
    "print(\"Cohen's kappa score for Grid Search Train Data:\", kappa_train_gs)"
   ]
  },
  {
   "cell_type": "code",
   "execution_count": 103,
   "id": "2d998ad6",
   "metadata": {},
   "outputs": [
    {
     "name": "stdout",
     "output_type": "stream",
     "text": [
      "For Grid Search Test data               precision    recall  f1-score   support\n",
      "\n",
      "           0       0.84      0.97      0.90     12520\n",
      "           1       0.97      0.82      0.89     12672\n",
      "\n",
      "    accuracy                           0.90     25192\n",
      "   macro avg       0.91      0.90      0.90     25192\n",
      "weighted avg       0.91      0.90      0.90     25192\n",
      "\n",
      "Cohen's kappa score for Grid Search Test Data: 0.7923430458760631\n"
     ]
    }
   ],
   "source": [
    "y_pred_test_gs = best_model.predict(xtest)\n",
    "\n",
    "print('For Grid Search Test data', classification_report(ytest,y_pred_test_gs))\n",
    "\n",
    "kappa_test_gs = cohen_kappa_score(ytest, y_pred_test_gs)\n",
    "\n",
    "# Print the kappa score\n",
    "print(\"Cohen's kappa score for Grid Search Test Data:\", kappa_test_gs)"
   ]
  },
  {
   "cell_type": "code",
   "execution_count": 105,
   "id": "bceefc4b",
   "metadata": {},
   "outputs": [],
   "source": [
    "from sklearn.metrics import confusion_matrix"
   ]
  },
  {
   "cell_type": "code",
   "execution_count": 106,
   "id": "c67b28dc",
   "metadata": {},
   "outputs": [
    {
     "data": {
      "text/plain": [
       "array([[12188,   332],\n",
       "       [ 2286, 10386]], dtype=int64)"
      ]
     },
     "execution_count": 106,
     "metadata": {},
     "output_type": "execute_result"
    }
   ],
   "source": [
    "confusion_matrix(ytest, y_pred_test_gs)"
   ]
  },
  {
   "cell_type": "code",
   "execution_count": 107,
   "id": "9662418b",
   "metadata": {},
   "outputs": [],
   "source": [
    "from sklearn.metrics import roc_auc_score, roc_curve"
   ]
  },
  {
   "cell_type": "code",
   "execution_count": 108,
   "id": "aa45eda8",
   "metadata": {},
   "outputs": [
    {
     "data": {
      "text/plain": [
       "0.8965423504211443"
      ]
     },
     "execution_count": 108,
     "metadata": {},
     "output_type": "execute_result"
    }
   ],
   "source": [
    "roc_auc_score(ytest,y_pred_test_gs)"
   ]
  },
  {
   "cell_type": "code",
   "execution_count": 109,
   "id": "05532bd9",
   "metadata": {},
   "outputs": [
    {
     "data": {
      "image/png": "[encoded data removed]",
      "text/plain": [
       "<Figure size 640x480 with 1 Axes>"
      ]
     },
     "metadata": {},
     "output_type": "display_data"
    }
   ],
   "source": [
    "# Get the predicted probabilities for the positive class\n",
    "yscores = best_model.predict_proba(xtest)[:, 1]\n",
    "\n",
    "# Calculate the false positive rate (FPR), true positive rate (TPR), and thresholds\n",
    "fpr, tpr, thresholds = roc_curve(ytest, yscores)\n",
    "\n",
    "# Calculate the Area Under the Curve (AUC)\n",
    "auc = roc_auc_score(ytest, yscores)\n",
    "\n",
    "# Plot the ROC curve\n",
    "plt.plot(fpr, tpr, label='ROC curve (AUC = %0.2f)' % auc)\n",
    "plt.plot([0, 1], [0, 1], 'k--')  # Diagonal line for random classifier\n",
    "plt.xlabel('False Positive Rate')\n",
    "plt.ylabel('True Positive Rate')\n",
    "plt.title('Receiver Operating Characteristic (ROC) Curve')\n",
    "plt.legend(loc='lower right')\n",
    "plt.show()"
   ]
  },
  {
   "cell_type": "code",
   "execution_count": 126,
   "id": "26cbdee5",
   "metadata": {},
   "outputs": [],
   "source": [
    "# Create a confusion matrix\n",
    "cm_train = confusion_matrix(ytrain, y_pred_train_gs)\n",
    "\n",
    "# Get the class labels from your data\n",
    "labels = ['Class 0', 'Class 1']  # Replace with your class labels\n",
    "\n",
    "# Create a DataFrame from the confusion matrix\n",
    "cm_df_train = pd.DataFrame(cm_train, index=labels, columns=labels)"
   ]
  },
  {
   "cell_type": "code",
   "execution_count": 127,
   "id": "f4f562be",
   "metadata": {},
   "outputs": [
    {
     "data": {
      "image/png": "[encoded data removed]",
      "text/plain": [
       "<Figure size 500x300 with 2 Axes>"
      ]
     },
     "metadata": {},
     "output_type": "display_data"
    }
   ],
   "source": [
    "# Create a heatmap using seaborn\n",
    "plt.figure(figsize=(5, 3))\n",
    "sns.heatmap(cm_df_train, annot=True, fmt='d', cmap='Blues')\n",
    "plt.title('Confusion Matrix for Train data')\n",
    "plt.xlabel('Predicted Labels')\n",
    "plt.ylabel('True Labels')\n",
    "plt.show()"
   ]
  },
  {
   "cell_type": "code",
   "execution_count": 131,
   "id": "a863f8ff",
   "metadata": {},
   "outputs": [],
   "source": [
    "# Create a confusion matrix\n",
    "cm_test = confusion_matrix(ytest, y_pred_test_gs)\n",
    "\n",
    "# Class Labels\n",
    "labels = ['Class 0', 'Class 1']\n",
    "\n",
    "# Create a DataFrame from the confusion matrix\n",
    "cm_df_test = pd.DataFrame(cm_test, index=labels, columns=labels)"
   ]
  },
  {
   "cell_type": "code",
   "execution_count": 132,
   "id": "332ba26a",
   "metadata": {},
   "outputs": [
    {
     "data": {
      "image/png": "[encoded data removed]",
      "text/plain": [
       "<Figure size 500x300 with 2 Axes>"
      ]
     },
     "metadata": {},
     "output_type": "display_data"
    }
   ],
   "source": [
    "# Create a heatmap using seaborn\n",
    "plt.figure(figsize=(5, 3))\n",
    "sns.heatmap(cm_df_test, annot=True, fmt='d', cmap='Blues')\n",
    "plt.title('Confusion Matrix for Test data')\n",
    "plt.xlabel('Predicted Labels')\n",
    "plt.ylabel('True Labels')\n",
    "plt.show()"
   ]
  },
  {
   "cell_type": "code",
   "execution_count": 129,
   "id": "e7cf7cd8",
   "metadata": {},
   "outputs": [
    {
     "name": "stdout",
     "output_type": "stream",
     "text": [
      "For Train data\n",
      "Type 1 Error (False Positive Rate): 0.010316975497183195\n",
      "Type 2 Error (False Negative Rate): 0.15180459848536534\n"
     ]
    }
   ],
   "source": [
    "# Calculate True Positives (TP)\n",
    "tp = cm_train[1, 1]\n",
    "\n",
    "# Calculate False Positives (FP)\n",
    "fp = cm_train[0, 1]\n",
    "\n",
    "# Calculate True Negatives (TN)\n",
    "tn = cm_train[0, 0]\n",
    "\n",
    "# Calculate False Negatives (FN)\n",
    "fn = cm_train[1, 0]\n",
    "\n",
    "# Calculate Type 1 Error (False Positive Rate)\n",
    "type1_error = fp / (fp + tn)\n",
    "\n",
    "# Calculate Type 2 Error (False Negative Rate)\n",
    "type2_error = fn / (fn + tp)\n",
    "\n",
    "print('For Train data')\n",
    "print(\"Type 1 Error (False Positive Rate):\", type1_error)\n",
    "print(\"Type 2 Error (False Negative Rate):\", type2_error)"
   ]
  },
  {
   "cell_type": "markdown",
   "id": "225a6d56",
   "metadata": {},
   "source": [
    "# Feature Importance according to the Best Model"
   ]
  },
  {
   "cell_type": "code",
   "execution_count": 125,
   "id": "294d2ad0",
   "metadata": {},
   "outputs": [
    {
     "data": {
      "image/png": "[encoded data removed]",
      "text/plain": [
       "<Figure size 1000x500 with 1 Axes>"
      ]
     },
     "metadata": {},
     "output_type": "display_data"
    }
   ],
   "source": [
    "plt.figure(figsize=(10,5))\n",
    "sorted_idx = best_model.feature_importances_.argsort()\n",
    "plt.barh(fdf.iloc[:,:-1].columns[sorted_idx], best_model.feature_importances_[sorted_idx])\n",
    "plt.xlabel(\"Hyper parameter tuned Gradient boosting Feature Importance\")\n",
    "plt.show()"
   ]
  },
  {
   "cell_type": "markdown",
   "id": "9c96bbdf",
   "metadata": {},
   "source": [
    "# Insights"
   ]
  },
  {
   "cell_type": "markdown",
   "id": "4042ba47",
   "metadata": {},
   "source": [
    "* We could conclude that passengers intending to stay for longer period of time are more likely to book a holiday with British Airways.\n",
    "* Considering the fact that all the data is of Trip Type = 'Round Trip', It could probably mean that the overall fare prices are considerably affordable in British Airways compared to their competitors when booking a Round Trip.\n",
    "* And that, most of the booking origin is from Asian countries."
   ]
  },
  {
   "cell_type": "code",
   "execution_count": null,
   "id": "d17f3df9",
   "metadata": {},
   "outputs": [],
   "source": []
  }
 ],
 "metadata": {
  "kernelspec": {
   "display_name": "Python 3 (ipykernel)",
   "language": "python",
   "name": "python3"
  },
  "language_info": {
   "codemirror_mode": {
    "name": "ipython",
    "version": 3
   },
   "file_extension": ".py",
   "mimetype": "text/x-python",
   "name": "python",
   "nbconvert_exporter": "python",
   "pygments_lexer": "ipython3",
   "version": "3.10.9"
  }
 },
 "nbformat": 4,
 "nbformat_minor": 5
}
